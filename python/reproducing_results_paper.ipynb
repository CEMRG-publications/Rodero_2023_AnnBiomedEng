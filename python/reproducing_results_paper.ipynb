{
 "cells": [
  {
   "cell_type": "markdown",
   "metadata": {},
   "source": [
    "# Initial GPEs \n",
    "\n",
    "We compute the $R^2$ and $\\% ISE$ values:"
   ]
  },
  {
   "cell_type": "code",
   "execution_count": 26,
   "metadata": {},
   "outputs": [
    {
     "name": "stdout",
     "output_type": "stream",
     "text": [
      "\n",
      "Statistics on test set for GPE trained for the output LVV:\n",
      "  R2 = 1.00\n",
      "  %ISE = 100.00 %\n",
      "\n",
      "\n",
      "Statistics on test set for GPE trained for the output RVV:\n",
      "  R2 = 1.00\n",
      "  %ISE = 100.00 %\n",
      "\n",
      "\n",
      "Statistics on test set for GPE trained for the output LAV:\n",
      "  R2 = 1.00\n",
      "  %ISE = 100.00 %\n",
      "\n",
      "\n",
      "Statistics on test set for GPE trained for the output RAV:\n",
      "  R2 = 1.00\n",
      "  %ISE = 100.00 %\n",
      "\n",
      "\n",
      "Statistics on test set for GPE trained for the output LVOTdiam:\n",
      "  R2 = 1.00\n",
      "  %ISE = 100.00 %\n",
      "\n",
      "\n",
      "Statistics on test set for GPE trained for the output RVOTdiam:\n",
      "  R2 = 1.00\n",
      "  %ISE = 100.00 %\n",
      "\n",
      "\n",
      "Statistics on test set for GPE trained for the output LVmass:\n",
      "  R2 = 1.00\n",
      "  %ISE = 100.00 %\n",
      "\n",
      "\n",
      "Statistics on test set for GPE trained for the output LVWT:\n",
      "  R2 = 1.00\n",
      "  %ISE = 100.00 %\n",
      "\n",
      "\n",
      "Statistics on test set for GPE trained for the output LVEDD:\n",
      "  R2 = 1.00\n",
      "  %ISE = 100.00 %\n",
      "\n",
      "\n",
      "Statistics on test set for GPE trained for the output SeptumWT:\n",
      "  R2 = 1.00\n",
      "  %ISE = 100.00 %\n",
      "\n",
      "\n",
      "Statistics on test set for GPE trained for the output RVlongdiam:\n",
      "  R2 = 1.00\n",
      "  %ISE = 100.00 %\n",
      "\n",
      "\n",
      "Statistics on test set for GPE trained for the output TAT:\n",
      "  R2 = 1.00\n",
      "  %ISE = 100.00 %\n",
      "\n",
      "\n",
      "Statistics on test set for GPE trained for the output TATLVendo:\n",
      "  R2 = 0.99\n",
      "  %ISE = 100.00 %\n",
      "\n"
     ]
    }
   ],
   "source": [
    "import postprocessing\n",
    "\n",
    "R2score_vec, ISE_vec = postprocessing.compute_R2_ISE()"
   ]
  },
  {
   "cell_type": "markdown",
   "metadata": {},
   "source": [
    "> The maximum scores were achieved for all the emulators, except for the emulator of the TAT that achieved \\(R^2=0.99\\) and TATLV\\textsubscript{endo} that achieved a \\(ISE=98.86\\%\\). "
   ]
  },
  {
   "cell_type": "markdown",
   "metadata": {},
   "source": [
    "# Global Sensitivity Analysis\n",
    "\n",
    "> First-order effects of the GSA when modifying anatomical and functional parameters are presented in Fig 5.4.\n",
    "\n",
    "<img src=\"./figures/GSA1_small.png\"  width=\"70%\" />"
   ]
  },
  {
   "cell_type": "markdown",
   "metadata": {},
   "source": [
    "The image above was built in PPT, putting together individual pies. To print all the single pies, run:"
   ]
  },
  {
   "cell_type": "code",
   "execution_count": 27,
   "metadata": {
    "slideshow": {
     "slide_type": "-"
    }
   },
   "outputs": [
    {
     "name": "stderr",
     "output_type": "stream",
     "text": [
      "/home/crg17/Desktop/KCL_projects/fitting/python/postprocessing.py:954: FutureWarning: elementwise comparison failed; returning scalar instead, but in the future will perform elementwise comparison\n",
      "  if input_labels == []:\n"
     ]
    },
    {
     "ename": "KeyboardInterrupt",
     "evalue": "",
     "output_type": "error",
     "traceback": [
      "\u001b[0;31m---------------------------------------------------------------------------\u001b[0m",
      "\u001b[0;31mKeyboardInterrupt\u001b[0m                         Traceback (most recent call last)",
      "Input \u001b[0;32mIn [27]\u001b[0m, in \u001b[0;36m<cell line: 5>\u001b[0;34m()\u001b[0m\n\u001b[1;32m      2\u001b[0m \u001b[38;5;28;01mimport\u001b[39;00m \u001b[38;5;21;01mnumpy\u001b[39;00m \u001b[38;5;28;01mas\u001b[39;00m \u001b[38;5;21;01mnp\u001b[39;00m\n\u001b[1;32m      4\u001b[0m input_labels\u001b[38;5;241m=\u001b[39mnp\u001b[38;5;241m.\u001b[39mgenfromtxt(\u001b[38;5;124m\"\u001b[39m\u001b[38;5;124m/media/crg17/Seagate Expansion Drive/param_labels.txt\u001b[39m\u001b[38;5;124m\"\u001b[39m, dtype\u001b[38;5;241m=\u001b[39m\u001b[38;5;124m\"\u001b[39m\u001b[38;5;124mstr\u001b[39m\u001b[38;5;124m\"\u001b[39m, delimiter\u001b[38;5;241m=\u001b[39m\u001b[38;5;124m\"\u001b[39m\u001b[38;5;130;01m\\n\u001b[39;00m\u001b[38;5;124m\"\u001b[39m)\n\u001b[0;32m----> 5\u001b[0m \u001b[43mpostprocessing\u001b[49m\u001b[38;5;241;43m.\u001b[39;49m\u001b[43mfull_GSA\u001b[49m\u001b[43m(\u001b[49m\u001b[43msubfolder\u001b[49m\u001b[38;5;241;43m=\u001b[39;49m\u001b[38;5;124;43m\"\u001b[39;49m\u001b[38;5;124;43minitial_sweep\u001b[39;49m\u001b[38;5;124;43m\"\u001b[39;49m\u001b[43m,\u001b[49m\u001b[43m \u001b[49m\u001b[43moutput_labels_dir\u001b[49m\u001b[38;5;241;43m=\u001b[39;49m\u001b[38;5;124;43m\"\u001b[39;49m\u001b[38;5;124;43m/media/crg17/Seagate Expansion Drive/biomarkers_labels.txt\u001b[39;49m\u001b[38;5;124;43m\"\u001b[39;49m\u001b[43m,\u001b[49m\u001b[43m \u001b[49m\u001b[43minput_labels\u001b[49m\u001b[38;5;241;43m=\u001b[39;49m\u001b[43minput_labels\u001b[49m\u001b[43m,\u001b[49m\u001b[43m \u001b[49m\u001b[43mfirst_order\u001b[49m\u001b[38;5;241;43m=\u001b[39;49m\u001b[38;5;28;43;01mTrue\u001b[39;49;00m\u001b[43m,\u001b[49m\u001b[43m \u001b[49m\u001b[43msecond_order\u001b[49m\u001b[38;5;241;43m=\u001b[39;49m\u001b[38;5;28;43;01mFalse\u001b[39;49;00m\u001b[43m)\u001b[49m\n",
      "File \u001b[0;32m~/Desktop/KCL_projects/fitting/python/postprocessing.py:1036\u001b[0m, in \u001b[0;36mfull_GSA\u001b[0;34m(subfolder, output_labels_dir, input_labels, first_order, second_order)\u001b[0m\n\u001b[1;32m   1033\u001b[0m \u001b[38;5;28;01melse\u001b[39;00m:\n\u001b[1;32m   1034\u001b[0m     flag_Sobol \u001b[38;5;241m=\u001b[39m \u001b[38;5;28;01mTrue\u001b[39;00m\n\u001b[0;32m-> 1036\u001b[0m \u001b[43mGSA\u001b[49m\u001b[43m(\u001b[49m\u001b[43mfeature\u001b[49m\u001b[43m \u001b[49m\u001b[38;5;241;43m=\u001b[39;49m\u001b[43m \u001b[49m\u001b[43moutput_labels\u001b[49m\u001b[43m[\u001b[49m\u001b[43mi\u001b[49m\u001b[43m]\u001b[49m\u001b[43m,\u001b[49m\u001b[43m \u001b[49m\u001b[43mgenerate_Sobol\u001b[49m\u001b[43m \u001b[49m\u001b[38;5;241;43m=\u001b[39;49m\u001b[43m \u001b[49m\u001b[43mflag_Sobol\u001b[49m\u001b[43m,\u001b[49m\n\u001b[1;32m   1037\u001b[0m \u001b[43m\u001b[49m\u001b[43msubfolder\u001b[49m\u001b[43m \u001b[49m\u001b[38;5;241;43m=\u001b[39;49m\u001b[43m \u001b[49m\u001b[43msubfolder\u001b[49m\u001b[43m,\u001b[49m\u001b[43m \u001b[49m\u001b[43minput_labels\u001b[49m\u001b[43m \u001b[49m\u001b[38;5;241;43m=\u001b[39;49m\u001b[43m \u001b[49m\u001b[43minput_labels\u001b[49m\u001b[43m,\u001b[49m\u001b[43m \u001b[49m\u001b[43mfirst_order\u001b[49m\u001b[38;5;241;43m=\u001b[39;49m\u001b[43mfirst_order\u001b[49m\u001b[43m,\u001b[49m\u001b[43m \u001b[49m\u001b[43msecond_order\u001b[49m\u001b[38;5;241;43m=\u001b[39;49m\u001b[43msecond_order\u001b[49m\u001b[43m)\u001b[49m\n",
      "File \u001b[0;32m~/Desktop/KCL_projects/fitting/python/postprocessing.py:1006\u001b[0m, in \u001b[0;36mGSA\u001b[0;34m(feature, generate_Sobol, subfolder, input_labels, first_order, second_order)\u001b[0m\n\u001b[1;32m   1004\u001b[0m     plotting\u001b[38;5;241m.\u001b[39mgsa_network(ST, S1, S2, index_i, index_ij, ylabel \u001b[38;5;241m=\u001b[39m feature \u001b[38;5;241m+\u001b[39m \u001b[38;5;124m\"\u001b[39m\u001b[38;5;124m_training\u001b[39m\u001b[38;5;124m\"\u001b[39m, savepath \u001b[38;5;241m=\u001b[39m in_out_path \u001b[38;5;241m+\u001b[39m \u001b[38;5;124m\"\u001b[39m\u001b[38;5;124m/figures/\u001b[39m\u001b[38;5;124m\"\u001b[39m, correction\u001b[38;5;241m=\u001b[39mthre)\n\u001b[1;32m   1005\u001b[0m \u001b[38;5;28;01mif\u001b[39;00m first_order:\n\u001b[0;32m-> 1006\u001b[0m     \u001b[43mgsa_donut_single\u001b[49m\u001b[43m(\u001b[49m\u001b[43mST\u001b[49m\u001b[43m,\u001b[49m\u001b[43m \u001b[49m\u001b[43mS1\u001b[49m\u001b[43m,\u001b[49m\u001b[43m \u001b[49m\u001b[43mindex_i\u001b[49m\u001b[43m,\u001b[49m\u001b[43m \u001b[49m\u001b[43mfeature\u001b[49m\u001b[43m \u001b[49m\u001b[38;5;241;43m=\u001b[39;49m\u001b[43m \u001b[49m\u001b[43mfeature\u001b[49m\u001b[43m,\u001b[49m\u001b[43m \u001b[49m\u001b[43msavepath\u001b[49m\u001b[43m \u001b[49m\u001b[38;5;241;43m=\u001b[39;49m\u001b[43m \u001b[49m\u001b[43min_out_path\u001b[49m\u001b[43m \u001b[49m\u001b[38;5;241;43m+\u001b[39;49m\u001b[43m \u001b[49m\u001b[38;5;124;43m\"\u001b[39;49m\u001b[38;5;124;43m/figures/\u001b[39;49m\u001b[38;5;124;43m\"\u001b[39;49m\u001b[43m,\u001b[49m\u001b[43m \u001b[49m\u001b[43mcorrection\u001b[49m\u001b[38;5;241;43m=\u001b[39;49m\u001b[43mthre\u001b[49m\u001b[43m)\u001b[49m\n",
      "File \u001b[0;32m~/Desktop/KCL_projects/fitting/python/postprocessing.py:1381\u001b[0m, in \u001b[0;36mgsa_donut_single\u001b[0;34m(ST, S1, index_i, feature, savepath, correction)\u001b[0m\n\u001b[1;32m   1377\u001b[0m     \u001b[38;5;28;01melse\u001b[39;00m:\n\u001b[1;32m   1378\u001b[0m         axes\u001b[38;5;241m.\u001b[39mannotate(x_si_labels_combined[i], xy\u001b[38;5;241m=\u001b[39m(x, y), xytext\u001b[38;5;241m=\u001b[39m(\u001b[38;5;241m1.2\u001b[39m\u001b[38;5;241m*\u001b[39mx, \u001b[38;5;241m1.2\u001b[39m\u001b[38;5;241m*\u001b[39my),\n\u001b[1;32m   1379\u001b[0m                 horizontalalignment\u001b[38;5;241m=\u001b[39mhorizontalalignment, \u001b[38;5;241m*\u001b[39m\u001b[38;5;241m*\u001b[39mkw, size\u001b[38;5;241m=\u001b[39m\u001b[38;5;241m10\u001b[39m)\n\u001b[0;32m-> 1381\u001b[0m \u001b[43mplt\u001b[49m\u001b[38;5;241;43m.\u001b[39;49m\u001b[43msavefig\u001b[49m\u001b[43m(\u001b[49m\n\u001b[1;32m   1382\u001b[0m \u001b[43m    \u001b[49m\u001b[43msavepath\u001b[49m\u001b[43m \u001b[49m\u001b[38;5;241;43m+\u001b[39;49m\u001b[43m \u001b[49m\u001b[43mfeature\u001b[49m\u001b[43m \u001b[49m\u001b[38;5;241;43m+\u001b[39;49m\u001b[43m \u001b[49m\u001b[38;5;124;43m\"\u001b[39;49m\u001b[38;5;124;43m_first_order_effects.png\u001b[39;49m\u001b[38;5;124;43m\"\u001b[39;49m\u001b[43m,\u001b[49m\u001b[43m \u001b[49m\u001b[43mbbox_inches\u001b[49m\u001b[38;5;241;43m=\u001b[39;49m\u001b[38;5;124;43m\"\u001b[39;49m\u001b[38;5;124;43mtight\u001b[39;49m\u001b[38;5;124;43m\"\u001b[39;49m\u001b[43m,\u001b[49m\u001b[43m \u001b[49m\u001b[43mdpi\u001b[49m\u001b[38;5;241;43m=\u001b[39;49m\u001b[38;5;241;43m300\u001b[39;49m\n\u001b[1;32m   1383\u001b[0m \u001b[43m\u001b[49m\u001b[43m)\u001b[49m\n",
      "File \u001b[0;32m~/Desktop/KCL_projects/fitting/python/Historia/venv/lib/python3.8/site-packages/matplotlib/pyplot.py:966\u001b[0m, in \u001b[0;36msavefig\u001b[0;34m(*args, **kwargs)\u001b[0m\n\u001b[1;32m    963\u001b[0m \u001b[38;5;129m@_copy_docstring_and_deprecators\u001b[39m(Figure\u001b[38;5;241m.\u001b[39msavefig)\n\u001b[1;32m    964\u001b[0m \u001b[38;5;28;01mdef\u001b[39;00m \u001b[38;5;21msavefig\u001b[39m(\u001b[38;5;241m*\u001b[39margs, \u001b[38;5;241m*\u001b[39m\u001b[38;5;241m*\u001b[39mkwargs):\n\u001b[1;32m    965\u001b[0m     fig \u001b[38;5;241m=\u001b[39m gcf()\n\u001b[0;32m--> 966\u001b[0m     res \u001b[38;5;241m=\u001b[39m \u001b[43mfig\u001b[49m\u001b[38;5;241;43m.\u001b[39;49m\u001b[43msavefig\u001b[49m\u001b[43m(\u001b[49m\u001b[38;5;241;43m*\u001b[39;49m\u001b[43margs\u001b[49m\u001b[43m,\u001b[49m\u001b[43m \u001b[49m\u001b[38;5;241;43m*\u001b[39;49m\u001b[38;5;241;43m*\u001b[39;49m\u001b[43mkwargs\u001b[49m\u001b[43m)\u001b[49m\n\u001b[1;32m    967\u001b[0m     fig\u001b[38;5;241m.\u001b[39mcanvas\u001b[38;5;241m.\u001b[39mdraw_idle()   \u001b[38;5;66;03m# need this if 'transparent=True' to reset colors\u001b[39;00m\n\u001b[1;32m    968\u001b[0m     \u001b[38;5;28;01mreturn\u001b[39;00m res\n",
      "File \u001b[0;32m~/Desktop/KCL_projects/fitting/python/Historia/venv/lib/python3.8/site-packages/matplotlib/figure.py:3005\u001b[0m, in \u001b[0;36mFigure.savefig\u001b[0;34m(self, fname, transparent, **kwargs)\u001b[0m\n\u001b[1;32m   3002\u001b[0m         patch\u001b[38;5;241m.\u001b[39mset_facecolor(\u001b[38;5;124m'\u001b[39m\u001b[38;5;124mnone\u001b[39m\u001b[38;5;124m'\u001b[39m)\n\u001b[1;32m   3003\u001b[0m         patch\u001b[38;5;241m.\u001b[39mset_edgecolor(\u001b[38;5;124m'\u001b[39m\u001b[38;5;124mnone\u001b[39m\u001b[38;5;124m'\u001b[39m)\n\u001b[0;32m-> 3005\u001b[0m \u001b[38;5;28;43mself\u001b[39;49m\u001b[38;5;241;43m.\u001b[39;49m\u001b[43mcanvas\u001b[49m\u001b[38;5;241;43m.\u001b[39;49m\u001b[43mprint_figure\u001b[49m\u001b[43m(\u001b[49m\u001b[43mfname\u001b[49m\u001b[43m,\u001b[49m\u001b[43m \u001b[49m\u001b[38;5;241;43m*\u001b[39;49m\u001b[38;5;241;43m*\u001b[39;49m\u001b[43mkwargs\u001b[49m\u001b[43m)\u001b[49m\n\u001b[1;32m   3007\u001b[0m \u001b[38;5;28;01mif\u001b[39;00m transparent:\n\u001b[1;32m   3008\u001b[0m     \u001b[38;5;28;01mfor\u001b[39;00m ax, cc \u001b[38;5;129;01min\u001b[39;00m \u001b[38;5;28mzip\u001b[39m(\u001b[38;5;28mself\u001b[39m\u001b[38;5;241m.\u001b[39maxes, original_axes_colors):\n",
      "File \u001b[0;32m~/Desktop/KCL_projects/fitting/python/Historia/venv/lib/python3.8/site-packages/matplotlib/backend_bases.py:2234\u001b[0m, in \u001b[0;36mFigureCanvasBase.print_figure\u001b[0;34m(self, filename, dpi, facecolor, edgecolor, orientation, format, bbox_inches, pad_inches, bbox_extra_artists, backend, **kwargs)\u001b[0m\n\u001b[1;32m   2232\u001b[0m \u001b[38;5;28;01mif\u001b[39;00m bbox_inches:\n\u001b[1;32m   2233\u001b[0m     \u001b[38;5;28;01mif\u001b[39;00m bbox_inches \u001b[38;5;241m==\u001b[39m \u001b[38;5;124m\"\u001b[39m\u001b[38;5;124mtight\u001b[39m\u001b[38;5;124m\"\u001b[39m:\n\u001b[0;32m-> 2234\u001b[0m         bbox_inches \u001b[38;5;241m=\u001b[39m \u001b[38;5;28;43mself\u001b[39;49m\u001b[38;5;241;43m.\u001b[39;49m\u001b[43mfigure\u001b[49m\u001b[38;5;241;43m.\u001b[39;49m\u001b[43mget_tightbbox\u001b[49m\u001b[43m(\u001b[49m\n\u001b[1;32m   2235\u001b[0m \u001b[43m            \u001b[49m\u001b[43mrenderer\u001b[49m\u001b[43m,\u001b[49m\u001b[43m \u001b[49m\u001b[43mbbox_extra_artists\u001b[49m\u001b[38;5;241;43m=\u001b[39;49m\u001b[43mbbox_extra_artists\u001b[49m\u001b[43m)\u001b[49m\n\u001b[1;32m   2236\u001b[0m         \u001b[38;5;28;01mif\u001b[39;00m pad_inches \u001b[38;5;129;01mis\u001b[39;00m \u001b[38;5;28;01mNone\u001b[39;00m:\n\u001b[1;32m   2237\u001b[0m             pad_inches \u001b[38;5;241m=\u001b[39m rcParams[\u001b[38;5;124m'\u001b[39m\u001b[38;5;124msavefig.pad_inches\u001b[39m\u001b[38;5;124m'\u001b[39m]\n",
      "File \u001b[0;32m~/Desktop/KCL_projects/fitting/python/Historia/venv/lib/python3.8/site-packages/matplotlib/figure.py:1636\u001b[0m, in \u001b[0;36mFigureBase.get_tightbbox\u001b[0;34m(self, renderer, bbox_extra_artists)\u001b[0m\n\u001b[1;32m   1633\u001b[0m     artists \u001b[38;5;241m=\u001b[39m bbox_extra_artists\n\u001b[1;32m   1635\u001b[0m \u001b[38;5;28;01mfor\u001b[39;00m a \u001b[38;5;129;01min\u001b[39;00m artists:\n\u001b[0;32m-> 1636\u001b[0m     bbox \u001b[38;5;241m=\u001b[39m \u001b[43ma\u001b[49m\u001b[38;5;241;43m.\u001b[39;49m\u001b[43mget_tightbbox\u001b[49m\u001b[43m(\u001b[49m\u001b[43mrenderer\u001b[49m\u001b[43m)\u001b[49m\n\u001b[1;32m   1637\u001b[0m     \u001b[38;5;28;01mif\u001b[39;00m bbox \u001b[38;5;129;01mis\u001b[39;00m \u001b[38;5;129;01mnot\u001b[39;00m \u001b[38;5;28;01mNone\u001b[39;00m \u001b[38;5;129;01mand\u001b[39;00m (bbox\u001b[38;5;241m.\u001b[39mwidth \u001b[38;5;241m!=\u001b[39m \u001b[38;5;241m0\u001b[39m \u001b[38;5;129;01mor\u001b[39;00m bbox\u001b[38;5;241m.\u001b[39mheight \u001b[38;5;241m!=\u001b[39m \u001b[38;5;241m0\u001b[39m):\n\u001b[1;32m   1638\u001b[0m         bb\u001b[38;5;241m.\u001b[39mappend(bbox)\n",
      "File \u001b[0;32m~/Desktop/KCL_projects/fitting/python/Historia/venv/lib/python3.8/site-packages/matplotlib/text.py:2002\u001b[0m, in \u001b[0;36mAnnotation.get_tightbbox\u001b[0;34m(self, renderer)\u001b[0m\n\u001b[1;32m   2000\u001b[0m \u001b[38;5;28;01mif\u001b[39;00m \u001b[38;5;129;01mnot\u001b[39;00m \u001b[38;5;28mself\u001b[39m\u001b[38;5;241m.\u001b[39m_check_xy(renderer):\n\u001b[1;32m   2001\u001b[0m     \u001b[38;5;28;01mreturn\u001b[39;00m Bbox\u001b[38;5;241m.\u001b[39mnull()\n\u001b[0;32m-> 2002\u001b[0m \u001b[38;5;28;01mreturn\u001b[39;00m \u001b[38;5;28;43msuper\u001b[39;49m\u001b[43m(\u001b[49m\u001b[43m)\u001b[49m\u001b[38;5;241;43m.\u001b[39;49m\u001b[43mget_tightbbox\u001b[49m\u001b[43m(\u001b[49m\u001b[43mrenderer\u001b[49m\u001b[43m)\u001b[49m\n",
      "File \u001b[0;32m~/Desktop/KCL_projects/fitting/python/Historia/venv/lib/python3.8/site-packages/matplotlib/artist.py:306\u001b[0m, in \u001b[0;36mArtist.get_tightbbox\u001b[0;34m(self, renderer)\u001b[0m\n\u001b[1;32m    291\u001b[0m \u001b[38;5;28;01mdef\u001b[39;00m \u001b[38;5;21mget_tightbbox\u001b[39m(\u001b[38;5;28mself\u001b[39m, renderer):\n\u001b[1;32m    292\u001b[0m     \u001b[38;5;124;03m\"\"\"\u001b[39;00m\n\u001b[1;32m    293\u001b[0m \u001b[38;5;124;03m    Like `.Artist.get_window_extent`, but includes any clipping.\u001b[39;00m\n\u001b[1;32m    294\u001b[0m \n\u001b[0;32m   (...)\u001b[0m\n\u001b[1;32m    304\u001b[0m \u001b[38;5;124;03m        The enclosing bounding box (in figure pixel coordinates).\u001b[39;00m\n\u001b[1;32m    305\u001b[0m \u001b[38;5;124;03m    \"\"\"\u001b[39;00m\n\u001b[0;32m--> 306\u001b[0m     bbox \u001b[38;5;241m=\u001b[39m \u001b[38;5;28;43mself\u001b[39;49m\u001b[38;5;241;43m.\u001b[39;49m\u001b[43mget_window_extent\u001b[49m\u001b[43m(\u001b[49m\u001b[43mrenderer\u001b[49m\u001b[43m)\u001b[49m\n\u001b[1;32m    307\u001b[0m     \u001b[38;5;28;01mif\u001b[39;00m \u001b[38;5;28mself\u001b[39m\u001b[38;5;241m.\u001b[39mget_clip_on():\n\u001b[1;32m    308\u001b[0m         clip_box \u001b[38;5;241m=\u001b[39m \u001b[38;5;28mself\u001b[39m\u001b[38;5;241m.\u001b[39mget_clip_box()\n",
      "File \u001b[0;32m~/Desktop/KCL_projects/fitting/python/Historia/venv/lib/python3.8/site-packages/matplotlib/text.py:1994\u001b[0m, in \u001b[0;36mAnnotation.get_window_extent\u001b[0;34m(self, renderer)\u001b[0m\n\u001b[1;32m   1991\u001b[0m bboxes \u001b[38;5;241m=\u001b[39m [text_bbox]\n\u001b[1;32m   1993\u001b[0m \u001b[38;5;28;01mif\u001b[39;00m \u001b[38;5;28mself\u001b[39m\u001b[38;5;241m.\u001b[39marrow_patch \u001b[38;5;129;01mis\u001b[39;00m \u001b[38;5;129;01mnot\u001b[39;00m \u001b[38;5;28;01mNone\u001b[39;00m:\n\u001b[0;32m-> 1994\u001b[0m     bboxes\u001b[38;5;241m.\u001b[39mappend(\u001b[38;5;28;43mself\u001b[39;49m\u001b[38;5;241;43m.\u001b[39;49m\u001b[43marrow_patch\u001b[49m\u001b[38;5;241;43m.\u001b[39;49m\u001b[43mget_window_extent\u001b[49m\u001b[43m(\u001b[49m\u001b[43m)\u001b[49m)\n\u001b[1;32m   1996\u001b[0m \u001b[38;5;28;01mreturn\u001b[39;00m Bbox\u001b[38;5;241m.\u001b[39munion(bboxes)\n",
      "File \u001b[0;32m~/Desktop/KCL_projects/fitting/python/Historia/venv/lib/python3.8/site-packages/matplotlib/patches.py:621\u001b[0m, in \u001b[0;36mPatch.get_window_extent\u001b[0;34m(self, renderer)\u001b[0m\n\u001b[1;32m    620\u001b[0m \u001b[38;5;28;01mdef\u001b[39;00m \u001b[38;5;21mget_window_extent\u001b[39m(\u001b[38;5;28mself\u001b[39m, renderer\u001b[38;5;241m=\u001b[39m\u001b[38;5;28;01mNone\u001b[39;00m):\n\u001b[0;32m--> 621\u001b[0m     \u001b[38;5;28;01mreturn\u001b[39;00m \u001b[38;5;28;43mself\u001b[39;49m\u001b[38;5;241;43m.\u001b[39;49m\u001b[43mget_path\u001b[49m\u001b[43m(\u001b[49m\u001b[43m)\u001b[49m\u001b[38;5;241m.\u001b[39mget_extents(\u001b[38;5;28mself\u001b[39m\u001b[38;5;241m.\u001b[39mget_transform())\n",
      "File \u001b[0;32m~/Desktop/KCL_projects/fitting/python/Historia/venv/lib/python3.8/site-packages/matplotlib/patches.py:4200\u001b[0m, in \u001b[0;36mFancyArrowPatch.get_path\u001b[0;34m(self)\u001b[0m\n\u001b[1;32m   4194\u001b[0m \u001b[38;5;28;01mdef\u001b[39;00m \u001b[38;5;21mget_path\u001b[39m(\u001b[38;5;28mself\u001b[39m):\n\u001b[1;32m   4195\u001b[0m     \u001b[38;5;124;03m\"\"\"\u001b[39;00m\n\u001b[1;32m   4196\u001b[0m \u001b[38;5;124;03m    Return the path of the arrow in the data coordinates. Use\u001b[39;00m\n\u001b[1;32m   4197\u001b[0m \u001b[38;5;124;03m    get_path_in_displaycoord() method to retrieve the arrow path\u001b[39;00m\n\u001b[1;32m   4198\u001b[0m \u001b[38;5;124;03m    in display coordinates.\u001b[39;00m\n\u001b[1;32m   4199\u001b[0m \u001b[38;5;124;03m    \"\"\"\u001b[39;00m\n\u001b[0;32m-> 4200\u001b[0m     _path, fillable \u001b[38;5;241m=\u001b[39m \u001b[38;5;28;43mself\u001b[39;49m\u001b[38;5;241;43m.\u001b[39;49m\u001b[43mget_path_in_displaycoord\u001b[49m\u001b[43m(\u001b[49m\u001b[43m)\u001b[49m\n\u001b[1;32m   4201\u001b[0m     \u001b[38;5;28;01mif\u001b[39;00m np\u001b[38;5;241m.\u001b[39miterable(fillable):\n\u001b[1;32m   4202\u001b[0m         _path \u001b[38;5;241m=\u001b[39m Path\u001b[38;5;241m.\u001b[39mmake_compound_path(\u001b[38;5;241m*\u001b[39m_path)\n",
      "File \u001b[0;32m~/Desktop/KCL_projects/fitting/python/Historia/venv/lib/python3.8/site-packages/matplotlib/patches.py:4213\u001b[0m, in \u001b[0;36mFancyArrowPatch.get_path_in_displaycoord\u001b[0;34m(self)\u001b[0m\n\u001b[1;32m   4211\u001b[0m     posB \u001b[38;5;241m=\u001b[39m \u001b[38;5;28mself\u001b[39m\u001b[38;5;241m.\u001b[39m_convert_xy_units(\u001b[38;5;28mself\u001b[39m\u001b[38;5;241m.\u001b[39m_posA_posB[\u001b[38;5;241m1\u001b[39m])\n\u001b[1;32m   4212\u001b[0m     (posA, posB) \u001b[38;5;241m=\u001b[39m \u001b[38;5;28mself\u001b[39m\u001b[38;5;241m.\u001b[39mget_transform()\u001b[38;5;241m.\u001b[39mtransform((posA, posB))\n\u001b[0;32m-> 4213\u001b[0m     _path \u001b[38;5;241m=\u001b[39m \u001b[38;5;28;43mself\u001b[39;49m\u001b[38;5;241;43m.\u001b[39;49m\u001b[43mget_connectionstyle\u001b[49m\u001b[43m(\u001b[49m\u001b[43m)\u001b[49m\u001b[43m(\u001b[49m\u001b[43mposA\u001b[49m\u001b[43m,\u001b[49m\u001b[43m \u001b[49m\u001b[43mposB\u001b[49m\u001b[43m,\u001b[49m\n\u001b[1;32m   4214\u001b[0m \u001b[43m                                       \u001b[49m\u001b[43mpatchA\u001b[49m\u001b[38;5;241;43m=\u001b[39;49m\u001b[38;5;28;43mself\u001b[39;49m\u001b[38;5;241;43m.\u001b[39;49m\u001b[43mpatchA\u001b[49m\u001b[43m,\u001b[49m\n\u001b[1;32m   4215\u001b[0m \u001b[43m                                       \u001b[49m\u001b[43mpatchB\u001b[49m\u001b[38;5;241;43m=\u001b[39;49m\u001b[38;5;28;43mself\u001b[39;49m\u001b[38;5;241;43m.\u001b[39;49m\u001b[43mpatchB\u001b[49m\u001b[43m,\u001b[49m\n\u001b[1;32m   4216\u001b[0m \u001b[43m                                       \u001b[49m\u001b[43mshrinkA\u001b[49m\u001b[38;5;241;43m=\u001b[39;49m\u001b[38;5;28;43mself\u001b[39;49m\u001b[38;5;241;43m.\u001b[39;49m\u001b[43mshrinkA\u001b[49m\u001b[43m \u001b[49m\u001b[38;5;241;43m*\u001b[39;49m\u001b[43m \u001b[49m\u001b[43mdpi_cor\u001b[49m\u001b[43m,\u001b[49m\n\u001b[1;32m   4217\u001b[0m \u001b[43m                                       \u001b[49m\u001b[43mshrinkB\u001b[49m\u001b[38;5;241;43m=\u001b[39;49m\u001b[38;5;28;43mself\u001b[39;49m\u001b[38;5;241;43m.\u001b[39;49m\u001b[43mshrinkB\u001b[49m\u001b[43m \u001b[49m\u001b[38;5;241;43m*\u001b[39;49m\u001b[43m \u001b[49m\u001b[43mdpi_cor\u001b[49m\n\u001b[1;32m   4218\u001b[0m \u001b[43m                                       \u001b[49m\u001b[43m)\u001b[49m\n\u001b[1;32m   4219\u001b[0m \u001b[38;5;28;01melse\u001b[39;00m:\n\u001b[1;32m   4220\u001b[0m     _path \u001b[38;5;241m=\u001b[39m \u001b[38;5;28mself\u001b[39m\u001b[38;5;241m.\u001b[39mget_transform()\u001b[38;5;241m.\u001b[39mtransform_path(\u001b[38;5;28mself\u001b[39m\u001b[38;5;241m.\u001b[39m_path_original)\n",
      "File \u001b[0;32m~/Desktop/KCL_projects/fitting/python/Historia/venv/lib/python3.8/site-packages/matplotlib/patches.py:2523\u001b[0m, in \u001b[0;36mConnectionStyle._Base.__call__\u001b[0;34m(self, posA, posB, shrinkA, shrinkB, patchA, patchB)\u001b[0m\n\u001b[1;32m   2518\u001b[0m \u001b[38;5;124;03m\"\"\"\u001b[39;00m\n\u001b[1;32m   2519\u001b[0m \u001b[38;5;124;03mCall the *connect* method to create a path between *posA* and\u001b[39;00m\n\u001b[1;32m   2520\u001b[0m \u001b[38;5;124;03m*posB*; then clip and shrink the path.\u001b[39;00m\n\u001b[1;32m   2521\u001b[0m \u001b[38;5;124;03m\"\"\"\u001b[39;00m\n\u001b[1;32m   2522\u001b[0m path \u001b[38;5;241m=\u001b[39m \u001b[38;5;28mself\u001b[39m\u001b[38;5;241m.\u001b[39mconnect(posA, posB)\n\u001b[0;32m-> 2523\u001b[0m clipped_path \u001b[38;5;241m=\u001b[39m \u001b[38;5;28;43mself\u001b[39;49m\u001b[38;5;241;43m.\u001b[39;49m\u001b[43m_clip\u001b[49m\u001b[43m(\u001b[49m\u001b[43mpath\u001b[49m\u001b[43m,\u001b[49m\u001b[43m \u001b[49m\u001b[43mpatchA\u001b[49m\u001b[43m,\u001b[49m\u001b[43m \u001b[49m\u001b[43mpatchB\u001b[49m\u001b[43m)\u001b[49m\n\u001b[1;32m   2524\u001b[0m shrunk_path \u001b[38;5;241m=\u001b[39m \u001b[38;5;28mself\u001b[39m\u001b[38;5;241m.\u001b[39m_shrink(clipped_path, shrinkA, shrinkB)\n\u001b[1;32m   2525\u001b[0m \u001b[38;5;28;01mreturn\u001b[39;00m shrunk_path\n",
      "File \u001b[0;32m~/Desktop/KCL_projects/fitting/python/Historia/venv/lib/python3.8/site-packages/matplotlib/patches.py:2478\u001b[0m, in \u001b[0;36mConnectionStyle._Base._clip\u001b[0;34m(self, path, patchA, patchB)\u001b[0m\n\u001b[1;32m   2475\u001b[0m     \u001b[38;5;28;01mreturn\u001b[39;00m patchA\u001b[38;5;241m.\u001b[39mcontains(xy_event)[\u001b[38;5;241m0\u001b[39m]\n\u001b[1;32m   2477\u001b[0m \u001b[38;5;28;01mtry\u001b[39;00m:\n\u001b[0;32m-> 2478\u001b[0m     left, right \u001b[38;5;241m=\u001b[39m \u001b[43msplit_path_inout\u001b[49m\u001b[43m(\u001b[49m\u001b[43mpath\u001b[49m\u001b[43m,\u001b[49m\u001b[43m \u001b[49m\u001b[43minsideA\u001b[49m\u001b[43m)\u001b[49m\n\u001b[1;32m   2479\u001b[0m \u001b[38;5;28;01mexcept\u001b[39;00m \u001b[38;5;167;01mValueError\u001b[39;00m:\n\u001b[1;32m   2480\u001b[0m     right \u001b[38;5;241m=\u001b[39m path\n",
      "File \u001b[0;32m~/Desktop/KCL_projects/fitting/python/Historia/venv/lib/python3.8/site-packages/matplotlib/bezier.py:371\u001b[0m, in \u001b[0;36msplit_path_inout\u001b[0;34m(path, inside, tolerance, reorder_inout)\u001b[0m\n\u001b[1;32m    368\u001b[0m     \u001b[38;5;28;01mraise\u001b[39;00m \u001b[38;5;167;01mValueError\u001b[39;00m(\u001b[38;5;124m\"\u001b[39m\u001b[38;5;124mThe path does not intersect with the patch\u001b[39m\u001b[38;5;124m\"\u001b[39m)\n\u001b[1;32m    370\u001b[0m bp \u001b[38;5;241m=\u001b[39m bezier_path\u001b[38;5;241m.\u001b[39mreshape((\u001b[38;5;241m-\u001b[39m\u001b[38;5;241m1\u001b[39m, \u001b[38;5;241m2\u001b[39m))\n\u001b[0;32m--> 371\u001b[0m left, right \u001b[38;5;241m=\u001b[39m \u001b[43msplit_bezier_intersecting_with_closedpath\u001b[49m\u001b[43m(\u001b[49m\n\u001b[1;32m    372\u001b[0m \u001b[43m    \u001b[49m\u001b[43mbp\u001b[49m\u001b[43m,\u001b[49m\u001b[43m \u001b[49m\u001b[43minside\u001b[49m\u001b[43m,\u001b[49m\u001b[43m \u001b[49m\u001b[43mtolerance\u001b[49m\u001b[43m)\u001b[49m\n\u001b[1;32m    373\u001b[0m \u001b[38;5;28;01mif\u001b[39;00m \u001b[38;5;28mlen\u001b[39m(left) \u001b[38;5;241m==\u001b[39m \u001b[38;5;241m2\u001b[39m:\n\u001b[1;32m    374\u001b[0m     codes_left \u001b[38;5;241m=\u001b[39m [Path\u001b[38;5;241m.\u001b[39mLINETO]\n",
      "File \u001b[0;32m~/Desktop/KCL_projects/fitting/python/Historia/venv/lib/python3.8/site-packages/matplotlib/bezier.py:334\u001b[0m, in \u001b[0;36msplit_bezier_intersecting_with_closedpath\u001b[0;34m(bezier, inside_closedpath, tolerance)\u001b[0m\n\u001b[1;32m    331\u001b[0m bz \u001b[38;5;241m=\u001b[39m BezierSegment(bezier)\n\u001b[1;32m    332\u001b[0m bezier_point_at_t \u001b[38;5;241m=\u001b[39m bz\u001b[38;5;241m.\u001b[39mpoint_at_t\n\u001b[0;32m--> 334\u001b[0m t0, t1 \u001b[38;5;241m=\u001b[39m \u001b[43mfind_bezier_t_intersecting_with_closedpath\u001b[49m\u001b[43m(\u001b[49m\n\u001b[1;32m    335\u001b[0m \u001b[43m    \u001b[49m\u001b[43mbezier_point_at_t\u001b[49m\u001b[43m,\u001b[49m\u001b[43m \u001b[49m\u001b[43minside_closedpath\u001b[49m\u001b[43m,\u001b[49m\u001b[43m \u001b[49m\u001b[43mtolerance\u001b[49m\u001b[38;5;241;43m=\u001b[39;49m\u001b[43mtolerance\u001b[49m\u001b[43m)\u001b[49m\n\u001b[1;32m    337\u001b[0m _left, _right \u001b[38;5;241m=\u001b[39m split_de_casteljau(bezier, (t0 \u001b[38;5;241m+\u001b[39m t1) \u001b[38;5;241m/\u001b[39m \u001b[38;5;241m2.\u001b[39m)\n\u001b[1;32m    338\u001b[0m \u001b[38;5;28;01mreturn\u001b[39;00m _left, _right\n",
      "File \u001b[0;32m~/Desktop/KCL_projects/fitting/python/Historia/venv/lib/python3.8/site-packages/matplotlib/bezier.py:154\u001b[0m, in \u001b[0;36mfind_bezier_t_intersecting_with_closedpath\u001b[0;34m(bezier_point_at_t, inside_closedpath, t0, t1, tolerance)\u001b[0m\n\u001b[1;32m    151\u001b[0m start \u001b[38;5;241m=\u001b[39m bezier_point_at_t(t0)\n\u001b[1;32m    152\u001b[0m end \u001b[38;5;241m=\u001b[39m bezier_point_at_t(t1)\n\u001b[0;32m--> 154\u001b[0m start_inside \u001b[38;5;241m=\u001b[39m \u001b[43minside_closedpath\u001b[49m\u001b[43m(\u001b[49m\u001b[43mstart\u001b[49m\u001b[43m)\u001b[49m\n\u001b[1;32m    155\u001b[0m end_inside \u001b[38;5;241m=\u001b[39m inside_closedpath(end)\n\u001b[1;32m    157\u001b[0m \u001b[38;5;28;01mif\u001b[39;00m start_inside \u001b[38;5;241m==\u001b[39m end_inside \u001b[38;5;129;01mand\u001b[39;00m start \u001b[38;5;241m!=\u001b[39m end:\n",
      "File \u001b[0;32m~/Desktop/KCL_projects/fitting/python/Historia/venv/lib/python3.8/site-packages/matplotlib/patches.py:2475\u001b[0m, in \u001b[0;36mConnectionStyle._Base._clip.<locals>.insideA\u001b[0;34m(xy_display)\u001b[0m\n\u001b[1;32m   2473\u001b[0m \u001b[38;5;28;01mdef\u001b[39;00m \u001b[38;5;21minsideA\u001b[39m(xy_display):\n\u001b[1;32m   2474\u001b[0m     xy_event \u001b[38;5;241m=\u001b[39m ConnectionStyle\u001b[38;5;241m.\u001b[39m_Base\u001b[38;5;241m.\u001b[39mSimpleEvent(xy_display)\n\u001b[0;32m-> 2475\u001b[0m     \u001b[38;5;28;01mreturn\u001b[39;00m \u001b[43mpatchA\u001b[49m\u001b[38;5;241;43m.\u001b[39;49m\u001b[43mcontains\u001b[49m\u001b[43m(\u001b[49m\u001b[43mxy_event\u001b[49m\u001b[43m)\u001b[49m[\u001b[38;5;241m0\u001b[39m]\n",
      "File \u001b[0;32m~/Desktop/KCL_projects/fitting/python/Historia/venv/lib/python3.8/site-packages/matplotlib/patches.py:148\u001b[0m, in \u001b[0;36mPatch.contains\u001b[0;34m(self, mouseevent, radius)\u001b[0m\n\u001b[1;32m    146\u001b[0m     \u001b[38;5;28;01mreturn\u001b[39;00m inside, info\n\u001b[1;32m    147\u001b[0m radius \u001b[38;5;241m=\u001b[39m \u001b[38;5;28mself\u001b[39m\u001b[38;5;241m.\u001b[39m_process_radius(radius)\n\u001b[0;32m--> 148\u001b[0m codes \u001b[38;5;241m=\u001b[39m \u001b[38;5;28;43mself\u001b[39;49m\u001b[38;5;241;43m.\u001b[39;49m\u001b[43mget_path\u001b[49m\u001b[43m(\u001b[49m\u001b[43m)\u001b[49m\u001b[38;5;241m.\u001b[39mcodes\n\u001b[1;32m    149\u001b[0m \u001b[38;5;28;01mif\u001b[39;00m codes \u001b[38;5;129;01mis\u001b[39;00m \u001b[38;5;129;01mnot\u001b[39;00m \u001b[38;5;28;01mNone\u001b[39;00m:\n\u001b[1;32m    150\u001b[0m     vertices \u001b[38;5;241m=\u001b[39m \u001b[38;5;28mself\u001b[39m\u001b[38;5;241m.\u001b[39mget_path()\u001b[38;5;241m.\u001b[39mvertices\n",
      "File \u001b[0;32m~/Desktop/KCL_projects/fitting/python/Historia/venv/lib/python3.8/site-packages/matplotlib/patches.py:3792\u001b[0m, in \u001b[0;36mFancyBboxPatch.get_path\u001b[0;34m(self)\u001b[0m\n\u001b[1;32m   3790\u001b[0m \u001b[38;5;66;03m# Call boxstyle with squeezed height.\u001b[39;00m\n\u001b[1;32m   3791\u001b[0m \u001b[38;5;28;01mtry\u001b[39;00m:\n\u001b[0;32m-> 3792\u001b[0m     \u001b[43minspect\u001b[49m\u001b[38;5;241;43m.\u001b[39;49m\u001b[43msignature\u001b[49m\u001b[43m(\u001b[49m\u001b[43mboxstyle\u001b[49m\u001b[43m)\u001b[49m\u001b[38;5;241;43m.\u001b[39;49m\u001b[43mbind\u001b[49m\u001b[43m(\u001b[49m\u001b[43mx\u001b[49m\u001b[43m,\u001b[49m\u001b[43m \u001b[49m\u001b[43my\u001b[49m\u001b[43m,\u001b[49m\u001b[43m \u001b[49m\u001b[43mwidth\u001b[49m\u001b[43m,\u001b[49m\u001b[43m \u001b[49m\u001b[43mheight\u001b[49m\u001b[43m,\u001b[49m\u001b[43m \u001b[49m\u001b[43mm_scale\u001b[49m\u001b[43m)\u001b[49m\n\u001b[1;32m   3793\u001b[0m \u001b[38;5;28;01mexcept\u001b[39;00m \u001b[38;5;167;01mTypeError\u001b[39;00m:\n\u001b[1;32m   3794\u001b[0m     \u001b[38;5;66;03m# Don't apply aspect twice.\u001b[39;00m\n\u001b[1;32m   3795\u001b[0m     path \u001b[38;5;241m=\u001b[39m boxstyle(x, y, width, height, m_scale, \u001b[38;5;241m1\u001b[39m)\n",
      "File \u001b[0;32m/usr/lib/python3.8/inspect.py:3037\u001b[0m, in \u001b[0;36mSignature.bind\u001b[0;34m(self, *args, **kwargs)\u001b[0m\n\u001b[1;32m   3032\u001b[0m \u001b[38;5;28;01mdef\u001b[39;00m \u001b[38;5;21mbind\u001b[39m(\u001b[38;5;28mself\u001b[39m, \u001b[38;5;241m/\u001b[39m, \u001b[38;5;241m*\u001b[39margs, \u001b[38;5;241m*\u001b[39m\u001b[38;5;241m*\u001b[39mkwargs):\n\u001b[1;32m   3033\u001b[0m     \u001b[38;5;124;03m\"\"\"Get a BoundArguments object, that maps the passed `args`\u001b[39;00m\n\u001b[1;32m   3034\u001b[0m \u001b[38;5;124;03m    and `kwargs` to the function's signature.  Raises `TypeError`\u001b[39;00m\n\u001b[1;32m   3035\u001b[0m \u001b[38;5;124;03m    if the passed arguments can not be bound.\u001b[39;00m\n\u001b[1;32m   3036\u001b[0m \u001b[38;5;124;03m    \"\"\"\u001b[39;00m\n\u001b[0;32m-> 3037\u001b[0m     \u001b[38;5;28;01mreturn\u001b[39;00m \u001b[38;5;28;43mself\u001b[39;49m\u001b[38;5;241;43m.\u001b[39;49m\u001b[43m_bind\u001b[49m\u001b[43m(\u001b[49m\u001b[43margs\u001b[49m\u001b[43m,\u001b[49m\u001b[43m \u001b[49m\u001b[43mkwargs\u001b[49m\u001b[43m)\u001b[49m\n",
      "File \u001b[0;32m/usr/lib/python3.8/inspect.py:2901\u001b[0m, in \u001b[0;36mSignature._bind\u001b[0;34m(self, args, kwargs, partial)\u001b[0m\n\u001b[1;32m   2898\u001b[0m         \u001b[38;5;28;01mreturn\u001b[39;00m \u001b[38;5;28mNotImplemented\u001b[39m\n\u001b[1;32m   2899\u001b[0m     \u001b[38;5;28;01mreturn\u001b[39;00m \u001b[38;5;28mself\u001b[39m\u001b[38;5;241m.\u001b[39m_hash_basis() \u001b[38;5;241m==\u001b[39m other\u001b[38;5;241m.\u001b[39m_hash_basis()\n\u001b[0;32m-> 2901\u001b[0m \u001b[38;5;28;01mdef\u001b[39;00m \u001b[38;5;21m_bind\u001b[39m(\u001b[38;5;28mself\u001b[39m, args, kwargs, \u001b[38;5;241m*\u001b[39m, partial\u001b[38;5;241m=\u001b[39m\u001b[38;5;28;01mFalse\u001b[39;00m):\n\u001b[1;32m   2902\u001b[0m     \u001b[38;5;124;03m\"\"\"Private method. Don't use directly.\"\"\"\u001b[39;00m\n\u001b[1;32m   2904\u001b[0m     arguments \u001b[38;5;241m=\u001b[39m OrderedDict()\n",
      "\u001b[0;31mKeyboardInterrupt\u001b[0m: "
     ]
    },
    {
     "data": {
      "image/png": "[encoded data removed]",
      "text/plain": [
       "<Figure size 432x288 with 1 Axes>"
      ]
     },
     "metadata": {},
     "output_type": "display_data"
    }
   ],
   "source": [
    "import postprocessing\n",
    "import numpy as np\n",
    "\n",
    "input_labels=np.genfromtxt(\"/media/crg17/Seagate Expansion Drive/param_labels.txt\", dtype=\"str\", delimiter=\"\\n\")\n",
    "postprocessing.full_GSA(subfolder=\"initial_sweep\", output_labels_dir=\"/media/crg17/Seagate Expansion Drive/biomarkers_labels.txt\", input_labels=input_labels, first_order=True, second_order=False)"
   ]
  },
  {
   "cell_type": "markdown",
   "metadata": {},
   "source": [
    "The results are in ```/media/crg17/Seagate Expansion Drive/initial_sweep/figures```"
   ]
  },
  {
   "cell_type": "markdown",
   "metadata": {},
   "source": [
    "> In Fig \\ref{fig:GSA2}, we show the second-order interactions for each output."
   ]
  },
  {
   "cell_type": "markdown",
   "metadata": {},
   "source": [
    "<img src=\"./figures/GSA2_small.png\"  width=\"70%\" />"
   ]
  },
  {
   "cell_type": "markdown",
   "metadata": {},
   "source": [
    "The image above was built in PPT, putting together individual networks. The text in the centre of each network is also written manually. To print all the single networs, run:"
   ]
  },
  {
   "cell_type": "code",
   "execution_count": null,
   "metadata": {},
   "outputs": [],
   "source": [
    "import postprocessing\n",
    "import numpy as np\n",
    "\n",
    "input_labels=np.genfromtxt(\"/media/crg17/Seagate Expansion Drive/param_labels.txt\", dtype=\"str\", delimiter=\"\\n\")\n",
    "postprocessing.full_GSA(subfolder=\"initial_sweep\", output_labels_dir=\"/media/crg17/Seagate Expansion Drive/biomarkers_labels.txt\", input_labels=input_labels, first_order=False, second_order=True)"
   ]
  },
  {
   "cell_type": "markdown",
   "metadata": {},
   "source": [
    "The results are in ```/media/crg17/Seagate Expansion Drive/initial_sweep/figures```"
   ]
  },
  {
   "cell_type": "markdown",
   "metadata": {},
   "source": [
    "# Calibration to literature data\n",
    "\n",
    "> We extracted these biomarkers from the NORRE study\\cite{Kou2014EchocardiographicStudy}, and ran three waves of BHM."
   ]
  },
  {
   "cell_type": "markdown",
   "metadata": {},
   "source": [
    "To run the three waves using literature data (* **heavy computationally** *):"
   ]
  },
  {
   "cell_type": "code",
   "execution_count": null,
   "metadata": {},
   "outputs": [],
   "source": [
    "import pipeline_bhm\n",
    "\n",
    "pipeline_bhm.literature(run_wave0=True, run_wave1=True, run_wave2=True)"
   ]
  },
  {
   "cell_type": "markdown",
   "metadata": {},
   "source": [
    ">By the last wave, the original space was reduced to \\(9.55\\%\\) of the original space size, with a maximum uncertainty quotient of \\(1.9\\), and a median value of \\(0.67\\)."
   ]
  },
  {
   "cell_type": "markdown",
   "metadata": {},
   "source": [
    "To obtain the numbers above we run:"
   ]
  },
  {
   "cell_type": "code",
   "execution_count": null,
   "metadata": {},
   "outputs": [],
   "source": [
    "import numpy as np\n",
    "\n",
    "wave0_NROY_rel = np.genfromtxt(\"/media/crg17/Seagate Expansion Drive/initial_sweep/NROY_rel_literature.dat\", dtype=float)\n",
    "wave1_NROY_rel = np.genfromtxt(\"/media/crg17/Seagate Expansion Drive/literature/wave1/NROY_rel_literature.dat\", dtype=float)\n",
    "wave2_NROY_rel = np.genfromtxt(\"/media/crg17/Seagate Expansion Drive/literature/wave2/NROY_rel_literature.dat\", dtype=float)\n",
    "\n",
    "total_reduction = round(wave0_NROY_rel*1e-4*wave1_NROY_rel*wave2_NROY_rel,2)\n",
    "\n",
    "uncertainty_quotient_vec = np.genfromtxt(\"/media/crg17/Seagate Expansion Drive/literature/wave2/variance_quotient_wave2_literature.dat\", dtype=float)\n",
    "\n",
    "print(total_reduction)\n",
    "print(np.max(uncertainty_quotient_vec))\n",
    "print(np.median(uncertainty_quotient_vec))"
   ]
  },
  {
   "cell_type": "markdown",
   "metadata": {},
   "source": [
    "> In Fig 5.6 we show how the biomarkers obtained when simulating and emulating in the NROY region fall better within the range reported in the literature, as we run more waves."
   ]
  },
  {
   "cell_type": "markdown",
   "metadata": {},
   "source": [
    "<img src=\"./figures/output_evolution_small.png\"  width=\"70%\" />"
   ]
  },
  {
   "cell_type": "markdown",
   "metadata": {},
   "source": [
    "The image above was built in PPT, putting together individual plots. To print all the single plots, run:"
   ]
  },
  {
   "cell_type": "code",
   "execution_count": null,
   "metadata": {},
   "outputs": [],
   "source": [
    "import postprocessing\n",
    "\n",
    "postprocessing.plot_output_evolution_seaborn(first_wave = 0, last_wave = 2,\n",
    "                                   subfolder = \"literature\", only_feasible = False,\n",
    "                                   output_labels_dir = \"/media/crg17/Seagate Expansion Drive/biomarkers_labels.txt\",\n",
    "                                   exp_mean_name = \"anatomy_EP_lit_mean.txt\",\n",
    "                                   exp_std_name = \"anatomy_EP_lit_sd.txt\",\n",
    "                                   units_dir = \"/media/crg17/Seagate Expansion Drive/biomarkers_units.txt\")"
   ]
  },
  {
   "cell_type": "markdown",
   "metadata": {},
   "source": [
    "The results are in ```/media/crg17/Seagate Expansion Drive/literature/figures```"
   ]
  },
  {
   "cell_type": "markdown",
   "metadata": {},
   "source": [
    "# Calibration to synthetic patient data"
   ]
  },
  {
   "cell_type": "markdown",
   "metadata": {},
   "source": [
    "To run the four waves using data from subject #01 (* **heavy computationally** *):"
   ]
  },
  {
   "cell_type": "code",
   "execution_count": null,
   "metadata": {},
   "outputs": [],
   "source": [
    "import pipeline_bhm\n",
    "\n",
    "pipeline_bhm.patient(patient_number=1, run_wave0=True, run_wave1=True, run_wave2=True, run_wave3=True, sd_magnitude=10)"
   ]
  },
  {
   "cell_type": "markdown",
   "metadata": {},
   "source": [
    "> Compared to the initial space, the biggest reduction in NROY size happened in the first wave, with a reduction down to \\(11.06\\%\\) of the original space. In the third wave, the space was reduced to \\(8.89\\%\\) of the original size."
   ]
  },
  {
   "cell_type": "code",
   "execution_count": null,
   "metadata": {},
   "outputs": [],
   "source": [
    "import numpy as np\n",
    "\n",
    "wave0_NROY_rel = np.genfromtxt(\"/media/crg17/SeagateExpansionDrive/initial_sweep/NROY_rel_patient1_sd_10.dat\", dtype=float)\n",
    "wave1_NROY_rel = np.genfromtxt(\"/media/crg17/SeagateExpansionDrive/patient1_sd_10/wave1/NROY_rel_patient1_sd_10.dat\", dtype=float)\n",
    "wave2_NROY_rel = np.genfromtxt(\"/media/crg17/SeagateExpansionDrive/patient1_sd_10/wave2/NROY_rel_patient1_sd_10.dat\", dtype=float)\n",
    "\n",
    "print(wave0_NROY_rel)\n",
    "print(round(float(wave0_NROY_rel*wave1_NROY_rel/100.),2))\n",
    "print(round(float(wave0_NROY_rel*wave1_NROY_rel/100.*wave2_NROY_rel/100.),2))"
   ]
  },
  {
   "cell_type": "markdown",
   "metadata": {},
   "source": [
    "> Using as ground truth the biomarkers extracted from that mesh, the implausibility of that point in the third wave was \\(0.9\\)."
   ]
  },
  {
   "cell_type": "code",
   "execution_count": null,
   "metadata": {},
   "outputs": [],
   "source": [
    "implausibility = np.genfromtxt(\"/media/crg17/SeagateExpansionDrive/patient1_sd_10/wave2/implausibilities_patient1_sd_10.dat\", dtype=float)\n",
    "\n",
    "print(np.max(implausibility))"
   ]
  },
  {
   "cell_type": "markdown",
   "metadata": {},
   "source": [
    "> In the case of subject \\(\\#01\\) in the third wave, although the maximum value of the variance quotient across all space was \\(2.23\\), the median value was \\(1.08\\), suggesting that the uncertainties of the emulators are comparable to the uncertainties of the ground truth data."
   ]
  },
  {
   "cell_type": "code",
   "execution_count": null,
   "metadata": {},
   "outputs": [],
   "source": [
    "VQ = np.genfromtxt(\"/media/crg17/SeagateExpansionDrive/patient1_sd_10/wave2/variance_quotient_wave2_patient1_sd_10.dat\", dtype=float)\n",
    "print(np.max(VQ))\n",
    "print(np.median(VQ))"
   ]
  },
  {
   "cell_type": "markdown",
   "metadata": {},
   "source": [
    "## Reusing emulators with a different subject\n",
    "\n",
    "> Firstly we ran the BHM pipeline for \\(3\\) waves with patient \\(\\#02\\)."
   ]
  },
  {
   "cell_type": "markdown",
   "metadata": {},
   "source": [
    "To run the three waves using data from subject #02 (* **heavy computationally** *):"
   ]
  },
  {
   "cell_type": "code",
   "execution_count": null,
   "metadata": {},
   "outputs": [],
   "source": [
    "import pipeline_bhm\n",
    "\n",
    "pipeline_bhm.patient(patient_number=2, run_wave0=False, run_wave1=False, run_wave2=True, run_wave3=False, sd_magnitude=10)"
   ]
  },
  {
   "cell_type": "markdown",
   "metadata": {},
   "source": [
    "> In this case the NROY size was \\(9.49\\%\\) of the original space, and we achieve a final NROY size of \\(7.51\\%\\) of the original space."
   ]
  },
  {
   "cell_type": "code",
   "execution_count": null,
   "metadata": {},
   "outputs": [],
   "source": [
    "import numpy as np\n",
    "\n",
    "wave0_NROY_rel = np.genfromtxt(\"/media/crg17/SeagateExpansionDrive/initial_sweep/NROY_rel_patient2_sd_10.dat\", dtype=float)\n",
    "wave1_NROY_rel = np.genfromtxt(\"/media/crg17/SeagateExpansionDrive/patient2_sd_10/wave1/NROY_rel_patient2_sd_10.dat\", dtype=float)\n",
    "wave2_NROY_rel = np.genfromtxt(\"/media/crg17/SeagateExpansionDrive/patient2_sd_10/wave2/NROY_rel_patient2_sd_10.dat\", dtype=float)\n",
    "\n",
    "print(wave0_NROY_rel)\n",
    "print(round(float(wave0_NROY_rel*wave1_NROY_rel/100.*wave2_NROY_rel/100.),2))"
   ]
  },
  {
   "cell_type": "markdown",
   "metadata": {},
   "source": [
    "> The implausibility for the known target parameter point was of \\(0.2\\),"
   ]
  },
  {
   "cell_type": "code",
   "execution_count": null,
   "metadata": {},
   "outputs": [],
   "source": [
    "import numpy as np\n",
    "\n",
    "implausibility = np.genfromtxt(\"/media/crg17/SeagateExpansionDrive/patient2_sd_10/wave2/implausibilities_patient2_sd_10.dat\", dtype=float)\n",
    "\n",
    "print(np.max(implausibility))"
   ]
  },
  {
   "cell_type": "markdown",
   "metadata": {},
   "source": [
    "> and the maximum and median variance quotient (as defined in Eq \\ref{eq:VQ}) were of \\(2.2\\) and \\(0.72\\), respectively."
   ]
  },
  {
   "cell_type": "code",
   "execution_count": null,
   "metadata": {},
   "outputs": [],
   "source": [
    "import numpy as np\n",
    "\n",
    "VQ = np.genfromtxt(\"/media/crg17/SeagateExpansionDrive/patient2_sd_10/wave2/variance_quotient_wave2_patient2_sd_10.dat\", dtype=float)\n",
    "print(np.max(VQ))\n",
    "print(np.median(VQ))"
   ]
  },
  {
   "cell_type": "markdown",
   "metadata": {},
   "source": [
    "> We then used the emulators from the third wave of subject \\(\\#01\\), but using the ground truth data (the simulation results) from subject \\(\\#02\\)."
   ]
  },
  {
   "cell_type": "code",
   "execution_count": null,
   "metadata": {},
   "outputs": [],
   "source": [
    "import pipeline_bhm\n",
    "\n",
    "pipeline_bhm.mix_patients(use_emulators_from_patient=1, new_patient=2, sd_magnitude=10)"
   ]
  },
  {
   "cell_type": "markdown",
   "metadata": {},
   "source": [
    ">Using the previously calibrated emulator, we obtained a NROY size of \\(7.13\\%\\) of the original size without running any extra waves."
   ]
  },
  {
   "cell_type": "code",
   "execution_count": null,
   "metadata": {},
   "outputs": [],
   "source": [
    "import numpy as np\n",
    "\n",
    "NROY_rel = np.genfromtxt(\"/media/crg17/SeagateExpansionDrive/using_patient1_sd_10/wave2/NROY_rel_patient2_sd_10_lhd_1000000.dat\", dtype=float)\n",
    "\n",
    "print(NROY_rel)"
   ]
  },
  {
   "cell_type": "markdown",
   "metadata": {},
   "source": [
    "> The implausibility of the point was \\(0.7\\)"
   ]
  },
  {
   "cell_type": "code",
   "execution_count": null,
   "metadata": {},
   "outputs": [],
   "source": [
    "import numpy as np\n",
    "\n",
    "implausibility = np.genfromtxt(\"/media/crg17/SeagateExpansionDrive/using_patient1_sd_10/wave2/implausibilities_patient2_sd_10.dat\", dtype=float)\n",
    "\n",
    "print(np.max(implausibility))"
   ]
  },
  {
   "cell_type": "markdown",
   "metadata": {},
   "source": [
    "> The uncertainties were smaller, with a maximum and median of \\(1.94\\) and \\(0.94\\), respectively."
   ]
  },
  {
   "cell_type": "code",
   "execution_count": null,
   "metadata": {},
   "outputs": [],
   "source": [
    "import numpy as np\n",
    "\n",
    "VQ = np.genfromtxt(\"/media/crg17/SeagateExpansionDrive/using_patient1_sd_10/wave2/variance_quotient_wave2_patient2_using_patient1_sd_10.dat\", dtype=float)\n",
    "print(np.max(VQ))\n",
    "print(np.median(VQ))"
   ]
  },
  {
   "cell_type": "markdown",
   "metadata": {},
   "source": [
    "> Conversely, we tested the emulators from the third wave of subject \\(\\#02\\), but on subject \\(\\#01\\)."
   ]
  },
  {
   "cell_type": "code",
   "execution_count": null,
   "metadata": {},
   "outputs": [],
   "source": [
    "import pipeline_bhm\n",
    "\n",
    "pipeline_bhm.mix_patients(use_emulators_from_patient=2, new_patient=1, sd_magnitude=10)"
   ]
  },
  {
   "cell_type": "markdown",
   "metadata": {},
   "source": [
    "> Using these already trained emulators, without running any extra waves, we obtained a NROY size of \\(8.34\\%\\) of the original size (only \\(0.55\\) points of difference compared to the full pipeline)."
   ]
  },
  {
   "cell_type": "code",
   "execution_count": null,
   "metadata": {},
   "outputs": [],
   "source": [
    "import numpy as np\n",
    "\n",
    "NROY_rel = np.genfromtxt(\"/media/crg17/SeagateExpansionDrive/using_patient2_sd_10/wave2/NROY_rel_patient1_sd_10_lhd_1000000.dat\", dtype=float)\n",
    "\n",
    "print(NROY_rel)\n",
    "\n",
    "wave0_NROY_rel = np.genfromtxt(\"/media/crg17/SeagateExpansionDrive/initial_sweep/NROY_rel_patient2_sd_10.dat\", dtype=float)\n",
    "wave1_NROY_rel = np.genfromtxt(\"/media/crg17/SeagateExpansionDrive/patient2_sd_10/wave1/NROY_rel_patient2_sd_10.dat\", dtype=float)\n",
    "wave2_NROY_rel = np.genfromtxt(\"/media/crg17/SeagateExpansionDrive/patient2_sd_10/wave2/NROY_rel_patient2_sd_10.dat\", dtype=float)\n",
    "\n",
    "NROY_rel_full_pipeline = round(float(wave0_NROY_rel*wave1_NROY_rel/100.*wave2_NROY_rel/100.),2)\n",
    "\n",
    "print(round(NROY_rel - NROY_rel_full_pipeline,2))"
   ]
  },
  {
   "cell_type": "markdown",
   "metadata": {},
   "source": [
    "> The implausibility of the point was \\(0.7\\)"
   ]
  },
  {
   "cell_type": "code",
   "execution_count": null,
   "metadata": {},
   "outputs": [],
   "source": [
    "import numpy as np\n",
    "\n",
    "implausibility = np.genfromtxt(\"/media/crg17/SeagateExpansionDrive/using_patient2_sd_10/wave2/implausibilities_patient1_sd_10.dat\", dtype=float)\n",
    "\n",
    "print(np.max(implausibility))"
   ]
  },
  {
   "cell_type": "markdown",
   "metadata": {},
   "source": [
    "> and the maximum and median uncertainties were of \\(2.51\\) and \\(0.82\\), respectively."
   ]
  },
  {
   "cell_type": "code",
   "execution_count": null,
   "metadata": {},
   "outputs": [],
   "source": [
    "import numpy as np\n",
    "\n",
    "VQ = np.genfromtxt(\"/media/crg17/SeagateExpansionDrive/using_patient2_sd_10/wave2/variance_quotient_wave2_patient1_using_patient2_sd_10.dat\", dtype=float)\n",
    "print(np.max(VQ))\n",
    "print(np.median(VQ))"
   ]
  },
  {
   "cell_type": "markdown",
   "metadata": {},
   "source": [
    "|  | Subject | Using results from #01 | Using results from #02\n",
    "| :-: | \n",
    "| NROY size as % of original space | #01 | 8.89 | 8.34 |\n",
    "| NROY size as % of original space | #02 | 7.13 | 7.51 |\n",
    "| Implausibility of simulated point | #01 | 0.9 | 0.7 |\n",
    "| Implausibility of simulated point | #02 | 0.7 | 0.2 |\n",
    "| Uncertainty quotient Max/median | #01 | 2.23 / 1.08 | 2.51 / 0.82 |\n",
    "| Uncertainty quotient Max/median | #02 | 1.94 / 0.94 | 2.2 / 0.72 |\n",
    "| NROY+RO / NROY match | #01 | - | 98.95% / 95.75% |\n",
    "| NROY+RO / NROY match | #02 | 99.22% / 96.29% | - |\n"
   ]
  },
  {
   "cell_type": "markdown",
   "metadata": {},
   "source": [
    "The numbers above have been mostly generated in previous snippets. The missing numbers are the NROY+RO / NROY match. They are calculated in the following snippet:"
   ]
  },
  {
   "cell_type": "code",
   "execution_count": null,
   "metadata": {},
   "outputs": [],
   "source": [
    "import postprocessing\n",
    "\n",
    "perc_1_using_2_RO = postprocessing.compare_nroy_binary(n_samples=1e5, whole_space=True, original_patient=1, original_last_wave=2, using_patient=2,\n",
    "                        using_last_wave=2)\n",
    "perc_1_using_2_NROY = postprocessing.compare_nroy_binary(n_samples=1e5, whole_space=False, original_patient=1, original_last_wave=2, using_patient=2,\n",
    "                        using_last_wave=2)\n",
    "perc_2_using_1_RO = postprocessing.compare_nroy_binary(n_samples=1e5, whole_space=True, original_patient=2, original_last_wave=2, using_patient=1,\n",
    "                        using_last_wave=2)\n",
    "perc_2_using_1_NROY = postprocessing.compare_nroy_binary(n_samples=1e5, whole_space=False, original_patient=2, original_last_wave=2, using_patient=1,\n",
    "                        using_last_wave=2)\n",
    "\n",
    "\n",
    "print(round(perc_1_using_2_RO,2), round(perc_1_using_2_NROY,2), round(perc_2_using_1_RO,2), round(perc_2_using_1_NROY,2))"
   ]
  },
  {
   "cell_type": "markdown",
   "metadata": {},
   "source": [
    "## Reusing emulators with very different subjects\n",
    "\n",
    "> In the first scenario, we computed the $\\ell1$ distance between the input vector of subject \\(\\#01\\) and the input vector of each other subject of the cohort"
   ]
  },
  {
   "cell_type": "code",
   "execution_count": null,
   "metadata": {},
   "outputs": [],
   "source": [
    "import CT_cohort\n",
    "\n",
    "CT_cohort.generate_patient_distances()"
   ]
  },
  {
   "cell_type": "markdown",
   "metadata": {},
   "source": [
    "> reusing the third wave of patient \\(\\#01\\) using the biomarkers of this new subject, lead to similar results as running the full pipeline."
   ]
  },
  {
   "cell_type": "code",
   "execution_count": null,
   "metadata": {},
   "outputs": [],
   "source": [
    "import pipeline_bhm\n",
    "\n",
    "pipeline_bhm.run_farthest_patients(patient_number=1,input_or_output=\"input\")"
   ]
  },
  {
   "cell_type": "markdown",
   "metadata": {},
   "source": [
    "> The NROY space was of \\(11.5\\%\\) without running any extra waves in the reusing scenario,"
   ]
  },
  {
   "cell_type": "code",
   "execution_count": null,
   "metadata": {},
   "outputs": [],
   "source": [
    "import numpy as np\n",
    "\n",
    "NROY_rel = np.genfromtxt(\"/media/crg17/SeagateExpansionDrive/using_patient1_sd_10/wave2/NROY_rel_patient10_sd_10_lhd_1000000.dat\", dtype=float)\n",
    "\n",
    "print(NROY_rel)"
   ]
  },
  {
   "cell_type": "markdown",
   "metadata": {},
   "source": [
    "> compared to \\(12.2\\%\\) in the full-pipeline scenario (after three waves)"
   ]
  },
  {
   "cell_type": "code",
   "execution_count": null,
   "metadata": {},
   "outputs": [],
   "source": [
    "wave0_NROY_rel = np.genfromtxt(\"/media/crg17/SeagateExpansionDrive/initial_sweep/NROY_rel_patient10_sd_10.dat\", dtype=float)\n",
    "wave1_NROY_rel = np.genfromtxt(\"/media/crg17/SeagateExpansionDrive/patient10_sd_10/wave1/NROY_rel_patient10_sd_10.dat\", dtype=float)\n",
    "wave2_NROY_rel = np.genfromtxt(\"/media/crg17/SeagateExpansionDrive/patient10_sd_10/wave2/NROY_rel_patient10_sd_10.dat\", dtype=float)\n",
    "\n",
    "NROY_rel_full_pipeline = round(float(wave0_NROY_rel*wave1_NROY_rel/100.*wave2_NROY_rel/100.),2)\n",
    "\n",
    "print(NROY_rel_full_pipeline)"
   ]
  },
  {
   "cell_type": "markdown",
   "metadata": {},
   "source": [
    "> the implausibility for that subject was of \\(0.39\\)"
   ]
  },
  {
   "cell_type": "code",
   "execution_count": null,
   "metadata": {},
   "outputs": [],
   "source": [
    "import numpy as np\n",
    "\n",
    "implausibility = np.genfromtxt(\"/media/crg17/SeagateExpansionDrive/using_patient1_sd_10/wave2/implausibilities_patient10_sd_10.dat\", dtype=float)\n",
    "\n",
    "print(np.max(implausibility))"
   ]
  },
  {
   "cell_type": "markdown",
   "metadata": {},
   "source": [
    "> and the uncertainty quotients had a maximum of \\(2.44\\) and a median \\(1.1\\)"
   ]
  },
  {
   "cell_type": "code",
   "execution_count": null,
   "metadata": {},
   "outputs": [],
   "source": [
    "import numpy as np\n",
    "\n",
    "VQ = np.genfromtxt(\"/media/crg17/SeagateExpansionDrive/using_patient1_sd_10/wave2/variance_quotient_wave2_patient10_using_patient1_sd_10.dat\", dtype=float)\n",
    "print(np.max(VQ))\n",
    "print(np.median(VQ))"
   ]
  },
  {
   "cell_type": "markdown",
   "metadata": {},
   "source": [
    "> compared to an implausibility of \\(0.34\\)"
   ]
  },
  {
   "cell_type": "code",
   "execution_count": null,
   "metadata": {},
   "outputs": [],
   "source": [
    "import numpy as np\n",
    "\n",
    "implausibility = np.genfromtxt(\"/media/crg17/SeagateExpansionDrive/patient10_sd_10/wave2/implausibilities_patient10_sd_10.dat\", dtype=float)\n",
    "\n",
    "print(np.max(implausibility))"
   ]
  },
  {
   "cell_type": "markdown",
   "metadata": {},
   "source": [
    "> and uncertainty quotients with a maximum of \\(2.02\\) and median of \\(1.18\\) if using the specialised pipeline."
   ]
  },
  {
   "cell_type": "code",
   "execution_count": null,
   "metadata": {},
   "outputs": [],
   "source": [
    "import numpy as np\n",
    "\n",
    "VQ = np.genfromtxt(\"/media/crg17/SeagateExpansionDrive/patient10_sd_10/wave2/variance_quotient_wave2_patient10_sd_10.dat\", dtype=float)\n",
    "print(np.max(VQ))\n",
    "print(np.median(VQ))"
   ]
  },
  {
   "cell_type": "markdown",
   "metadata": {},
   "source": [
    "> In the second scenario, we computed the $\\ell1$ distance between the vector of biomarkers of subject \\(\\#01\\) and the vector of biomarkers of each other subject in the cohort. The farthest subject in this case was subject \\(\\#18\\)."
   ]
  },
  {
   "cell_type": "code",
   "execution_count": null,
   "metadata": {},
   "outputs": [],
   "source": [
    "import pipeline_bhm\n",
    "\n",
    "pipeline_bhm.run_farthest_patients(patient_number=1,input_or_output=\"output\")"
   ]
  },
  {
   "cell_type": "markdown",
   "metadata": {},
   "source": [
    "> Using the results of the last wave of \\(\\#01\\) with the biomarkers of \\(\\#18\\) resulted in a reduction of the original space down to \\(1.94\\%\\)."
   ]
  },
  {
   "cell_type": "code",
   "execution_count": null,
   "metadata": {},
   "outputs": [],
   "source": [
    "import numpy as np\n",
    "\n",
    "NROY_rel = np.genfromtxt(\"/media/crg17/SeagateExpansionDrive/using_patient1_sd_10/wave2/NROY_rel_patient18_sd_10_lhd_1000000.dat\", dtype=float)\n",
    "\n",
    "print(NROY_rel)"
   ]
  },
  {
   "cell_type": "markdown",
   "metadata": {},
   "source": [
    "> The uncertainty quotient in the third wave of \\(\\#18\\) had a maximum value of \\(3.64\\) and a median value of \\(1.64\\)."
   ]
  },
  {
   "cell_type": "code",
   "execution_count": null,
   "metadata": {},
   "outputs": [],
   "source": [
    "import numpy as np\n",
    "\n",
    "VQ = np.genfromtxt(\"/media/crg17/SeagateExpansionDrive/using_patient1_sd_10/wave2/variance_quotient_wave2_patient18_using_patient1_sd_10.dat\", dtype=float)\n",
    "print(np.max(VQ))\n",
    "print(np.median(VQ))"
   ]
  },
  {
   "cell_type": "markdown",
   "metadata": {},
   "source": [
    "> The lowest match in terms of the NROY region similarity was also achieved when using the third wave of \\(\\#01\\) with the biomarkers of \\(\\#18\\): \\(83.61\\%\\) of the NROY points in the case of using the emulators of \\(\\#01\\) with the biomarkers of \\(\\#18\\) had the same status (not implausible) as with the case of running three waves using only case \\(\\#18\\)."
   ]
  },
  {
   "cell_type": "code",
   "execution_count": null,
   "metadata": {},
   "outputs": [],
   "source": [
    "import postprocessing\n",
    "\n",
    "perc = postprocessing.compare_nroy_binary(n_samples=1e5, whole_space=False, original_patient=18, original_last_wave=2, using_patient=1,\n",
    "                        using_last_wave=2)\n",
    "\n",
    "print(round(perc,2))"
   ]
  },
  {
   "cell_type": "markdown",
   "metadata": {},
   "source": [
    "|  | NROY size as % of original space | Implausibility of simulated point | Uncertainty quotient Max/median | NROY+RO / NROY match\n",
    "| :-: | \n",
    "| Using #10 on #01 | 8.73 | 0.7  |  2.43/1.31 | 99.06%/97.84% |\n",
    "| Ground truth | 8.89 |  0.9 | 2.23/1.08  | - |\n",
    "| Using #18 on #01 | 10.82 | 0.43 | 3.23/1.32  | 97.15%/97.71% |\n",
    "| Ground truth | 8.89 |  0.9 | 2.23/1.08  | - |\n",
    "| Using #01 on #10 | 11.5 | 0.39  | 2.44/1.1  | 98.97%/95.92% |\n",
    "| Ground truth | 12.2 | 0.34 |  2.02/1.18 | - |\n",
    "| Using #01 on #18 |  1.94 | 0.93  | 3.64/1.64 | 99.33%/83.61% |\n",
    "| Ground truth | 2.15 | 0.48 | 3.93/1.70  | - |"
   ]
  },
  {
   "cell_type": "markdown",
   "metadata": {},
   "source": [
    "Most of the numbers in the table have been already computed in previous snippets. The numbers of the first row:"
   ]
  },
  {
   "cell_type": "code",
   "execution_count": null,
   "metadata": {},
   "outputs": [],
   "source": [
    "import numpy as np\n",
    "\n",
    "NROY_rel = np.genfromtxt(\"/media/crg17/SeagateExpansionDrive/using_patient10_sd_10/wave2/NROY_rel_patient1_sd_10_lhd_1000000.dat\", dtype=float)\n",
    "\n",
    "print(NROY_rel)"
   ]
  },
  {
   "cell_type": "code",
   "execution_count": null,
   "metadata": {},
   "outputs": [],
   "source": [
    "import numpy as np\n",
    "\n",
    "implausibility = np.genfromtxt(\"/media/crg17/SeagateExpansionDrive/using_patient10_sd_10/wave2/implausibilities_patient1_sd_10.dat\", dtype=float)\n",
    "\n",
    "print(np.max(implausibility))"
   ]
  },
  {
   "cell_type": "code",
   "execution_count": null,
   "metadata": {},
   "outputs": [],
   "source": [
    "import numpy as np\n",
    "\n",
    "VQ = np.genfromtxt(\"/media/crg17/SeagateExpansionDrive/using_patient10_sd_10/wave2/variance_quotient_wave2_patient1_using_patient10_sd_10.dat\", dtype=float)\n",
    "print(np.max(VQ))\n",
    "print(np.median(VQ))"
   ]
  },
  {
   "cell_type": "code",
   "execution_count": null,
   "metadata": {},
   "outputs": [],
   "source": [
    "import postprocessing\n",
    "\n",
    "perc1 = postprocessing.compare_nroy_binary(n_samples=1e5, whole_space=True, original_patient=1, original_last_wave=2, using_patient=10,\n",
    "                        using_last_wave=2)\n",
    "perc2 = postprocessing.compare_nroy_binary(n_samples=1e5, whole_space=False, original_patient=1, original_last_wave=2, using_patient=10,\n",
    "                        using_last_wave=2)\n",
    "\n",
    "print(round(perc1,2),round(perc2,2))"
   ]
  },
  {
   "cell_type": "markdown",
   "metadata": {},
   "source": [
    "For the third row:"
   ]
  },
  {
   "cell_type": "code",
   "execution_count": null,
   "metadata": {},
   "outputs": [],
   "source": [
    "import numpy as np\n",
    "\n",
    "NROY_rel = np.genfromtxt(\"/media/crg17/SeagateExpansionDrive/using_patient18_sd_10/wave2/NROY_rel_patient1_sd_10_lhd_1000000.dat\", dtype=float)\n",
    "\n",
    "print(NROY_rel)"
   ]
  },
  {
   "cell_type": "code",
   "execution_count": null,
   "metadata": {},
   "outputs": [],
   "source": [
    "import numpy as np\n",
    "\n",
    "implausibility = np.genfromtxt(\"/media/crg17/SeagateExpansionDrive/using_patient18_sd_10/wave2/implausibilities_patient1_sd_10.dat\", dtype=float)\n",
    "\n",
    "print(np.max(implausibility))"
   ]
  },
  {
   "cell_type": "code",
   "execution_count": null,
   "metadata": {},
   "outputs": [],
   "source": [
    "import numpy as np\n",
    "\n",
    "VQ = np.genfromtxt(\"/media/crg17/SeagateExpansionDrive/using_patient18_sd_10/wave2/variance_quotient_wave2_patient1_using_patient18_sd_10.dat\", dtype=float)\n",
    "print(np.max(VQ))\n",
    "print(np.median(VQ))"
   ]
  },
  {
   "cell_type": "code",
   "execution_count": null,
   "metadata": {},
   "outputs": [],
   "source": [
    "import postprocessing\n",
    "\n",
    "perc1 = postprocessing.compare_nroy_binary(n_samples=1e5, whole_space=True, original_patient=1, original_last_wave=2, using_patient=18,\n",
    "                        using_last_wave=2)\n",
    "perc2 = postprocessing.compare_nroy_binary(n_samples=1e5, whole_space=False, original_patient=1, original_last_wave=2, using_patient=18,\n",
    "                        using_last_wave=2)\n",
    "\n",
    "print(round(perc1,2),round(perc2,2))"
   ]
  },
  {
   "cell_type": "markdown",
   "metadata": {},
   "source": [
    "NROY match using #01 on #10:"
   ]
  },
  {
   "cell_type": "code",
   "execution_count": null,
   "metadata": {},
   "outputs": [],
   "source": [
    "import postprocessing\n",
    "\n",
    "perc1 = postprocessing.compare_nroy_binary(n_samples=1e5, whole_space=True, original_patient=10, original_last_wave=2, using_patient=1,\n",
    "                        using_last_wave=2)\n",
    "perc2 = postprocessing.compare_nroy_binary(n_samples=1e5, whole_space=False, original_patient=10, original_last_wave=2, using_patient=1,\n",
    "                        using_last_wave=2)\n",
    "\n",
    "print(round(perc1,2),round(perc2,2))"
   ]
  },
  {
   "cell_type": "markdown",
   "metadata": {},
   "source": [
    "Implausibility of simulated point using #01 on #18:"
   ]
  },
  {
   "cell_type": "code",
   "execution_count": null,
   "metadata": {},
   "outputs": [],
   "source": [
    "import numpy as np\n",
    "\n",
    "implausibility = np.genfromtxt(\"/media/crg17/SeagateExpansionDrive/using_patient1_sd_10/wave2/implausibilities_patient18_sd_10.dat\", dtype=float)\n",
    "\n",
    "print(np.max(implausibility))"
   ]
  },
  {
   "cell_type": "code",
   "execution_count": null,
   "metadata": {},
   "outputs": [],
   "source": [
    "import postprocessing\n",
    "\n",
    "perc = postprocessing.compare_nroy_binary(n_samples=1e5, whole_space=True, original_patient=18, original_last_wave=2, using_patient=1,\n",
    "                        using_last_wave=2)\n",
    "\n",
    "print(round(perc,2))"
   ]
  },
  {
   "cell_type": "markdown",
   "metadata": {},
   "source": [
    "Last row of the table:"
   ]
  },
  {
   "cell_type": "code",
   "execution_count": null,
   "metadata": {},
   "outputs": [],
   "source": [
    "import numpy as np\n",
    "\n",
    "wave0_NROY_rel = np.genfromtxt(\"/media/crg17/SeagateExpansionDrive/initial_sweep/NROY_rel_patient18_sd_10.dat\", dtype=float)\n",
    "wave1_NROY_rel = np.genfromtxt(\"/media/crg17/SeagateExpansionDrive/patient18_sd_10/wave1/NROY_rel_patient18_sd_10.dat\", dtype=float)\n",
    "wave2_NROY_rel = np.genfromtxt(\"/media/crg17/SeagateExpansionDrive/patient18_sd_10/wave2/NROY_rel_patient18_sd_10.dat\", dtype=float)\n",
    "\n",
    "NROY_rel_full_pipeline = round(float(wave0_NROY_rel*wave1_NROY_rel/100.*wave2_NROY_rel/100.),2)\n",
    "\n",
    "print(NROY_rel_full_pipeline)"
   ]
  },
  {
   "cell_type": "code",
   "execution_count": null,
   "metadata": {},
   "outputs": [],
   "source": [
    "import numpy as np\n",
    "\n",
    "implausibility = np.genfromtxt(\"/media/crg17/SeagateExpansionDrive/patient18_sd_10/wave2/implausibilities_patient18_sd_10.dat\", dtype=float)\n",
    "\n",
    "print(np.max(implausibility))"
   ]
  },
  {
   "cell_type": "code",
   "execution_count": null,
   "metadata": {},
   "outputs": [],
   "source": [
    "import numpy as np\n",
    "\n",
    "VQ = np.genfromtxt(\"/media/crg17/SeagateExpansionDrive/patient18_sd_10/wave2/variance_quotient_wave2_patient18_sd_10.dat\", dtype=float)\n",
    "print(np.max(VQ))\n",
    "print(np.median(VQ))"
   ]
  },
  {
   "cell_type": "markdown",
   "metadata": {},
   "source": [
    "# Modifying the accuracy of the data"
   ]
  },
  {
   "cell_type": "markdown",
   "metadata": {},
   "source": [
    "We see the effect now of using SD=5% of the mean. It should make the NROYs more personalised, and so increase the discrepancy between literature and personalised."
   ]
  },
  {
   "cell_type": "code",
   "execution_count": null,
   "metadata": {},
   "outputs": [],
   "source": [
    "import pipeline_bhm\n",
    "\n",
    "pipeline_bhm.patient(patient_number=1, run_wave0=True, run_wave1=True, run_wave2=True, run_wave3=True, sd_magnitude=5)"
   ]
  },
  {
   "cell_type": "code",
   "execution_count": null,
   "metadata": {},
   "outputs": [],
   "source": [
    "import pipeline_bhm\n",
    "\n",
    "pipeline_bhm.patient(patient_number=18, run_wave0=True, run_wave1=True, run_wave2=True, run_wave3=True, sd_magnitude=5)"
   ]
  },
  {
   "cell_type": "markdown",
   "metadata": {},
   "source": [
    "# Reducing the uncertainty of the simulations"
   ]
  },
  {
   "cell_type": "markdown",
   "metadata": {},
   "source": [
    "> In the case of subject #01, the final NROY size went from 10.18% of the original space, in the last wave of the case of high uncertainty, down to 0.43%, in the first wave of the case of low uncertainty. By the third wave, the NROY space is 0.000096% of the original space. "
   ]
  },
  {
   "cell_type": "code",
   "execution_count": null,
   "metadata": {},
   "outputs": [],
   "source": [
    "import numpy as np\n",
    "\n",
    "wave0_NROY_rel = np.genfromtxt(\"/media/crg17/SeagateExpansionDrive/initial_sweep/NROY_rel_patient1_sd_10.dat\", dtype=float)\n",
    "wave1_NROY_rel = np.genfromtxt(\"/media/crg17/SeagateExpansionDrive/patient1_sd_10/wave1/NROY_rel_patient1_sd_10.dat\", dtype=float)\n",
    "wave2_NROY_rel = np.genfromtxt(\"/media/crg17/SeagateExpansionDrive/patient1_sd_10/wave2/NROY_rel_patient1_sd_10.dat\", dtype=float)\n",
    "\n",
    "print(round(float(wave0_NROY_rel*wave1_NROY_rel/100.*wave2_NROY_rel/100.*wave3_NROY_rel/100.),2))\n",
    "\n",
    "wave0_NROY_rel = np.genfromtxt(\"/media/crg17/SeagateExpansionDrive/initial_sweep_postthesis/NROY_rel_patient1_sd_5_lhd_100000.dat\", dtype=float)\n",
    "wave1_NROY_rel = np.genfromtxt(\"/media/crg17/SeagateExpansionDrive/patient1_sd_5/wave1/NROY_rel_patient1_sd_5_lhd_100000.dat\", dtype=float)\n",
    "wave2_NROY_rel = np.genfromtxt(\"/media/crg17/SeagateExpansionDrive/patient1_sd_5/wave2/NROY_rel_patient1_sd_5_lhd_100000.dat\", dtype=float)\n",
    "print(float(wave0_NROY_rel))\n",
    "print(float(wave0_NROY_rel*wave1_NROY_rel/100.))\n",
    "print(round(float(wave0_NROY_rel*wave1_NROY_rel/100.*wave2_NROY_rel/100.*wave3_NROY_rel/100.),6))"
   ]
  },
  {
   "cell_type": "markdown",
   "metadata": {},
   "source": [
    "> Similarly, subject #02’s NROY changed from 7.26% to 0.00003%"
   ]
  },
  {
   "cell_type": "code",
   "execution_count": null,
   "metadata": {
    "scrolled": true
   },
   "outputs": [],
   "source": [
    "import numpy as np\n",
    "\n",
    "wave0_NROY_rel = np.genfromtxt(\"/media/crg17/SeagateExpansionDrive/initial_sweep/NROY_rel_patient2_sd_10.dat\", dtype=float)\n",
    "wave1_NROY_rel = np.genfromtxt(\"/media/crg17/SeagateExpansionDrive/patient2_sd_10/wave1/NROY_rel_patient2_sd_10.dat\", dtype=float)\n",
    "wave2_NROY_rel = np.genfromtxt(\"/media/crg17/SeagateExpansionDrive/patient2_sd_10/wave2/NROY_rel_patient2_sd_10.dat\", dtype=float)\n",
    "\n",
    "print(round(float(wave0_NROY_rel*wave1_NROY_rel/100.*wave2_NROY_rel/100.),2))\n",
    "\n",
    "wave0_NROY_rel = np.genfromtxt(\"/media/crg17/SeagateExpansionDrive/initial_sweep/NROY_rel_patient2_sd_5_lhd_100000.dat\", dtype=float)\n",
    "wave1_NROY_rel = np.genfromtxt(\"/media/crg17/SeagateExpansionDrive/patient2_sd_5/wave1/NROY_rel_patient2_sd_5_lhd_100000.dat\", dtype=float)\n",
    "wave2_NROY_rel = np.genfromtxt(\"/media/crg17/SeagateExpansionDrive/patient2_sd_5/wave2/NROY_rel_patient2_sd_5_lhd_100000.dat\", dtype=float)\n",
    "print(float(wave0_NROY_rel))\n",
    "print(float(wave0_NROY_rel*wave1_NROY_rel/100.))\n",
    "print(round(float(wave0_NROY_rel*wave1_NROY_rel/100.*wave2_NROY_rel/100),6))"
   ]
  },
  {
   "cell_type": "markdown",
   "metadata": {},
   "source": [
    "> subject #10, from 11.79% to 0.00003%"
   ]
  },
  {
   "cell_type": "code",
   "execution_count": null,
   "metadata": {},
   "outputs": [],
   "source": [
    "import numpy as np\n",
    "\n",
    "wave0_NROY_rel = np.genfromtxt(\"/media/crg17/SeagateExpansionDrive/initial_sweep_thesis/NROY_rel_patient10_sd_10.dat\", dtype=float)\n",
    "wave1_NROY_rel = np.genfromtxt(\"/media/crg17/SeagateExpansionDrive/patient10_sd_10/wave1/NROY_rel_patient10_sd_10.dat\", dtype=float)\n",
    "wave2_NROY_rel = np.genfromtxt(\"/media/crg17/SeagateExpansionDrive/patient10_sd_10/wave2/NROY_rel_patient10_sd_10.dat\", dtype=float)\n",
    "\n",
    "print(round(float(wave0_NROY_rel*wave1_NROY_rel/100.*wave2_NROY_rel/100.),2))\n",
    "\n",
    "wave0_NROY_rel = np.genfromtxt(\"/media/crg17/SeagateExpansionDrive/initial_sweep/NROY_rel_patient10_sd_5_lhd_100000.dat\", dtype=float)\n",
    "wave1_NROY_rel = np.genfromtxt(\"/media/crg17/SeagateExpansionDrive/patient10_sd_5/wave1/NROY_rel_patient10_sd_5_lhd_100000.dat\", dtype=float)\n",
    "wave2_NROY_rel = np.genfromtxt(\"/media/crg17/SeagateExpansionDrive/patient10_sd_5/wave2/NROY_rel_patient10_sd_5_lhd_100000.dat\", dtype=float)\n",
    "print(float(wave0_NROY_rel))\n",
    "print(float(wave0_NROY_rel*wave1_NROY_rel/100.))\n",
    "print(float(wave0_NROY_rel*wave1_NROY_rel/100.*wave2_NROY_rel/100.))"
   ]
  },
  {
   "cell_type": "markdown",
   "metadata": {},
   "source": [
    "> and subject #18, from 2.07% to 0.13%. "
   ]
  },
  {
   "cell_type": "code",
   "execution_count": null,
   "metadata": {},
   "outputs": [],
   "source": [
    "import numpy as np\n",
    "\n",
    "wave0_NROY_rel = np.genfromtxt(\"/media/crg17/SeagateExpansionDrive/initial_sweep/NROY_rel_patient18_sd_10.dat\", dtype=float)\n",
    "wave1_NROY_rel = np.genfromtxt(\"/media/crg17/SeagateExpansionDrive/patient18_sd_10/wave1/NROY_rel_patient18_sd_10.dat\", dtype=float)\n",
    "wave2_NROY_rel = np.genfromtxt(\"/media/crg17/SeagateExpansionDrive/patient18_sd_10/wave2/NROY_rel_patient18_sd_10.dat\", dtype=float)\n",
    "\n",
    "print(round(float(wave0_NROY_rel*wave1_NROY_rel/100.*wave2_NROY_rel/100.*wave3_NROY_rel/100.),2))\n",
    "\n",
    "wave0_NROY_rel = np.genfromtxt(\"/media/crg17/SeagateExpansionDrive/initial_sweep_postthesis/NROY_rel_patient18_sd_5_lhd_100000.dat\", dtype=float)\n",
    "#wave1_NROY_rel = np.genfromtxt(\"/media/crg17/SeagateExpansionDrive/patient18_sd_5/wave1/NROY_rel_patient18_sd_5_lhd_100000.dat\", dtype=float)\n",
    "#wave2_NROY_rel = np.genfromtxt(\"/media/crg17/SeagateExpansionDrive/patient18_sd_5/wave2/NROY_rel_patient18_sd_5_lhd_100000.dat\", dtype=float)\n",
    "print(float(wave0_NROY_rel))\n",
    "#print(float(wave0_NROY_rel*wave1_NROY_rel/100.))\n",
    "#print(round(float(wave0_NROY_rel*wave1_NROY_rel/100.*wave2_NROY_rel/100.*wave3_NROY_rel/100.),6))"
   ]
  },
  {
   "cell_type": "markdown",
   "metadata": {},
   "source": [
    "> In terms of VQ, the biggest increase was observed in subjects #01 where the maximum value of VQ changed from 2.92 to 14.03 and the median value changed from 1.11 to 8. "
   ]
  },
  {
   "cell_type": "code",
   "execution_count": null,
   "metadata": {},
   "outputs": [],
   "source": [
    "VQ_p1_10 = np.genfromtxt(\"/media/crg17/SeagateExpansionDrive/patient1_sd_10/wave2/variance_quotient_wave2_patient1_sd_10.dat\", dtype=float)\n",
    "\n",
    "VQ_p1_5 = np.genfromtxt(\"/media/crg17/SeagateExpansionDrive/patient1_sd_5/wave2/variance_quotient_wave2_patient1_sd_5.dat\", dtype=float)\n",
    "\n",
    "VQ_p2_10 = np.genfromtxt(\"/media/crg17/SeagateExpansionDrive/patient2_sd_10/wave2/variance_quotient_wave2_patient2_sd_10.dat\", dtype=float)\n",
    "\n",
    "VQ_p2_5 = np.genfromtxt(\"/media/crg17/SeagateExpansionDrive/patient2_sd_5/wave2/variance_quotient_wave2_patient2_sd_5.dat\", dtype=float)\n",
    "\n",
    "VQ_p10_10 = np.genfromtxt(\"/media/crg17/SeagateExpansionDrive/patient10_sd_10/wave2/variance_quotient_wave2_patient10_sd_10.dat\", dtype=float)\n",
    "\n",
    "VQ_p10_5 = np.genfromtxt(\"/media/crg17/SeagateExpansionDrive/patient10_sd_5/wave2/variance_quotient_wave2_patient10_sd_5.dat\", dtype=float)\n",
    "\n",
    "VQ_p18_10 = np.genfromtxt(\"/media/crg17/SeagateExpansionDrive/patient18_sd_10/wave2/variance_quotient_wave2_patient18_sd_10.dat\", dtype=float)\n",
    "\n",
    "VQ_p18_5 = np.genfromtxt(\"/media/crg17/SeagateExpansionDrive/initial_sweep/variance_quotient_wave0_patient18_sd_5.dat\", dtype=float)\n",
    "\n",
    "print(np.max(VQ_p1_5)-np.max(VQ_p1_10))\n",
    "print(np.median(VQ_p1_5)-np.median(VQ_p1_10))\n",
    "\n",
    "print(np.max(VQ_p2_5)-np.max(VQ_p2_10))\n",
    "print(np.median(VQ_p2_5)-np.median(VQ_p2_10))\n",
    "\n",
    "print(np.max(VQ_p10_5)-np.max(VQ_p10_10))\n",
    "print(np.median(VQ_p10_5)-np.median(VQ_p10_10))\n",
    "\n",
    "print(np.max(VQ_p18_5)-np.max(VQ_p18_10))\n",
    "print(np.median(VQ_p18_5)-np.median(VQ_p18_10))\n",
    "\n",
    "print(np.max(VQ_p1_10))\n",
    "print(np.max(VQ_p1_5))\n",
    "print(np.median(VQ_p1_10))\n",
    "print(np.median(VQ_p1_5))\n",
    "print(np.max(VQ_p2_10))\n",
    "print(np.max(VQ_p2_5))\n",
    "print(np.median(VQ_p2_10))\n",
    "print(np.median(VQ_p2_5))\n"
   ]
  },
  {
   "cell_type": "code",
   "execution_count": null,
   "metadata": {},
   "outputs": [],
   "source": [
    "import numpy as np\n",
    "\n",
    "implausibility = np.genfromtxt(\"/media/crg17/SeagateExpansionDrive/patient1_sd_10/wave2/implausibilities_patient1_sd_10.dat\", dtype=float)\n",
    "\n",
    "print(np.max(implausibility))\n",
    "\n",
    "implausibility = np.genfromtxt(\"/media/crg17/SeagateExpansionDrive/patient1_sd_5/wave2/implausibilities_patient1_sd_5.dat\", dtype=float)\n",
    "\n",
    "print(np.max(implausibility))\n",
    "\n",
    "implausibility = np.genfromtxt(\"/media/crg17/SeagateExpansionDrive/patient2_sd_10/wave2/implausibilities_patient2_sd_10.dat\", dtype=float)\n",
    "\n",
    "print(np.max(implausibility))\n",
    "\n",
    "implausibility = np.genfromtxt(\"/media/crg17/SeagateExpansionDrive/patient2_sd_5/wave2/implausibilities_patient2_sd_5.dat\", dtype=float)\n",
    "\n",
    "print(np.max(implausibility))\n",
    "\n",
    "implausibility = np.genfromtxt(\"/media/crg17/SeagateExpansionDrive/patient10_sd_10/wave2/implausibilities_patient10_sd_10.dat\", dtype=float)\n",
    "\n",
    "print(np.max(implausibility))\n",
    "\n",
    "implausibility = np.genfromtxt(\"/media/crg17/SeagateExpansionDrive/patient10_sd_5/wave2/implausibilities_patient10_sd_5.dat\", dtype=float)\n",
    "\n",
    "print(np.max(implausibility))\n",
    "\n",
    "implausibility = np.genfromtxt(\"/media/crg17/SeagateExpansionDrive/patient18_sd_10/wave2/implausibilities_patient18_sd_10.dat\", dtype=float)\n",
    "\n",
    "print(np.max(implausibility))\n",
    "\n",
    "implausibility = np.genfromtxt(\"/media/crg17/SeagateExpansionDrive/initial_sweep/implausibilities_patient18_sd_5.dat\", dtype=float)\n",
    "\n",
    "print(np.max(implausibility))\n"
   ]
  },
  {
   "cell_type": "code",
   "execution_count": null,
   "metadata": {},
   "outputs": [],
   "source": [
    "import postprocessing\n",
    "\n",
    "postprocessing.compare_nroy_two_cases(folder_a=\"patient1_sd_10\", wave_a_number=2, wave_a_name=\"wave2_patient1_sd_10\",\n",
    "                           emulators_a=[\"initial_sweep\", \"patient1_sd_10/wave1\", \"patient1_sd_10/wave2\"],\n",
    "                           biomarkers_patient_number_a=1, sd_magnitude_a=10,\n",
    "                           folder_b=\"patient1_sd_5\", wave_b_number=2, wave_b_name=\"wave2_patient1_sd_5\",\n",
    "                           emulators_b=[\"initial_sweep\", \"patient1_sd_5/wave1\", \"patient1_sd_5/wave2\"],\n",
    "                           biomarkers_patient_number_b=1, sd_magnitude_b=5)\n",
    "\n",
    "postprocessing.compare_nroy_two_cases(folder_a=\"patient2_sd_10\", wave_a_number=2, wave_a_name=\"wave2_patient2_sd_10\",\n",
    "                           emulators_a=[\"initial_sweep\", \"patient2_sd_10/wave1\", \"patient2_sd_10/wave2\"],\n",
    "                           biomarkers_patient_number_a=2, sd_magnitude_a=10,\n",
    "                           folder_b=\"patient2_sd_5\", wave_b_number=2, wave_b_name=\"wave2_patient2_sd_5\",\n",
    "                           emulators_b=[\"initial_sweep\", \"patient2_sd_5/wave1\", \"patient2_sd_5/wave2\"],\n",
    "                           biomarkers_patient_number_b=2, sd_magnitude_b=5)\n",
    "\n",
    "postprocessing.compare_nroy_two_cases(folder_a=\"patient10_sd_10\", wave_a_number=2, wave_a_name=\"wave2_patient10_sd_10\",\n",
    "                           emulators_a=[\"initial_sweep\", \"patient10_sd_10/wave1\", \"patient10_sd_10/wave2\"],\n",
    "                           biomarkers_patient_number_a=10, sd_magnitude_a=10,\n",
    "                           folder_b=\"patient10_sd_5\", wave_b_number=2, wave_b_name=\"wave2_patient10_sd_5\",\n",
    "                           emulators_b=[\"initial_sweep\", \"patient10_sd_5/wave1\", \"patient10_sd_5/wave2\"],\n",
    "                           biomarkers_patient_number_b=10, sd_magnitude_b=5)\n",
    "\n",
    "postprocessing.compare_nroy_two_cases(folder_a=\"patient18_sd_10\", wave_a_number=2, wave_a_name=\"wave2_patient18_sd_10\",\n",
    "                           emulators_a=[\"initial_sweep\", \"patient18_sd_10/wave1\", \"patient18_sd_10/wave2\"],\n",
    "                           biomarkers_patient_number_a=18, sd_magnitude_a=10,\n",
    "                           folder_b=\"initial_sweep\", wave_b_number=0, wave_b_name=\"wave0_patient18_sd_5\",\n",
    "                           emulators_b=[\"initial_sweep\"],\n",
    "                           biomarkers_patient_number_b=18, sd_magnitude_b=5)"
   ]
  },
  {
   "cell_type": "markdown",
   "metadata": {},
   "source": [
    "# Find why the NROY of the L.U.C. is not completely included in the NROY of the H.U.C."
   ]
  },
  {
   "cell_type": "markdown",
   "metadata": {},
   "source": [
    "As a first approach, we check the overlapping of the NROY's using the emulators for the initial wave:"
   ]
  },
  {
   "cell_type": "code",
   "execution_count": null,
   "metadata": {},
   "outputs": [],
   "source": [
    "import postprocessing\n",
    "\n",
    "postprocessing.compare_nroy_two_cases(folder_a=\"initial_sweep\", wave_a_number=0, wave_a_name=\"wave0_patient1_sd_10\",\n",
    "                           emulators_a=[\"initial_sweep\"],\n",
    "                           biomarkers_patient_number_a=1, sd_magnitude_a=10,\n",
    "                           folder_b=\"initial_sweep\", wave_b_number=0, wave_b_name=\"wave0_patient1_sd_5\",\n",
    "                           emulators_b=[\"initial_sweep\"],\n",
    "                           biomarkers_patient_number_b=1, sd_magnitude_b=5)"
   ]
  },
  {
   "cell_type": "code",
   "execution_count": null,
   "metadata": {},
   "outputs": [],
   "source": [
    "import postprocessing\n",
    "\n",
    "postprocessing.compare_nroy_two_cases(folder_a=\"patient1_sd_10\", wave_a_number=2, wave_a_name=\"wave2_patient1_sd_10\",\n",
    "                           emulators_a=[\"initial_sweep\", \"patient1_sd_10/wave1\"],\n",
    "                           biomarkers_patient_number_a=1, sd_magnitude_a=10,\n",
    "                           folder_b=\"patient1_sd_5\", wave_b_number=2, wave_b_name=\"wave2_patient1_sd_5\",\n",
    "                           emulators_b=[\"initial_sweep\", \"patient1_sd_5/wave1\"],\n",
    "                           biomarkers_patient_number_b=1, sd_magnitude_b=5)"
   ]
  },
  {
   "cell_type": "code",
   "execution_count": null,
   "metadata": {},
   "outputs": [],
   "source": [
    "import postprocessing\n",
    "\n",
    "postprocessing.compare_nroy_two_cases(folder_a=\"patient1_sd_10\", wave_a_number=2, wave_a_name=\"wave2_patient1_sd_10\",\n",
    "                           emulators_a=[\"initial_sweep\", \"patient1_sd_10/wave1\", \"patient1_sd_10/wave2\"],\n",
    "                           biomarkers_patient_number_a=1, sd_magnitude_a=10,\n",
    "                           folder_b=\"patient1_sd_5\", wave_b_number=2, wave_b_name=\"wave2_patient1_sd_5\",\n",
    "                           emulators_b=[\"initial_sweep\", \"patient1_sd_5/wave1\", \"patient1_sd_5/wave2\"],\n",
    "                           biomarkers_patient_number_b=1, sd_magnitude_b=5)"
   ]
  },
  {
   "cell_type": "markdown",
   "metadata": {},
   "source": [
    "So it doesn't seem to be a bug. Looking at the VQ seems that the median variance also increases more in the L.U.C. and so points that before were implausible, now they are not implausible because we lose confindence in the ability of the emulator to predict. In fact, the variances are:"
   ]
  },
  {
   "cell_type": "code",
   "execution_count": null,
   "metadata": {},
   "outputs": [],
   "source": [
    "import postprocessing\n",
    "\n",
    "postprocessing.print_emulator_variances(emulators_folders=[\"initial_sweep\", \"patient1_sd_10/wave1\", \"patient1_sd_10/wave2\"])"
   ]
  },
  {
   "cell_type": "markdown",
   "metadata": {},
   "source": [
    "While in the L.U.C. the variances are:"
   ]
  },
  {
   "cell_type": "code",
   "execution_count": null,
   "metadata": {},
   "outputs": [],
   "source": [
    "import postprocessing\n",
    "\n",
    "postprocessing.print_emulator_variances(emulators_folders=[\"initial_sweep\", \"patient1_sd_5/wave1\", \"patient1_sd_5/wave2\"])"
   ]
  },
  {
   "cell_type": "code",
   "execution_count": null,
   "metadata": {
    "scrolled": true
   },
   "outputs": [],
   "source": [
    "import numpy as np\n",
    "import postprocessing\n",
    "\n",
    "HUC_var = postprocessing.print_emulator_variances(emulators_folders=[\"initial_sweep\", \"patient1_sd_10/wave1\", \"patient1_sd_10/wave2\"])\n",
    "LUC_var = postprocessing.print_emulator_variances(emulators_folders=[\"initial_sweep\", \"patient1_sd_5/wave1\", \"patient1_sd_5/wave2\"])\n",
    "\n",
    "delta_var = [100*(LUC_var[i]/HUC_var[i]-1) for i in range(len(HUC_var))]\n",
    "print([round(d,2) for d in delta_var])\n",
    "\n",
    "print(\"There has been a mean change of {}%+-{}%\".format(round(np.mean(delta_var),2),round(np.std(delta_var)),2))"
   ]
  },
  {
   "cell_type": "markdown",
   "metadata": {},
   "source": [
    "However, it seems that in the case of the ground truth points the situation changes, since in the H.U.C. they were non-implausible, while in the L.U.C. they are implausible. "
   ]
  },
  {
   "cell_type": "code",
   "execution_count": null,
   "metadata": {},
   "outputs": [],
   "source": [
    "import postprocessing\n",
    "\n",
    "postprocessing.print_patient_implausibility_terms(emulators_folders=[\"initial_sweep\", \"patient1_sd_10/wave1\", \"patient1_sd_10/wave2\"],\n",
    "                                       patient_number=1, sd_magnitude=10)"
   ]
  },
  {
   "cell_type": "code",
   "execution_count": null,
   "metadata": {},
   "outputs": [],
   "source": [
    "import postprocessing\n",
    "\n",
    "postprocessing.print_patient_implausibility_terms(emulators_folders=[\"initial_sweep\", \"patient1_sd_5/wave1\",\n",
    "                                                                     \"patient1_sd_5/wave2\"],\n",
    "                                       patient_number=1, sd_magnitude=5)"
   ]
  },
  {
   "cell_type": "markdown",
   "metadata": {},
   "source": [
    "Therefore, in the case of subject #01 the ground truth point becomes implausible because instead of predicting a RAV of 113 mL approx, it predicts 50.01 mL. We repeat the process for subject #02:"
   ]
  },
  {
   "cell_type": "code",
   "execution_count": null,
   "metadata": {},
   "outputs": [],
   "source": [
    "import postprocessing\n",
    "\n",
    "postprocessing.print_patient_implausibility_terms(emulators_folders=[\"initial_sweep\", \"patient2_sd_10/wave1\",\n",
    "                                                                     \"patient2_sd_10/wave2\"],\n",
    "                                       patient_number=2, sd_magnitude=10)"
   ]
  },
  {
   "cell_type": "code",
   "execution_count": null,
   "metadata": {},
   "outputs": [],
   "source": [
    "import postprocessing\n",
    "\n",
    "postprocessing.print_patient_implausibility_terms(emulators_folders=[\"initial_sweep\", \"patient2_sd_5/wave1\",\n",
    "                                                                     \"patient2_sd_5/wave2\"],\n",
    "                                       patient_number=2, sd_magnitude=5)"
   ]
  },
  {
   "cell_type": "markdown",
   "metadata": {},
   "source": [
    "In this case, the problem is with the RVOTdiam, predicting 28.45 mm instead of 35.54. As for case #10:"
   ]
  },
  {
   "cell_type": "code",
   "execution_count": null,
   "metadata": {},
   "outputs": [],
   "source": [
    "import postprocessing\n",
    "\n",
    "postprocessing.print_patient_implausibility_terms(emulators_folders=[\"initial_sweep\", \"patient10_sd_10/wave1\",\n",
    "                                                                     \"patient10_sd_10/wave2\"],\n",
    "                                       patient_number=10, sd_magnitude=10)"
   ]
  },
  {
   "cell_type": "code",
   "execution_count": null,
   "metadata": {},
   "outputs": [],
   "source": [
    "import postprocessing\n",
    "\n",
    "postprocessing.print_patient_implausibility_terms(emulators_folders=[\"initial_sweep\", \"patient10_sd_5/wave1\",\n",
    "                                                                     \"patient10_sd_5/wave2\"],\n",
    "                                       patient_number=10, sd_magnitude=5)"
   ]
  },
  {
   "cell_type": "markdown",
   "metadata": {},
   "source": [
    "In this case, the problem is with LAV, predicting a volume of 45.3 mL, instead of 86 mL. So the problem in all cases is a loss of accuracy in the emulators. Since from the first wave there is a collapse of the NROY space and in new waves the emulators train in the neighbourhood of the NROY, the L.U.C. emulators do not have enough accuracy to predict points outside of the NROY and therefore being non-implausible. This fact provokes a domino effect on the shape of the NROY. A potential solution if using higher accuracy data acquisition techniques such as MRI would be to sample in a bigger space (not only in the neighborhood of the NROY region); reducing the number of training points in subsequent waves or run only a single wave."
   ]
  },
  {
   "cell_type": "markdown",
   "metadata": {},
   "source": [
    "# Extra edits before submission"
   ]
  },
  {
   "cell_type": "markdown",
   "metadata": {},
   "source": [
    "We added a column to Table 3 repeating the analysis but using the emulators only of the initial sweep. "
   ]
  },
  {
   "cell_type": "markdown",
   "metadata": {},
   "source": [
    "NROY size as % of original space:"
   ]
  },
  {
   "cell_type": "code",
   "execution_count": null,
   "metadata": {},
   "outputs": [],
   "source": [
    "import numpy as np\n",
    "\n",
    "wave0_NROY_rel = np.genfromtxt(\"/media/crg17/SeagateExpansionDrive/initial_sweep/NROY_rel_patient1_sd_10.dat\", dtype=float)\n",
    "print(wave0_NROY_rel)\n",
    "\n",
    "\n",
    "wave0_NROY_rel = np.genfromtxt(\"/media/crg17/SeagateExpansionDrive/initial_sweep/NROY_rel_patient2_sd_10.dat\", dtype=float)\n",
    "print(wave0_NROY_rel)\n",
    "\n",
    "wave0_NROY_rel = np.genfromtxt(\"/media/crg17/SeagateExpansionDrive/initial_sweep/NROY_rel_patient10_sd_10.dat\", dtype=float)\n",
    "print(wave0_NROY_rel)\n",
    "\n",
    "wave0_NROY_rel = np.genfromtxt(\"/media/crg17/SeagateExpansionDrive/initial_sweep/NROY_rel_patient18_sd_10.dat\", dtype=float)\n",
    "print(wave0_NROY_rel)"
   ]
  },
  {
   "cell_type": "markdown",
   "metadata": {},
   "source": [
    "Implausibility of simulated point:"
   ]
  },
  {
   "cell_type": "code",
   "execution_count": null,
   "metadata": {},
   "outputs": [],
   "source": [
    "implausibility = np.genfromtxt(\"/media/crg17/SeagateExpansionDrive/initial_sweep/implausibilities_patient1_sd_10.dat\", dtype=float)\n",
    "\n",
    "print(np.max(implausibility))\n",
    "\n",
    "implausibility = np.genfromtxt(\"/media/crg17/SeagateExpansionDrive/initial_sweep/implausibilities_patient2_sd_10.dat\", dtype=float)\n",
    "\n",
    "print(np.max(implausibility))"
   ]
  },
  {
   "cell_type": "markdown",
   "metadata": {},
   "source": [
    "$VQ$:"
   ]
  },
  {
   "cell_type": "code",
   "execution_count": null,
   "metadata": {},
   "outputs": [],
   "source": [
    "VQ = np.genfromtxt(\"/media/crg17/SeagateExpansionDrive/initial_sweep/variance_quotient_wave0_patient1_sd_10.dat\", dtype=float)\n",
    "print(np.max(VQ))\n",
    "print(np.median(VQ))"
   ]
  },
  {
   "cell_type": "code",
   "execution_count": null,
   "metadata": {},
   "outputs": [],
   "source": [
    "VQ = np.genfromtxt(\"/media/crg17/SeagateExpansionDrive/initial_sweep/variance_quotient_wave0_patient2_sd_10.dat\", dtype=float)\n",
    "print(np.max(VQ))\n",
    "print(np.median(VQ))"
   ]
  },
  {
   "cell_type": "markdown",
   "metadata": {},
   "source": [
    "NROY+RO/NROY match:"
   ]
  },
  {
   "cell_type": "code",
   "execution_count": null,
   "metadata": {
    "scrolled": true
   },
   "outputs": [],
   "source": [
    "import postprocessing\n",
    "\n",
    "perc_initial_sweep_using_2_RO = postprocessing.compare_nroy_binary(n_samples=1e5, whole_space=True, original_patient=1, original_last_wave=0, using_patient=2,\n",
    "                        using_last_wave=2)\n",
    "perc_initial_sweep_using_2_NROY = postprocessing.compare_nroy_binary(n_samples=1e5, whole_space=False, original_patient=1, original_last_wave=0, using_patient=2,\n",
    "                        using_last_wave=2)\n",
    "perc_initial_sweep_using_1_RO = postprocessing.compare_nroy_binary(n_samples=1e5, whole_space=True, original_patient=2, original_last_wave=0, using_patient=1,\n",
    "                        using_last_wave=2)\n",
    "perc_initial_sweep_using_1_NROY = postprocessing.compare_nroy_binary(n_samples=1e5, whole_space=False, original_patient=2, original_last_wave=0, using_patient=1,\n",
    "                        using_last_wave=2)\n",
    "\n",
    "\n",
    "print(round(perc_initial_sweep_using_2_RO,2), round(perc_initial_sweep_using_2_NROY,2), round(perc_initial_sweep_using_1_RO,2), round(perc_initial_sweep_using_1_NROY,2))"
   ]
  },
  {
   "cell_type": "markdown",
   "metadata": {},
   "source": [
    "# Plot parameter space"
   ]
  },
  {
   "cell_type": "markdown",
   "metadata": {},
   "source": [
    "A way to visualize the parameter space is drawing the distribution of parameter values in the NROY region. We used kernel densities estimations of histograms with a bin width of 5% the range of the values for each parameter. We first show initial space values values compared with subject #01:"
   ]
  },
  {
   "cell_type": "code",
   "execution_count": null,
   "metadata": {},
   "outputs": [],
   "source": [
    "import postprocessing\n",
    "import os\n",
    "from global_variables_config import *\n",
    "\n",
    "waves_paths = [os.path.join(PROJECT_PATH, \"initial_sweep\", \"wave0_patient1_sd_10\"),\n",
    "               os.path.join(PROJECT_PATH, \"patient1_sd_10\", \"wave1\", \"wave1_patient1_sd_10\"),\n",
    "               os.path.join(PROJECT_PATH, \"patient1_sd_10\", \"wave2\", \"wave2_patient1_sd_10\")\n",
    "             ]\n",
    "legends = [\"Using emulators from the first wave of #01\",\n",
    "           \"Using emulators from the second wave of #01\",\n",
    "           \"Using emulators from the third wave of #01\"\n",
    "          ]\n",
    "\n",
    "file_path = os.path.join(PROJECT_PATH, \"figures\")\n",
    "file_name = \"densities_waves_#01.png\"\n",
    "\n",
    "postprocessing.plot_parameter_distributions(waves_paths = waves_paths, legends = legends,\n",
    "                                            file_path = file_path, file_name = file_name)"
   ]
  },
  {
   "cell_type": "markdown",
   "metadata": {},
   "source": [
    "Now we compare the last wave of two very different patients and if we use the biomarkers of one with the emulators of the other:"
   ]
  },
  {
   "cell_type": "code",
   "execution_count": null,
   "metadata": {},
   "outputs": [],
   "source": [
    "import postprocessing\n",
    "import os\n",
    "from global_variables_config import *\n",
    "\n",
    "waves_paths = [os.path.join(PROJECT_PATH, \"patient1_sd_10\", \"wave2\", \"wave2_patient1_sd_10\"),\n",
    "               os.path.join(PROJECT_PATH, \"patient18_sd_10\", \"wave2\", \"wave2_patient18_sd_10\"),\n",
    "               os.path.join(PROJECT_PATH, \"using_patient1_sd_10\", \"wave2\", \"wave2_patient18_using_patient1_sd_10\")\n",
    "             ]\n",
    "legends = [\"Trained with data from #01\\n and constraining with data from #01\",\n",
    "           \"Trained with data from #18\\n and constraining with data from #18\",\n",
    "           \"Trained with data from #01\\n and constraining with data from #18\",\n",
    "          ]\n",
    "\n",
    "file_path = os.path.join(PROJECT_PATH, \"figures\")\n",
    "file_name = \"densities_#01_vs_#18.png\"\n",
    "\n",
    "postprocessing.plot_parameter_distributions(waves_paths = waves_paths, legends = legends,\n",
    "                                            file_path = file_path, file_name = file_name)"
   ]
  },
  {
   "cell_type": "markdown",
   "metadata": {},
   "source": [
    "# Creating a 1D example"
   ]
  },
  {
   "cell_type": "markdown",
   "metadata": {},
   "source": [
    "We hypothesise that training with high density of points in a region compared to low density outside increases the uncertainty in the middle. To test this we try to reproduce it using a 1D example:"
   ]
  },
  {
   "cell_type": "code",
   "execution_count": 1,
   "metadata": {},
   "outputs": [],
   "source": [
    "import os\n",
    "import sys\n",
    "module_path = os.path.abspath(os.path.join('..'))\n",
    "if module_path not in sys.path:\n",
    "    sys.path.append(module_path)"
   ]
  },
  {
   "cell_type": "code",
   "execution_count": 2,
   "metadata": {},
   "outputs": [],
   "source": [
    "# function to learn (normally a high-dimensional, expensive deterministic model)\n",
    "from GPErks.utils.test_functions import forrester\n",
    "f = lambda x: np.sin(20*x)\n",
    "D = 1"
   ]
  },
  {
   "cell_type": "code",
   "execution_count": 3,
   "metadata": {},
   "outputs": [],
   "source": [
    "import numpy as np\n",
    "\n",
    "from GPErks.gp.data.dataset import Dataset\n",
    "dataset_1 = Dataset.build_from_function(\n",
    "    f,\n",
    "    D,\n",
    "    n_train_samples=3,\n",
    "    n_test_samples=0,\n",
    "    design=\"srs\",\n",
    "    seed=2,\n",
    "    l_bounds=[0],\n",
    "    u_bounds=[0.5] \n",
    ")"
   ]
  },
  {
   "cell_type": "code",
   "execution_count": 4,
   "metadata": {},
   "outputs": [
    {
     "name": "stderr",
     "output_type": "stream",
     "text": [
      "INFO:2022-05-09 11:37:04,562:emulator:train:L83: Training emulator...\n",
      "INFO:2022-05-09 11:37:04,564:emulator:train:L99: Running restart 1...\n",
      "/home/crg17/Desktop/KCL_projects/fitting/python/Historia/venv/lib/python3.8/site-packages/gpytorch/models/exact_gp.py:273: GPInputWarning: The input matches the stored training data. Did you forget to call model.train()?\n",
      "  warnings.warn(\n",
      "INFO:2022-05-09 11:37:04,627:emulator:_train_once:L308: [  1/100] Training Loss: 1.8831 - MeanSquaredError: 1.0199 - R2Score: -0.0199\n",
      "INFO:2022-05-09 11:37:04,636:emulator:_train_once:L308: [  2/100] Training Loss: 1.7850 - MeanSquaredError: 0.9420 - R2Score: 0.0580\n",
      "INFO:2022-05-09 11:37:04,645:emulator:_train_once:L308: [  3/100] Training Loss: 1.7082 - MeanSquaredError: 0.8702 - R2Score: 0.1298\n",
      "INFO:2022-05-09 11:37:04,657:emulator:_train_once:L308: [  4/100] Training Loss: 1.6476 - MeanSquaredError: 0.8060 - R2Score: 0.1940\n",
      "INFO:2022-05-09 11:37:04,669:emulator:_train_once:L308: [  5/100] Training Loss: 1.5984 - MeanSquaredError: 0.7519 - R2Score: 0.2481\n",
      "INFO:2022-05-09 11:37:04,682:emulator:_train_once:L308: [  6/100] Training Loss: 1.5576 - MeanSquaredError: 0.7081 - R2Score: 0.2919\n",
      "INFO:2022-05-09 11:37:04,692:emulator:_train_once:L308: [  7/100] Training Loss: 1.5238 - MeanSquaredError: 0.6732 - R2Score: 0.3268\n",
      "INFO:2022-05-09 11:37:04,702:emulator:_train_once:L308: [  8/100] Training Loss: 1.4958 - MeanSquaredError: 0.6452 - R2Score: 0.3548\n",
      "INFO:2022-05-09 11:37:04,711:emulator:_train_once:L308: [  9/100] Training Loss: 1.4730 - MeanSquaredError: 0.6220 - R2Score: 0.3780\n",
      "INFO:2022-05-09 11:37:04,720:emulator:_train_once:L308: [ 10/100] Training Loss: 1.4546 - MeanSquaredError: 0.6016 - R2Score: 0.3984\n",
      "INFO:2022-05-09 11:37:04,729:emulator:_train_once:L308: [ 11/100] Training Loss: 1.4399 - MeanSquaredError: 0.5822 - R2Score: 0.4178\n",
      "INFO:2022-05-09 11:37:04,738:emulator:_train_once:L308: [ 12/100] Training Loss: 1.4284 - MeanSquaredError: 0.5623 - R2Score: 0.4377\n",
      "INFO:2022-05-09 11:37:04,746:emulator:_train_once:L308: [ 13/100] Training Loss: 1.4196 - MeanSquaredError: 0.5405 - R2Score: 0.4595\n",
      "INFO:2022-05-09 11:37:04,755:emulator:_train_once:L308: [ 14/100] Training Loss: 1.4128 - MeanSquaredError: 0.5162 - R2Score: 0.4838\n",
      "INFO:2022-05-09 11:37:04,764:emulator:_train_once:L308: [ 15/100] Training Loss: 1.4072 - MeanSquaredError: 0.4892 - R2Score: 0.5108\n",
      "INFO:2022-05-09 11:37:04,773:emulator:_train_once:L308: [ 16/100] Training Loss: 1.4018 - MeanSquaredError: 0.4603 - R2Score: 0.5397\n",
      "INFO:2022-05-09 11:37:04,782:emulator:_train_once:L308: [ 17/100] Training Loss: 1.3957 - MeanSquaredError: 0.4303 - R2Score: 0.5697\n",
      "INFO:2022-05-09 11:37:04,790:emulator:_train_once:L308: [ 18/100] Training Loss: 1.3878 - MeanSquaredError: 0.4003 - R2Score: 0.5997\n",
      "INFO:2022-05-09 11:37:04,798:emulator:_train_once:L308: [ 19/100] Training Loss: 1.3776 - MeanSquaredError: 0.3711 - R2Score: 0.6289\n",
      "INFO:2022-05-09 11:37:04,808:emulator:_train_once:L308: [ 20/100] Training Loss: 1.3646 - MeanSquaredError: 0.3428 - R2Score: 0.6572\n",
      "INFO:2022-05-09 11:37:04,816:emulator:_train_once:L308: [ 21/100] Training Loss: 1.3483 - MeanSquaredError: 0.3146 - R2Score: 0.6854\n",
      "INFO:2022-05-09 11:37:04,826:emulator:_train_once:L308: [ 22/100] Training Loss: 1.3284 - MeanSquaredError: 0.2858 - R2Score: 0.7142\n",
      "INFO:2022-05-09 11:37:04,835:emulator:_train_once:L308: [ 23/100] Training Loss: 1.3046 - MeanSquaredError: 0.2556 - R2Score: 0.7444\n",
      "INFO:2022-05-09 11:37:04,845:emulator:_train_once:L308: [ 24/100] Training Loss: 1.2767 - MeanSquaredError: 0.2241 - R2Score: 0.7759\n",
      "INFO:2022-05-09 11:37:04,855:emulator:_train_once:L308: [ 25/100] Training Loss: 1.2452 - MeanSquaredError: 0.1920 - R2Score: 0.8080\n",
      "INFO:2022-05-09 11:37:04,864:emulator:_train_once:L308: [ 26/100] Training Loss: 1.2112 - MeanSquaredError: 0.1606 - R2Score: 0.8394\n",
      "INFO:2022-05-09 11:37:04,873:emulator:_train_once:L308: [ 27/100] Training Loss: 1.1768 - MeanSquaredError: 0.1316 - R2Score: 0.8684\n",
      "INFO:2022-05-09 11:37:04,881:emulator:_train_once:L308: [ 28/100] Training Loss: 1.1442 - MeanSquaredError: 0.1063 - R2Score: 0.8937\n",
      "INFO:2022-05-09 11:37:04,891:emulator:_train_once:L308: [ 29/100] Training Loss: 1.1159 - MeanSquaredError: 0.0858 - R2Score: 0.9142\n",
      "INFO:2022-05-09 11:37:04,901:emulator:_train_once:L308: [ 30/100] Training Loss: 1.0941 - MeanSquaredError: 0.0702 - R2Score: 0.9298\n",
      "INFO:2022-05-09 11:37:04,910:emulator:_train_once:L308: [ 31/100] Training Loss: 1.0795 - MeanSquaredError: 0.0584 - R2Score: 0.9416\n",
      "INFO:2022-05-09 11:37:04,918:emulator:_train_once:L308: [ 32/100] Training Loss: 1.0705 - MeanSquaredError: 0.0492 - R2Score: 0.9508\n",
      "INFO:2022-05-09 11:37:04,928:emulator:_train_once:L308: [ 33/100] Training Loss: 1.0637 - MeanSquaredError: 0.0415 - R2Score: 0.9585\n",
      "INFO:2022-05-09 11:37:04,937:emulator:_train_once:L308: [ 34/100] Training Loss: 1.0552 - MeanSquaredError: 0.0348 - R2Score: 0.9652\n",
      "INFO:2022-05-09 11:37:04,951:emulator:_train_once:L308: [ 35/100] Training Loss: 1.0423 - MeanSquaredError: 0.0290 - R2Score: 0.9710\n",
      "INFO:2022-05-09 11:37:04,960:emulator:_train_once:L308: [ 36/100] Training Loss: 1.0248 - MeanSquaredError: 0.0241 - R2Score: 0.9759\n",
      "INFO:2022-05-09 11:37:04,969:emulator:_train_once:L308: [ 37/100] Training Loss: 1.0046 - MeanSquaredError: 0.0201 - R2Score: 0.9799\n",
      "INFO:2022-05-09 11:37:04,979:emulator:_train_once:L308: [ 38/100] Training Loss: 0.9844 - MeanSquaredError: 0.0169 - R2Score: 0.9831\n",
      "INFO:2022-05-09 11:37:04,990:emulator:_train_once:L308: [ 39/100] Training Loss: 0.9666 - MeanSquaredError: 0.0144 - R2Score: 0.9856\n",
      "INFO:2022-05-09 11:37:05,001:emulator:_train_once:L308: [ 40/100] Training Loss: 0.9522 - MeanSquaredError: 0.0124 - R2Score: 0.9876\n",
      "INFO:2022-05-09 11:37:05,011:emulator:_train_once:L308: [ 41/100] Training Loss: 0.9410 - MeanSquaredError: 0.0107 - R2Score: 0.9893\n",
      "INFO:2022-05-09 11:37:05,021:emulator:_train_once:L308: [ 42/100] Training Loss: 0.9317 - MeanSquaredError: 0.0093 - R2Score: 0.9907\n",
      "INFO:2022-05-09 11:37:05,031:emulator:_train_once:L308: [ 43/100] Training Loss: 0.9228 - MeanSquaredError: 0.0081 - R2Score: 0.9919\n",
      "INFO:2022-05-09 11:37:05,041:emulator:_train_once:L308: [ 44/100] Training Loss: 0.9133 - MeanSquaredError: 0.0071 - R2Score: 0.9929\n",
      "INFO:2022-05-09 11:37:05,053:emulator:_train_once:L308: [ 45/100] Training Loss: 0.9028 - MeanSquaredError: 0.0062 - R2Score: 0.9938\n",
      "INFO:2022-05-09 11:37:05,063:emulator:_train_once:L308: [ 46/100] Training Loss: 0.8916 - MeanSquaredError: 0.0053 - R2Score: 0.9947\n",
      "INFO:2022-05-09 11:37:05,073:emulator:_train_once:L308: [ 47/100] Training Loss: 0.8802 - MeanSquaredError: 0.0046 - R2Score: 0.9954\n",
      "INFO:2022-05-09 11:37:05,084:emulator:_train_once:L308: [ 48/100] Training Loss: 0.8694 - MeanSquaredError: 0.0039 - R2Score: 0.9961\n",
      "INFO:2022-05-09 11:37:05,094:emulator:_train_once:L308: [ 49/100] Training Loss: 0.8595 - MeanSquaredError: 0.0033 - R2Score: 0.9967\n",
      "INFO:2022-05-09 11:37:05,105:emulator:_train_once:L308: [ 50/100] Training Loss: 0.8510 - MeanSquaredError: 0.0027 - R2Score: 0.9973\n",
      "INFO:2022-05-09 11:37:05,115:emulator:_train_once:L308: [ 51/100] Training Loss: 0.8441 - MeanSquaredError: 0.0022 - R2Score: 0.9978\n",
      "INFO:2022-05-09 11:37:05,125:emulator:_train_once:L308: [ 52/100] Training Loss: 0.8385 - MeanSquaredError: 0.0018 - R2Score: 0.9982\n",
      "INFO:2022-05-09 11:37:05,136:emulator:_train_once:L308: [ 53/100] Training Loss: 0.8338 - MeanSquaredError: 0.0015 - R2Score: 0.9985\n",
      "INFO:2022-05-09 11:37:05,146:emulator:_train_once:L308: [ 54/100] Training Loss: 0.8293 - MeanSquaredError: 0.0012 - R2Score: 0.9988\n",
      "INFO:2022-05-09 11:37:05,157:emulator:_train_once:L308: [ 55/100] Training Loss: 0.8246 - MeanSquaredError: 0.0010 - R2Score: 0.9990\n",
      "INFO:2022-05-09 11:37:05,167:emulator:_train_once:L308: [ 56/100] Training Loss: 0.8192 - MeanSquaredError: 0.0009 - R2Score: 0.9991\n",
      "INFO:2022-05-09 11:37:05,178:emulator:_train_once:L308: [ 57/100] Training Loss: 0.8131 - MeanSquaredError: 0.0007 - R2Score: 0.9993\n",
      "INFO:2022-05-09 11:37:05,188:emulator:_train_once:L308: [ 58/100] Training Loss: 0.8064 - MeanSquaredError: 0.0006 - R2Score: 0.9994\n",
      "INFO:2022-05-09 11:37:05,197:emulator:_train_once:L308: [ 59/100] Training Loss: 0.7996 - MeanSquaredError: 0.0006 - R2Score: 0.9994\n"
     ]
    },
    {
     "name": "stderr",
     "output_type": "stream",
     "text": [
      "INFO:2022-05-09 11:37:05,209:emulator:_train_once:L308: [ 60/100] Training Loss: 0.7933 - MeanSquaredError: 0.0005 - R2Score: 0.9995\n",
      "INFO:2022-05-09 11:37:05,219:emulator:_train_once:L308: [ 61/100] Training Loss: 0.7877 - MeanSquaredError: 0.0004 - R2Score: 0.9996\n",
      "INFO:2022-05-09 11:37:05,229:emulator:_train_once:L308: [ 62/100] Training Loss: 0.7830 - MeanSquaredError: 0.0004 - R2Score: 0.9996\n",
      "INFO:2022-05-09 11:37:05,239:emulator:_train_once:L308: [ 63/100] Training Loss: 0.7790 - MeanSquaredError: 0.0003 - R2Score: 0.9997\n",
      "INFO:2022-05-09 11:37:05,249:emulator:_train_once:L308: [ 64/100] Training Loss: 0.7754 - MeanSquaredError: 0.0003 - R2Score: 0.9997\n",
      "INFO:2022-05-09 11:37:05,260:emulator:_train_once:L308: [ 65/100] Training Loss: 0.7718 - MeanSquaredError: 0.0002 - R2Score: 0.9998\n",
      "INFO:2022-05-09 11:37:05,271:emulator:_train_once:L308: [ 66/100] Training Loss: 0.7681 - MeanSquaredError: 0.0002 - R2Score: 0.9998\n",
      "INFO:2022-05-09 11:37:05,281:emulator:_train_once:L308: [ 67/100] Training Loss: 0.7642 - MeanSquaredError: 0.0002 - R2Score: 0.9998\n",
      "INFO:2022-05-09 11:37:05,291:emulator:_train_once:L308: [ 68/100] Training Loss: 0.7604 - MeanSquaredError: 0.0001 - R2Score: 0.9999\n",
      "INFO:2022-05-09 11:37:05,301:emulator:_train_once:L308: [ 69/100] Training Loss: 0.7566 - MeanSquaredError: 0.0001 - R2Score: 0.9999\n",
      "INFO:2022-05-09 11:37:05,312:emulator:_train_once:L308: [ 70/100] Training Loss: 0.7529 - MeanSquaredError: 0.0001 - R2Score: 0.9999\n",
      "INFO:2022-05-09 11:37:05,322:emulator:_train_once:L308: [ 71/100] Training Loss: 0.7493 - MeanSquaredError: 0.0001 - R2Score: 0.9999\n",
      "INFO:2022-05-09 11:37:05,332:emulator:_train_once:L308: [ 72/100] Training Loss: 0.7460 - MeanSquaredError: 0.0001 - R2Score: 0.9999\n",
      "INFO:2022-05-09 11:37:05,341:emulator:_train_once:L308: [ 73/100] Training Loss: 0.7430 - MeanSquaredError: 0.0001 - R2Score: 0.9999\n",
      "INFO:2022-05-09 11:37:05,351:emulator:_train_once:L308: [ 74/100] Training Loss: 0.7401 - MeanSquaredError: 0.0001 - R2Score: 0.9999\n",
      "INFO:2022-05-09 11:37:05,361:emulator:_train_once:L308: [ 75/100] Training Loss: 0.7376 - MeanSquaredError: 0.0001 - R2Score: 0.9999\n",
      "INFO:2022-05-09 11:37:05,370:emulator:_train_once:L308: [ 76/100] Training Loss: 0.7351 - MeanSquaredError: 0.0001 - R2Score: 0.9999\n",
      "INFO:2022-05-09 11:37:05,379:emulator:_train_once:L308: [ 77/100] Training Loss: 0.7326 - MeanSquaredError: 0.0001 - R2Score: 0.9999\n",
      "INFO:2022-05-09 11:37:05,388:emulator:_train_once:L308: [ 78/100] Training Loss: 0.7301 - MeanSquaredError: 0.0000 - R2Score: 1.0000\n",
      "INFO:2022-05-09 11:37:05,396:emulator:_train_once:L308: [ 79/100] Training Loss: 0.7276 - MeanSquaredError: 0.0000 - R2Score: 1.0000\n",
      "INFO:2022-05-09 11:37:05,405:emulator:_train_once:L308: [ 80/100] Training Loss: 0.7252 - MeanSquaredError: 0.0000 - R2Score: 1.0000\n",
      "INFO:2022-05-09 11:37:05,415:emulator:_train_once:L308: [ 81/100] Training Loss: 0.7229 - MeanSquaredError: 0.0000 - R2Score: 1.0000\n",
      "INFO:2022-05-09 11:37:05,424:emulator:_train_once:L308: [ 82/100] Training Loss: 0.7209 - MeanSquaredError: 0.0000 - R2Score: 1.0000\n",
      "INFO:2022-05-09 11:37:05,432:emulator:_train_once:L308: [ 83/100] Training Loss: 0.7190 - MeanSquaredError: 0.0000 - R2Score: 1.0000\n",
      "INFO:2022-05-09 11:37:05,442:emulator:_train_once:L308: [ 84/100] Training Loss: 0.7172 - MeanSquaredError: 0.0000 - R2Score: 1.0000\n",
      "INFO:2022-05-09 11:37:05,452:emulator:_train_once:L308: [ 85/100] Training Loss: 0.7155 - MeanSquaredError: 0.0000 - R2Score: 1.0000\n",
      "INFO:2022-05-09 11:37:05,462:emulator:_train_once:L308: [ 86/100] Training Loss: 0.7138 - MeanSquaredError: 0.0000 - R2Score: 1.0000\n",
      "INFO:2022-05-09 11:37:05,471:emulator:_train_once:L308: [ 87/100] Training Loss: 0.7123 - MeanSquaredError: 0.0000 - R2Score: 1.0000\n",
      "INFO:2022-05-09 11:37:05,480:emulator:_train_once:L308: [ 88/100] Training Loss: 0.7107 - MeanSquaredError: 0.0000 - R2Score: 1.0000\n",
      "INFO:2022-05-09 11:37:05,489:emulator:_train_once:L308: [ 89/100] Training Loss: 0.7092 - MeanSquaredError: 0.0000 - R2Score: 1.0000\n",
      "INFO:2022-05-09 11:37:05,499:emulator:_train_once:L308: [ 90/100] Training Loss: 0.7078 - MeanSquaredError: 0.0000 - R2Score: 1.0000\n",
      "INFO:2022-05-09 11:37:05,509:emulator:_train_once:L308: [ 91/100] Training Loss: 0.7064 - MeanSquaredError: 0.0000 - R2Score: 1.0000\n",
      "INFO:2022-05-09 11:37:05,518:emulator:_train_once:L308: [ 92/100] Training Loss: 0.7051 - MeanSquaredError: 0.0000 - R2Score: 1.0000\n",
      "INFO:2022-05-09 11:37:05,527:emulator:_train_once:L308: [ 93/100] Training Loss: 0.7039 - MeanSquaredError: 0.0000 - R2Score: 1.0000\n",
      "INFO:2022-05-09 11:37:05,537:emulator:_train_once:L308: [ 94/100] Training Loss: 0.7028 - MeanSquaredError: 0.0000 - R2Score: 1.0000\n",
      "INFO:2022-05-09 11:37:05,547:emulator:_train_once:L308: [ 95/100] Training Loss: 0.7017 - MeanSquaredError: 0.0000 - R2Score: 1.0000\n",
      "INFO:2022-05-09 11:37:05,556:emulator:_train_once:L308: [ 96/100] Training Loss: 0.7006 - MeanSquaredError: 0.0000 - R2Score: 1.0000\n",
      "INFO:2022-05-09 11:37:05,565:emulator:_train_once:L308: [ 97/100] Training Loss: 0.6997 - MeanSquaredError: 0.0000 - R2Score: 1.0000\n",
      "INFO:2022-05-09 11:37:05,574:emulator:_train_once:L308: [ 98/100] Training Loss: 0.6987 - MeanSquaredError: 0.0000 - R2Score: 1.0000\n",
      "INFO:2022-05-09 11:37:05,583:emulator:_train_once:L308: [ 99/100] Training Loss: 0.6978 - MeanSquaredError: 0.0000 - R2Score: 1.0000\n",
      "INFO:2022-05-09 11:37:05,593:emulator:_train_once:L308: [100/100] Training Loss: 0.6969 - MeanSquaredError: 0.0000 - R2Score: 1.0000\n",
      "INFO:2022-05-09 11:37:05,597:emulator:train:L112: Run restart 1.\n",
      "INFO:2022-05-09 11:37:05,598:emulator:train:L99: Running restart 2...\n",
      "INFO:2022-05-09 11:37:05,624:emulator:_train_once:L308: [  1/100] Training Loss: 1.6940 - MeanSquaredError: 0.6601 - R2Score: 0.3399\n",
      "INFO:2022-05-09 11:37:05,635:emulator:_train_once:L308: [  2/100] Training Loss: 1.6849 - MeanSquaredError: 0.6497 - R2Score: 0.3503\n",
      "INFO:2022-05-09 11:37:05,646:emulator:_train_once:L308: [  3/100] Training Loss: 1.6704 - MeanSquaredError: 0.6381 - R2Score: 0.3619\n",
      "INFO:2022-05-09 11:37:05,656:emulator:_train_once:L308: [  4/100] Training Loss: 1.6521 - MeanSquaredError: 0.6261 - R2Score: 0.3739\n",
      "INFO:2022-05-09 11:37:05,668:emulator:_train_once:L308: [  5/100] Training Loss: 1.6320 - MeanSquaredError: 0.6144 - R2Score: 0.3856\n",
      "INFO:2022-05-09 11:37:05,679:emulator:_train_once:L308: [  6/100] Training Loss: 1.6114 - MeanSquaredError: 0.6031 - R2Score: 0.3969\n",
      "INFO:2022-05-09 11:37:05,689:emulator:_train_once:L308: [  7/100] Training Loss: 1.5913 - MeanSquaredError: 0.5923 - R2Score: 0.4077\n",
      "INFO:2022-05-09 11:37:05,700:emulator:_train_once:L308: [  8/100] Training Loss: 1.5725 - MeanSquaredError: 0.5818 - R2Score: 0.4182\n",
      "INFO:2022-05-09 11:37:05,710:emulator:_train_once:L308: [  9/100] Training Loss: 1.5552 - MeanSquaredError: 0.5712 - R2Score: 0.4288\n",
      "INFO:2022-05-09 11:37:05,722:emulator:_train_once:L308: [ 10/100] Training Loss: 1.5396 - MeanSquaredError: 0.5601 - R2Score: 0.4399\n",
      "INFO:2022-05-09 11:37:05,730:emulator:_train_once:L308: [ 11/100] Training Loss: 1.5255 - MeanSquaredError: 0.5478 - R2Score: 0.4522\n",
      "INFO:2022-05-09 11:37:05,740:emulator:_train_once:L308: [ 12/100] Training Loss: 1.5126 - MeanSquaredError: 0.5338 - R2Score: 0.4662\n",
      "INFO:2022-05-09 11:37:05,750:emulator:_train_once:L308: [ 13/100] Training Loss: 1.5005 - MeanSquaredError: 0.5172 - R2Score: 0.4828\n",
      "INFO:2022-05-09 11:37:05,758:emulator:_train_once:L308: [ 14/100] Training Loss: 1.4888 - MeanSquaredError: 0.4972 - R2Score: 0.5028\n",
      "INFO:2022-05-09 11:37:05,768:emulator:_train_once:L308: [ 15/100] Training Loss: 1.4770 - MeanSquaredError: 0.4728 - R2Score: 0.5272\n",
      "INFO:2022-05-09 11:37:05,776:emulator:_train_once:L308: [ 16/100] Training Loss: 1.4645 - MeanSquaredError: 0.4438 - R2Score: 0.5562\n",
      "INFO:2022-05-09 11:37:05,784:emulator:_train_once:L308: [ 17/100] Training Loss: 1.4510 - MeanSquaredError: 0.4109 - R2Score: 0.5891\n",
      "INFO:2022-05-09 11:37:05,793:emulator:_train_once:L308: [ 18/100] Training Loss: 1.4360 - MeanSquaredError: 0.3759 - R2Score: 0.6241\n",
      "INFO:2022-05-09 11:37:05,803:emulator:_train_once:L308: [ 19/100] Training Loss: 1.4199 - MeanSquaredError: 0.3418 - R2Score: 0.6582\n",
      "INFO:2022-05-09 11:37:05,812:emulator:_train_once:L308: [ 20/100] Training Loss: 1.4030 - MeanSquaredError: 0.3115 - R2Score: 0.6885\n"
     ]
    },
    {
     "name": "stderr",
     "output_type": "stream",
     "text": [
      "INFO:2022-05-09 11:37:05,821:emulator:_train_once:L308: [ 21/100] Training Loss: 1.3859 - MeanSquaredError: 0.2858 - R2Score: 0.7142\n",
      "INFO:2022-05-09 11:37:05,829:emulator:_train_once:L308: [ 22/100] Training Loss: 1.3689 - MeanSquaredError: 0.2640 - R2Score: 0.7360\n",
      "INFO:2022-05-09 11:37:05,838:emulator:_train_once:L308: [ 23/100] Training Loss: 1.3511 - MeanSquaredError: 0.2438 - R2Score: 0.7562\n",
      "INFO:2022-05-09 11:37:05,847:emulator:_train_once:L308: [ 24/100] Training Loss: 1.3312 - MeanSquaredError: 0.2229 - R2Score: 0.7771\n",
      "INFO:2022-05-09 11:37:05,857:emulator:_train_once:L308: [ 25/100] Training Loss: 1.3073 - MeanSquaredError: 0.2000 - R2Score: 0.8000\n",
      "INFO:2022-05-09 11:37:05,866:emulator:_train_once:L308: [ 26/100] Training Loss: 1.2785 - MeanSquaredError: 0.1751 - R2Score: 0.8249\n",
      "INFO:2022-05-09 11:37:05,880:emulator:_train_once:L308: [ 27/100] Training Loss: 1.2450 - MeanSquaredError: 0.1493 - R2Score: 0.8507\n",
      "INFO:2022-05-09 11:37:05,891:emulator:_train_once:L308: [ 28/100] Training Loss: 1.2084 - MeanSquaredError: 0.1245 - R2Score: 0.8755\n",
      "INFO:2022-05-09 11:37:05,903:emulator:_train_once:L308: [ 29/100] Training Loss: 1.1715 - MeanSquaredError: 0.1029 - R2Score: 0.8971\n",
      "INFO:2022-05-09 11:37:05,913:emulator:_train_once:L308: [ 30/100] Training Loss: 1.1382 - MeanSquaredError: 0.0860 - R2Score: 0.9140\n",
      "INFO:2022-05-09 11:37:05,924:emulator:_train_once:L308: [ 31/100] Training Loss: 1.1123 - MeanSquaredError: 0.0738 - R2Score: 0.9262\n",
      "INFO:2022-05-09 11:37:05,936:emulator:_train_once:L308: [ 32/100] Training Loss: 1.0955 - MeanSquaredError: 0.0647 - R2Score: 0.9353\n",
      "INFO:2022-05-09 11:37:05,947:emulator:_train_once:L308: [ 33/100] Training Loss: 1.0861 - MeanSquaredError: 0.0571 - R2Score: 0.9429\n",
      "INFO:2022-05-09 11:37:05,957:emulator:_train_once:L308: [ 34/100] Training Loss: 1.0790 - MeanSquaredError: 0.0497 - R2Score: 0.9503\n",
      "INFO:2022-05-09 11:37:05,966:emulator:_train_once:L308: [ 35/100] Training Loss: 1.0683 - MeanSquaredError: 0.0424 - R2Score: 0.9576\n",
      "INFO:2022-05-09 11:37:05,975:emulator:_train_once:L308: [ 36/100] Training Loss: 1.0509 - MeanSquaredError: 0.0355 - R2Score: 0.9645\n",
      "INFO:2022-05-09 11:37:05,983:emulator:_train_once:L308: [ 37/100] Training Loss: 1.0286 - MeanSquaredError: 0.0295 - R2Score: 0.9705\n",
      "INFO:2022-05-09 11:37:05,994:emulator:_train_once:L308: [ 38/100] Training Loss: 1.0057 - MeanSquaredError: 0.0243 - R2Score: 0.9757\n",
      "INFO:2022-05-09 11:37:06,003:emulator:_train_once:L308: [ 39/100] Training Loss: 0.9865 - MeanSquaredError: 0.0200 - R2Score: 0.9800\n",
      "INFO:2022-05-09 11:37:06,012:emulator:_train_once:L308: [ 40/100] Training Loss: 0.9719 - MeanSquaredError: 0.0163 - R2Score: 0.9837\n",
      "INFO:2022-05-09 11:37:06,021:emulator:_train_once:L308: [ 41/100] Training Loss: 0.9595 - MeanSquaredError: 0.0132 - R2Score: 0.9868\n",
      "INFO:2022-05-09 11:37:06,030:emulator:_train_once:L308: [ 42/100] Training Loss: 0.9462 - MeanSquaredError: 0.0106 - R2Score: 0.9894\n",
      "INFO:2022-05-09 11:37:06,040:emulator:_train_once:L308: [ 43/100] Training Loss: 0.9304 - MeanSquaredError: 0.0086 - R2Score: 0.9914\n",
      "INFO:2022-05-09 11:37:06,051:emulator:_train_once:L308: [ 44/100] Training Loss: 0.9129 - MeanSquaredError: 0.0070 - R2Score: 0.9930\n",
      "INFO:2022-05-09 11:37:06,061:emulator:_train_once:L308: [ 45/100] Training Loss: 0.8957 - MeanSquaredError: 0.0058 - R2Score: 0.9942\n",
      "INFO:2022-05-09 11:37:06,070:emulator:_train_once:L308: [ 46/100] Training Loss: 0.8809 - MeanSquaredError: 0.0048 - R2Score: 0.9952\n",
      "INFO:2022-05-09 11:37:06,079:emulator:_train_once:L308: [ 47/100] Training Loss: 0.8694 - MeanSquaredError: 0.0040 - R2Score: 0.9960\n",
      "INFO:2022-05-09 11:37:06,089:emulator:_train_once:L308: [ 48/100] Training Loss: 0.8611 - MeanSquaredError: 0.0033 - R2Score: 0.9967\n",
      "INFO:2022-05-09 11:37:06,098:emulator:_train_once:L308: [ 49/100] Training Loss: 0.8551 - MeanSquaredError: 0.0028 - R2Score: 0.9972\n",
      "INFO:2022-05-09 11:37:06,108:emulator:_train_once:L308: [ 50/100] Training Loss: 0.8502 - MeanSquaredError: 0.0023 - R2Score: 0.9977\n",
      "INFO:2022-05-09 11:37:06,118:emulator:_train_once:L308: [ 51/100] Training Loss: 0.8452 - MeanSquaredError: 0.0018 - R2Score: 0.9982\n",
      "INFO:2022-05-09 11:37:06,127:emulator:_train_once:L308: [ 52/100] Training Loss: 0.8395 - MeanSquaredError: 0.0015 - R2Score: 0.9985\n",
      "INFO:2022-05-09 11:37:06,137:emulator:_train_once:L308: [ 53/100] Training Loss: 0.8327 - MeanSquaredError: 0.0012 - R2Score: 0.9988\n",
      "INFO:2022-05-09 11:37:06,146:emulator:_train_once:L308: [ 54/100] Training Loss: 0.8250 - MeanSquaredError: 0.0009 - R2Score: 0.9991\n",
      "INFO:2022-05-09 11:37:06,155:emulator:_train_once:L308: [ 55/100] Training Loss: 0.8169 - MeanSquaredError: 0.0008 - R2Score: 0.9992\n",
      "INFO:2022-05-09 11:37:06,164:emulator:_train_once:L308: [ 56/100] Training Loss: 0.8089 - MeanSquaredError: 0.0006 - R2Score: 0.9994\n",
      "INFO:2022-05-09 11:37:06,174:emulator:_train_once:L308: [ 57/100] Training Loss: 0.8013 - MeanSquaredError: 0.0005 - R2Score: 0.9995\n",
      "INFO:2022-05-09 11:37:06,184:emulator:_train_once:L308: [ 58/100] Training Loss: 0.7946 - MeanSquaredError: 0.0004 - R2Score: 0.9996\n",
      "INFO:2022-05-09 11:37:06,193:emulator:_train_once:L308: [ 59/100] Training Loss: 0.7888 - MeanSquaredError: 0.0004 - R2Score: 0.9996\n",
      "INFO:2022-05-09 11:37:06,203:emulator:_train_once:L308: [ 60/100] Training Loss: 0.7838 - MeanSquaredError: 0.0003 - R2Score: 0.9997\n",
      "INFO:2022-05-09 11:37:06,215:emulator:_train_once:L308: [ 61/100] Training Loss: 0.7793 - MeanSquaredError: 0.0003 - R2Score: 0.9997\n",
      "INFO:2022-05-09 11:37:06,227:emulator:_train_once:L308: [ 62/100] Training Loss: 0.7750 - MeanSquaredError: 0.0002 - R2Score: 0.9998\n",
      "INFO:2022-05-09 11:37:06,237:emulator:_train_once:L308: [ 63/100] Training Loss: 0.7706 - MeanSquaredError: 0.0002 - R2Score: 0.9998\n",
      "INFO:2022-05-09 11:37:06,248:emulator:_train_once:L308: [ 64/100] Training Loss: 0.7660 - MeanSquaredError: 0.0002 - R2Score: 0.9998\n",
      "INFO:2022-05-09 11:37:06,260:emulator:_train_once:L308: [ 65/100] Training Loss: 0.7614 - MeanSquaredError: 0.0002 - R2Score: 0.9998\n",
      "INFO:2022-05-09 11:37:06,269:emulator:_train_once:L308: [ 66/100] Training Loss: 0.7570 - MeanSquaredError: 0.0001 - R2Score: 0.9999\n",
      "INFO:2022-05-09 11:37:06,278:emulator:_train_once:L308: [ 67/100] Training Loss: 0.7529 - MeanSquaredError: 0.0001 - R2Score: 0.9999\n",
      "INFO:2022-05-09 11:37:06,288:emulator:_train_once:L308: [ 68/100] Training Loss: 0.7494 - MeanSquaredError: 0.0001 - R2Score: 0.9999\n",
      "INFO:2022-05-09 11:37:06,297:emulator:_train_once:L308: [ 69/100] Training Loss: 0.7462 - MeanSquaredError: 0.0001 - R2Score: 0.9999\n",
      "INFO:2022-05-09 11:37:06,307:emulator:_train_once:L308: [ 70/100] Training Loss: 0.7431 - MeanSquaredError: 0.0001 - R2Score: 0.9999\n",
      "INFO:2022-05-09 11:37:06,316:emulator:_train_once:L308: [ 71/100] Training Loss: 0.7401 - MeanSquaredError: 0.0001 - R2Score: 0.9999\n",
      "INFO:2022-05-09 11:37:06,325:emulator:_train_once:L308: [ 72/100] Training Loss: 0.7369 - MeanSquaredError: 0.0001 - R2Score: 0.9999\n",
      "INFO:2022-05-09 11:37:06,335:emulator:_train_once:L308: [ 73/100] Training Loss: 0.7338 - MeanSquaredError: 0.0001 - R2Score: 0.9999\n",
      "INFO:2022-05-09 11:37:06,344:emulator:_train_once:L308: [ 74/100] Training Loss: 0.7307 - MeanSquaredError: 0.0000 - R2Score: 1.0000\n",
      "INFO:2022-05-09 11:37:06,355:emulator:_train_once:L308: [ 75/100] Training Loss: 0.7279 - MeanSquaredError: 0.0000 - R2Score: 1.0000\n",
      "INFO:2022-05-09 11:37:06,364:emulator:_train_once:L308: [ 76/100] Training Loss: 0.7253 - MeanSquaredError: 0.0000 - R2Score: 1.0000\n",
      "INFO:2022-05-09 11:37:06,374:emulator:_train_once:L308: [ 77/100] Training Loss: 0.7230 - MeanSquaredError: 0.0000 - R2Score: 1.0000\n",
      "INFO:2022-05-09 11:37:06,383:emulator:_train_once:L308: [ 78/100] Training Loss: 0.7209 - MeanSquaredError: 0.0000 - R2Score: 1.0000\n",
      "INFO:2022-05-09 11:37:06,392:emulator:_train_once:L308: [ 79/100] Training Loss: 0.7190 - MeanSquaredError: 0.0000 - R2Score: 1.0000\n",
      "INFO:2022-05-09 11:37:06,402:emulator:_train_once:L308: [ 80/100] Training Loss: 0.7172 - MeanSquaredError: 0.0000 - R2Score: 1.0000\n",
      "INFO:2022-05-09 11:37:06,411:emulator:_train_once:L308: [ 81/100] Training Loss: 0.7155 - MeanSquaredError: 0.0000 - R2Score: 1.0000\n",
      "INFO:2022-05-09 11:37:06,421:emulator:_train_once:L308: [ 82/100] Training Loss: 0.7137 - MeanSquaredError: 0.0000 - R2Score: 1.0000\n"
     ]
    },
    {
     "name": "stderr",
     "output_type": "stream",
     "text": [
      "INFO:2022-05-09 11:37:06,431:emulator:_train_once:L308: [ 83/100] Training Loss: 0.7119 - MeanSquaredError: 0.0000 - R2Score: 1.0000\n",
      "INFO:2022-05-09 11:37:06,441:emulator:_train_once:L308: [ 84/100] Training Loss: 0.7103 - MeanSquaredError: 0.0000 - R2Score: 1.0000\n",
      "INFO:2022-05-09 11:37:06,452:emulator:_train_once:L308: [ 85/100] Training Loss: 0.7087 - MeanSquaredError: 0.0000 - R2Score: 1.0000\n",
      "INFO:2022-05-09 11:37:06,462:emulator:_train_once:L308: [ 86/100] Training Loss: 0.7072 - MeanSquaredError: 0.0000 - R2Score: 1.0000\n",
      "INFO:2022-05-09 11:37:06,471:emulator:_train_once:L308: [ 87/100] Training Loss: 0.7058 - MeanSquaredError: 0.0000 - R2Score: 1.0000\n",
      "INFO:2022-05-09 11:37:06,481:emulator:_train_once:L308: [ 88/100] Training Loss: 0.7046 - MeanSquaredError: 0.0000 - R2Score: 1.0000\n",
      "INFO:2022-05-09 11:37:06,492:emulator:_train_once:L308: [ 89/100] Training Loss: 0.7034 - MeanSquaredError: 0.0000 - R2Score: 1.0000\n",
      "INFO:2022-05-09 11:37:06,505:emulator:_train_once:L308: [ 90/100] Training Loss: 0.7023 - MeanSquaredError: 0.0000 - R2Score: 1.0000\n",
      "INFO:2022-05-09 11:37:06,515:emulator:_train_once:L308: [ 91/100] Training Loss: 0.7012 - MeanSquaredError: 0.0000 - R2Score: 1.0000\n",
      "INFO:2022-05-09 11:37:06,525:emulator:_train_once:L308: [ 92/100] Training Loss: 0.7001 - MeanSquaredError: 0.0000 - R2Score: 1.0000\n",
      "INFO:2022-05-09 11:37:06,535:emulator:_train_once:L308: [ 93/100] Training Loss: 0.6991 - MeanSquaredError: 0.0000 - R2Score: 1.0000\n",
      "INFO:2022-05-09 11:37:06,545:emulator:_train_once:L308: [ 94/100] Training Loss: 0.6981 - MeanSquaredError: 0.0000 - R2Score: 1.0000\n",
      "INFO:2022-05-09 11:37:06,555:emulator:_train_once:L308: [ 95/100] Training Loss: 0.6972 - MeanSquaredError: 0.0000 - R2Score: 1.0000\n",
      "INFO:2022-05-09 11:37:06,565:emulator:_train_once:L308: [ 96/100] Training Loss: 0.6964 - MeanSquaredError: 0.0000 - R2Score: 1.0000\n",
      "INFO:2022-05-09 11:37:06,576:emulator:_train_once:L308: [ 97/100] Training Loss: 0.6956 - MeanSquaredError: 0.0000 - R2Score: 1.0000\n",
      "INFO:2022-05-09 11:37:06,586:emulator:_train_once:L308: [ 98/100] Training Loss: 0.6949 - MeanSquaredError: 0.0000 - R2Score: 1.0000\n",
      "INFO:2022-05-09 11:37:06,595:emulator:_train_once:L308: [ 99/100] Training Loss: 0.6942 - MeanSquaredError: 0.0000 - R2Score: 1.0000\n",
      "INFO:2022-05-09 11:37:06,606:emulator:_train_once:L308: [100/100] Training Loss: 0.6935 - MeanSquaredError: 0.0000 - R2Score: 1.0000\n",
      "INFO:2022-05-09 11:37:06,611:emulator:train:L112: Run restart 2.\n",
      "INFO:2022-05-09 11:37:06,611:emulator:train:L99: Running restart 3...\n",
      "INFO:2022-05-09 11:37:06,633:emulator:_train_once:L308: [  1/100] Training Loss: 2.2336 - MeanSquaredError: 1.5608 - R2Score: -0.5608\n",
      "INFO:2022-05-09 11:37:06,643:emulator:_train_once:L308: [  2/100] Training Loss: 2.0924 - MeanSquaredError: 1.3173 - R2Score: -0.3173\n",
      "INFO:2022-05-09 11:37:06,652:emulator:_train_once:L308: [  3/100] Training Loss: 1.8966 - MeanSquaredError: 1.0895 - R2Score: -0.0895\n",
      "INFO:2022-05-09 11:37:06,662:emulator:_train_once:L308: [  4/100] Training Loss: 1.7122 - MeanSquaredError: 0.9104 - R2Score: 0.0896\n",
      "INFO:2022-05-09 11:37:06,672:emulator:_train_once:L308: [  5/100] Training Loss: 1.5703 - MeanSquaredError: 0.7882 - R2Score: 0.2118\n",
      "INFO:2022-05-09 11:37:06,681:emulator:_train_once:L308: [  6/100] Training Loss: 1.4770 - MeanSquaredError: 0.7163 - R2Score: 0.2837\n",
      "INFO:2022-05-09 11:37:06,691:emulator:_train_once:L308: [  7/100] Training Loss: 1.4259 - MeanSquaredError: 0.6827 - R2Score: 0.3173\n",
      "INFO:2022-05-09 11:37:06,701:emulator:_train_once:L308: [  8/100] Training Loss: 1.4066 - MeanSquaredError: 0.6746 - R2Score: 0.3254\n",
      "INFO:2022-05-09 11:37:06,710:emulator:_train_once:L308: [  9/100] Training Loss: 1.4088 - MeanSquaredError: 0.6818 - R2Score: 0.3182\n",
      "INFO:2022-05-09 11:37:06,720:emulator:_train_once:L308: [ 10/100] Training Loss: 1.4241 - MeanSquaredError: 0.6960 - R2Score: 0.3040\n",
      "INFO:2022-05-09 11:37:06,730:emulator:_train_once:L308: [ 11/100] Training Loss: 1.4460 - MeanSquaredError: 0.7113 - R2Score: 0.2887\n",
      "INFO:2022-05-09 11:37:06,739:emulator:_train_once:L308: [ 12/100] Training Loss: 1.4691 - MeanSquaredError: 0.7235 - R2Score: 0.2765\n",
      "INFO:2022-05-09 11:37:06,748:emulator:_train_once:L308: [ 13/100] Training Loss: 1.4893 - MeanSquaredError: 0.7303 - R2Score: 0.2697\n",
      "INFO:2022-05-09 11:37:06,757:emulator:_train_once:L308: [ 14/100] Training Loss: 1.5039 - MeanSquaredError: 0.7310 - R2Score: 0.2690\n",
      "INFO:2022-05-09 11:37:06,767:emulator:_train_once:L308: [ 15/100] Training Loss: 1.5113 - MeanSquaredError: 0.7262 - R2Score: 0.2738\n",
      "INFO:2022-05-09 11:37:06,776:emulator:_train_once:L308: [ 16/100] Training Loss: 1.5110 - MeanSquaredError: 0.7173 - R2Score: 0.2827\n",
      "INFO:2022-05-09 11:37:06,785:emulator:_train_once:L308: [ 17/100] Training Loss: 1.5039 - MeanSquaredError: 0.7062 - R2Score: 0.2938\n",
      "INFO:2022-05-09 11:37:06,794:emulator:_train_once:L308: [ 18/100] Training Loss: 1.4913 - MeanSquaredError: 0.6946 - R2Score: 0.3054\n",
      "INFO:2022-05-09 11:37:06,803:emulator:_train_once:L308: [ 19/100] Training Loss: 1.4750 - MeanSquaredError: 0.6836 - R2Score: 0.3164\n",
      "INFO:2022-05-09 11:37:06,813:emulator:_train_once:L308: [ 20/100] Training Loss: 1.4568 - MeanSquaredError: 0.6741 - R2Score: 0.3259\n",
      "INFO:2022-05-09 11:37:06,822:emulator:_train_once:L308: [ 21/100] Training Loss: 1.4383 - MeanSquaredError: 0.6665 - R2Score: 0.3335\n",
      "INFO:2022-05-09 11:37:06,831:emulator:_train_once:L308: [ 22/100] Training Loss: 1.4207 - MeanSquaredError: 0.6607 - R2Score: 0.3393\n",
      "INFO:2022-05-09 11:37:06,840:emulator:_train_once:L308: [ 23/100] Training Loss: 1.4048 - MeanSquaredError: 0.6566 - R2Score: 0.3434\n",
      "INFO:2022-05-09 11:37:06,849:emulator:_train_once:L308: [ 24/100] Training Loss: 1.3910 - MeanSquaredError: 0.6541 - R2Score: 0.3459\n",
      "INFO:2022-05-09 11:37:06,861:emulator:_train_once:L308: [ 25/100] Training Loss: 1.3794 - MeanSquaredError: 0.6529 - R2Score: 0.3471\n",
      "INFO:2022-05-09 11:37:06,871:emulator:_train_once:L308: [ 26/100] Training Loss: 1.3701 - MeanSquaredError: 0.6529 - R2Score: 0.3471\n",
      "INFO:2022-05-09 11:37:06,880:emulator:_train_once:L308: [ 27/100] Training Loss: 1.3628 - MeanSquaredError: 0.6536 - R2Score: 0.3464\n",
      "INFO:2022-05-09 11:37:06,888:emulator:_train_once:L308: [ 28/100] Training Loss: 1.3573 - MeanSquaredError: 0.6551 - R2Score: 0.3449\n",
      "INFO:2022-05-09 11:37:06,898:emulator:_train_once:L308: [ 29/100] Training Loss: 1.3531 - MeanSquaredError: 0.6570 - R2Score: 0.3430\n",
      "INFO:2022-05-09 11:37:06,907:emulator:_train_once:L308: [ 30/100] Training Loss: 1.3498 - MeanSquaredError: 0.6591 - R2Score: 0.3409\n",
      "INFO:2022-05-09 11:37:06,916:emulator:_train_once:L308: [ 31/100] Training Loss: 1.3468 - MeanSquaredError: 0.6611 - R2Score: 0.3389\n",
      "INFO:2022-05-09 11:37:06,925:emulator:_train_once:L308: [ 32/100] Training Loss: 1.3437 - MeanSquaredError: 0.6628 - R2Score: 0.3372\n",
      "INFO:2022-05-09 11:37:06,935:emulator:_train_once:L308: [ 33/100] Training Loss: 1.3399 - MeanSquaredError: 0.6639 - R2Score: 0.3361\n",
      "INFO:2022-05-09 11:37:06,944:emulator:_train_once:L308: [ 34/100] Training Loss: 1.3351 - MeanSquaredError: 0.6643 - R2Score: 0.3357\n",
      "INFO:2022-05-09 11:37:06,954:emulator:_train_once:L308: [ 35/100] Training Loss: 1.3291 - MeanSquaredError: 0.6637 - R2Score: 0.3363\n",
      "INFO:2022-05-09 11:37:06,963:emulator:_train_once:L308: [ 36/100] Training Loss: 1.3218 - MeanSquaredError: 0.6622 - R2Score: 0.3378\n",
      "INFO:2022-05-09 11:37:06,973:emulator:_train_once:L308: [ 37/100] Training Loss: 1.3135 - MeanSquaredError: 0.6600 - R2Score: 0.3400\n",
      "INFO:2022-05-09 11:37:06,983:emulator:_train_once:L308: [ 38/100] Training Loss: 1.3045 - MeanSquaredError: 0.6574 - R2Score: 0.3426\n",
      "INFO:2022-05-09 11:37:06,993:emulator:_train_once:L308: [ 39/100] Training Loss: 1.2956 - MeanSquaredError: 0.6549 - R2Score: 0.3451\n",
      "INFO:2022-05-09 11:37:07,003:emulator:_train_once:L308: [ 40/100] Training Loss: 1.2872 - MeanSquaredError: 0.6528 - R2Score: 0.3472\n",
      "INFO:2022-05-09 11:37:07,012:emulator:_train_once:L308: [ 41/100] Training Loss: 1.2798 - MeanSquaredError: 0.6515 - R2Score: 0.3485\n",
      "INFO:2022-05-09 11:37:07,022:emulator:_train_once:L308: [ 42/100] Training Loss: 1.2739 - MeanSquaredError: 0.6513 - R2Score: 0.3487\n",
      "INFO:2022-05-09 11:37:07,031:emulator:_train_once:L308: [ 43/100] Training Loss: 1.2694 - MeanSquaredError: 0.6521 - R2Score: 0.3479\n"
     ]
    },
    {
     "name": "stderr",
     "output_type": "stream",
     "text": [
      "INFO:2022-05-09 11:37:07,039:emulator:_train_once:L308: [ 44/100] Training Loss: 1.2662 - MeanSquaredError: 0.6535 - R2Score: 0.3465\n",
      "INFO:2022-05-09 11:37:07,049:emulator:_train_once:L308: [ 45/100] Training Loss: 1.2638 - MeanSquaredError: 0.6551 - R2Score: 0.3449\n",
      "INFO:2022-05-09 11:37:07,059:emulator:_train_once:L308: [ 46/100] Training Loss: 1.2617 - MeanSquaredError: 0.6564 - R2Score: 0.3436\n",
      "INFO:2022-05-09 11:37:07,068:emulator:_train_once:L308: [ 47/100] Training Loss: 1.2594 - MeanSquaredError: 0.6569 - R2Score: 0.3431\n",
      "INFO:2022-05-09 11:37:07,076:emulator:_train_once:L308: [ 48/100] Training Loss: 1.2565 - MeanSquaredError: 0.6566 - R2Score: 0.3434\n",
      "INFO:2022-05-09 11:37:07,086:emulator:_train_once:L308: [ 49/100] Training Loss: 1.2528 - MeanSquaredError: 0.6555 - R2Score: 0.3445\n",
      "INFO:2022-05-09 11:37:07,096:emulator:_train_once:L308: [ 50/100] Training Loss: 1.2487 - MeanSquaredError: 0.6541 - R2Score: 0.3459\n",
      "INFO:2022-05-09 11:37:07,105:emulator:_train_once:L308: [ 51/100] Training Loss: 1.2446 - MeanSquaredError: 0.6528 - R2Score: 0.3472\n",
      "INFO:2022-05-09 11:37:07,114:emulator:_train_once:L308: [ 52/100] Training Loss: 1.2408 - MeanSquaredError: 0.6521 - R2Score: 0.3479\n",
      "INFO:2022-05-09 11:37:07,123:emulator:_train_once:L308: [ 53/100] Training Loss: 1.2379 - MeanSquaredError: 0.6521 - R2Score: 0.3479\n",
      "INFO:2022-05-09 11:37:07,133:emulator:_train_once:L308: [ 54/100] Training Loss: 1.2358 - MeanSquaredError: 0.6526 - R2Score: 0.3474\n",
      "INFO:2022-05-09 11:37:07,143:emulator:_train_once:L308: [ 55/100] Training Loss: 1.2346 - MeanSquaredError: 0.6534 - R2Score: 0.3466\n",
      "INFO:2022-05-09 11:37:07,152:emulator:_train_once:L308: [ 56/100] Training Loss: 1.2337 - MeanSquaredError: 0.6540 - R2Score: 0.3460\n",
      "INFO:2022-05-09 11:37:07,161:emulator:_train_once:L308: [ 57/100] Training Loss: 1.2327 - MeanSquaredError: 0.6542 - R2Score: 0.3458\n",
      "INFO:2022-05-09 11:37:07,169:emulator:_train_once:L308: [ 58/100] Training Loss: 1.2315 - MeanSquaredError: 0.6538 - R2Score: 0.3462\n",
      "INFO:2022-05-09 11:37:07,179:emulator:_train_once:L308: [ 59/100] Training Loss: 1.2298 - MeanSquaredError: 0.6531 - R2Score: 0.3469\n",
      "INFO:2022-05-09 11:37:07,188:emulator:_train_once:L308: [ 60/100] Training Loss: 1.2278 - MeanSquaredError: 0.6523 - R2Score: 0.3477\n",
      "INFO:2022-05-09 11:37:07,197:emulator:_train_once:L308: [ 61/100] Training Loss: 1.2259 - MeanSquaredError: 0.6518 - R2Score: 0.3482\n",
      "INFO:2022-05-09 11:37:07,206:emulator:_train_once:L308: [ 62/100] Training Loss: 1.2243 - MeanSquaredError: 0.6517 - R2Score: 0.3483\n",
      "INFO:2022-05-09 11:37:07,216:emulator:_train_once:L308: [ 63/100] Training Loss: 1.2232 - MeanSquaredError: 0.6519 - R2Score: 0.3481\n",
      "INFO:2022-05-09 11:37:07,225:emulator:_train_once:L308: [ 64/100] Training Loss: 1.2225 - MeanSquaredError: 0.6522 - R2Score: 0.3478\n",
      "INFO:2022-05-09 11:37:07,235:emulator:_train_once:L308: [ 65/100] Training Loss: 1.2219 - MeanSquaredError: 0.6525 - R2Score: 0.3475\n",
      "INFO:2022-05-09 11:37:07,245:emulator:_train_once:L308: [ 66/100] Training Loss: 1.2214 - MeanSquaredError: 0.6525 - R2Score: 0.3475\n",
      "INFO:2022-05-09 11:37:07,254:emulator:_train_once:L308: [ 67/100] Training Loss: 1.2207 - MeanSquaredError: 0.6523 - R2Score: 0.3477\n",
      "INFO:2022-05-09 11:37:07,264:emulator:_train_once:L308: [ 68/100] Training Loss: 1.2199 - MeanSquaredError: 0.6519 - R2Score: 0.3481\n",
      "INFO:2022-05-09 11:37:07,273:emulator:_train_once:L308: [ 69/100] Training Loss: 1.2189 - MeanSquaredError: 0.6515 - R2Score: 0.3485\n",
      "INFO:2022-05-09 11:37:07,284:emulator:_train_once:L308: [ 70/100] Training Loss: 1.2181 - MeanSquaredError: 0.6513 - R2Score: 0.3487\n",
      "INFO:2022-05-09 11:37:07,293:emulator:_train_once:L308: [ 71/100] Training Loss: 1.2174 - MeanSquaredError: 0.6513 - R2Score: 0.3487\n",
      "INFO:2022-05-09 11:37:07,303:emulator:_train_once:L308: [ 72/100] Training Loss: 1.2169 - MeanSquaredError: 0.6515 - R2Score: 0.3485\n",
      "INFO:2022-05-09 11:37:07,312:emulator:_train_once:L308: [ 73/100] Training Loss: 1.2166 - MeanSquaredError: 0.6517 - R2Score: 0.3483\n",
      "INFO:2022-05-09 11:37:07,321:emulator:_train_once:L308: [ 74/100] Training Loss: 1.2163 - MeanSquaredError: 0.6518 - R2Score: 0.3482\n",
      "INFO:2022-05-09 11:37:07,335:emulator:_train_once:L308: [ 75/100] Training Loss: 1.2160 - MeanSquaredError: 0.6518 - R2Score: 0.3482\n",
      "INFO:2022-05-09 11:37:07,344:emulator:_train_once:L308: [ 76/100] Training Loss: 1.2156 - MeanSquaredError: 0.6516 - R2Score: 0.3484\n",
      "INFO:2022-05-09 11:37:07,353:emulator:_train_once:L308: [ 77/100] Training Loss: 1.2152 - MeanSquaredError: 0.6515 - R2Score: 0.3485\n",
      "INFO:2022-05-09 11:37:07,362:emulator:_train_once:L308: [ 78/100] Training Loss: 1.2147 - MeanSquaredError: 0.6514 - R2Score: 0.3486\n",
      "INFO:2022-05-09 11:37:07,370:emulator:_train_once:L308: [ 79/100] Training Loss: 1.2143 - MeanSquaredError: 0.6513 - R2Score: 0.3487\n",
      "INFO:2022-05-09 11:37:07,380:emulator:_train_once:L308: [ 80/100] Training Loss: 1.2140 - MeanSquaredError: 0.6514 - R2Score: 0.3486\n",
      "INFO:2022-05-09 11:37:07,390:emulator:_train_once:L308: [ 81/100] Training Loss: 1.2138 - MeanSquaredError: 0.6515 - R2Score: 0.3485\n",
      "INFO:2022-05-09 11:37:07,401:emulator:_train_once:L308: [ 82/100] Training Loss: 1.2136 - MeanSquaredError: 0.6515 - R2Score: 0.3485\n",
      "INFO:2022-05-09 11:37:07,410:emulator:_train_once:L308: [ 83/100] Training Loss: 1.2134 - MeanSquaredError: 0.6516 - R2Score: 0.3484\n",
      "INFO:2022-05-09 11:37:07,421:emulator:_train_once:L308: [ 84/100] Training Loss: 1.2132 - MeanSquaredError: 0.6515 - R2Score: 0.3485\n",
      "INFO:2022-05-09 11:37:07,432:emulator:_train_once:L308: [ 85/100] Training Loss: 1.2129 - MeanSquaredError: 0.6514 - R2Score: 0.3486\n",
      "INFO:2022-05-09 11:37:07,441:emulator:_train_once:L308: [ 86/100] Training Loss: 1.2127 - MeanSquaredError: 0.6514 - R2Score: 0.3486\n",
      "INFO:2022-05-09 11:37:07,451:emulator:_train_once:L308: [ 87/100] Training Loss: 1.2124 - MeanSquaredError: 0.6513 - R2Score: 0.3487\n",
      "INFO:2022-05-09 11:37:07,462:emulator:_train_once:L308: [ 88/100] Training Loss: 1.2122 - MeanSquaredError: 0.6514 - R2Score: 0.3486\n",
      "INFO:2022-05-09 11:37:07,471:emulator:_train_once:L308: [ 89/100] Training Loss: 1.2121 - MeanSquaredError: 0.6514 - R2Score: 0.3486\n",
      "INFO:2022-05-09 11:37:07,482:emulator:_train_once:L308: [ 90/100] Training Loss: 1.2119 - MeanSquaredError: 0.6514 - R2Score: 0.3486\n",
      "INFO:2022-05-09 11:37:07,492:emulator:_train_once:L308: [ 91/100] Training Loss: 1.2118 - MeanSquaredError: 0.6514 - R2Score: 0.3486\n",
      "INFO:2022-05-09 11:37:07,502:emulator:_train_once:L308: [ 92/100] Training Loss: 1.2116 - MeanSquaredError: 0.6514 - R2Score: 0.3486\n",
      "INFO:2022-05-09 11:37:07,512:emulator:_train_once:L308: [ 93/100] Training Loss: 1.2115 - MeanSquaredError: 0.6514 - R2Score: 0.3486\n",
      "INFO:2022-05-09 11:37:07,522:emulator:_train_once:L308: [ 94/100] Training Loss: 1.2113 - MeanSquaredError: 0.6513 - R2Score: 0.3487\n",
      "INFO:2022-05-09 11:37:07,533:emulator:_train_once:L308: [ 95/100] Training Loss: 1.2112 - MeanSquaredError: 0.6513 - R2Score: 0.3487\n",
      "INFO:2022-05-09 11:37:07,543:emulator:_train_once:L308: [ 96/100] Training Loss: 1.2110 - MeanSquaredError: 0.6513 - R2Score: 0.3487\n",
      "INFO:2022-05-09 11:37:07,553:emulator:_train_once:L308: [ 97/100] Training Loss: 1.2109 - MeanSquaredError: 0.6513 - R2Score: 0.3487\n",
      "INFO:2022-05-09 11:37:07,562:emulator:_train_once:L308: [ 98/100] Training Loss: 1.2108 - MeanSquaredError: 0.6514 - R2Score: 0.3486\n",
      "INFO:2022-05-09 11:37:07,572:emulator:_train_once:L308: [ 99/100] Training Loss: 1.2107 - MeanSquaredError: 0.6514 - R2Score: 0.3486\n",
      "INFO:2022-05-09 11:37:07,583:emulator:_train_once:L308: [100/100] Training Loss: 1.2106 - MeanSquaredError: 0.6513 - R2Score: 0.3487\n",
      "INFO:2022-05-09 11:37:07,588:emulator:train:L112: Run restart 3.\n",
      "INFO:2022-05-09 11:37:07,588:emulator:train:L115: Trained emulator...\n",
      "INFO:2022-05-09 11:37:07,589:emulator:train:L155: Loading best model (restart: 2, epoch: 100)...\n",
      "INFO:2022-05-09 11:37:07,592:emulator:train:L166: Loaded best model (restart: 2, epoch: 100).\n",
      "INFO:2022-05-09 11:37:07,593:emulator:train:L183: Loading best train stats (restart: 2, epoch: 100)...\n",
      "INFO:2022-05-09 11:37:07,595:emulator:train:L206: The fitted emulator hyperparameters are:\n"
     ]
    },
    {
     "name": "stdout",
     "output_type": "stream",
     "text": [
      "\n",
      "Bias: 1.0163\n",
      "Weights: -1.1647765636444092\n",
      "Outputscale: 0.7321\n",
      "Lengthscales: 0.05912405624985695\n",
      "Likelihood noise: 0.0008\n"
     ]
    },
    {
     "data": {
      "image/png": "[encoded data removed]",
      "text/plain": [
       "<Figure size 568x337 with 1 Axes>"
      ]
     },
     "metadata": {
      "needs_background": "light"
     },
     "output_type": "display_data"
    },
    {
     "name": "stdout",
     "output_type": "stream",
     "text": [
      "0.6157149\n"
     ]
    }
   ],
   "source": [
    "# we add extra point at the end\n",
    "\n",
    "dataset_2 = Dataset.build_from_function(\n",
    "    f,\n",
    "    D,\n",
    "    n_train_samples=4,\n",
    "    n_test_samples=0,\n",
    "    design=\"srs\",\n",
    "    seed=2,\n",
    "    l_bounds=[0.8],\n",
    "    u_bounds=[1]  \n",
    ")\n",
    "\n",
    "\n",
    "# we merge them\n",
    "\n",
    "dataset = dataset_1\n",
    "\n",
    "dataset.X_train = np.vstack([dataset_1.X_train,dataset_2.X_train])\n",
    "dataset.y_train = np.append(dataset_1.y_train,dataset_2.y_train)\n",
    "\n",
    "dataset.sample_size = dataset_1.sample_size + dataset_2.sample_size\n",
    "\n",
    "dataset.l_bounds = [np.min([dataset_1.l_bounds[0],dataset_2.l_bounds[0]])]\n",
    "dataset.u_bounds = [np.max([dataset_1.u_bounds[0],dataset_2.u_bounds[0]])]\n",
    "\n",
    "# choose likelihood\n",
    "from gpytorch.likelihoods import GaussianLikelihood\n",
    "likelihood = GaussianLikelihood()\n",
    "\n",
    "# choose mean function\n",
    "from gpytorch.means import LinearMean\n",
    "mean_function = LinearMean(input_size=dataset.input_size)\n",
    "\n",
    "# choose covariance function (kernel)\n",
    "from gpytorch.kernels import RBFKernel, ScaleKernel\n",
    "kernel = ScaleKernel(RBFKernel(ard_num_dims=dataset.input_size))\n",
    "\n",
    "# choose metrics\n",
    "from torchmetrics import MeanSquaredError, R2Score\n",
    "metrics = [MeanSquaredError(), R2Score()]\n",
    "\n",
    "# define experiment\n",
    "from GPErks.gp.experiment import GPExperiment\n",
    "experiment = GPExperiment(\n",
    "    dataset,\n",
    "    likelihood,\n",
    "    mean_function,\n",
    "    kernel,\n",
    "    n_restarts=3,\n",
    "    metrics=metrics,\n",
    "    seed=2,  # reproducible training\n",
    "    learn_noise=True  # y = f(x) + e, e ~ N(0, sigma^2I)\n",
    ")\n",
    "\n",
    "# train model\n",
    "from GPErks.train.emulator import GPEmulator\n",
    "import torch\n",
    "emulator = GPEmulator(experiment, device=\"cpu\")\n",
    "optimizer = torch.optim.Adam(experiment.model.parameters(), lr=0.1)\n",
    "emulator.train(optimizer)\n",
    "\n",
    "import numpy as np\n",
    "\n",
    "x_train = dataset.X_train\n",
    "y_train = dataset.y_train\n",
    "\n",
    "xx = np.linspace(dataset.l_bounds[0], dataset.u_bounds[0], 1000)\n",
    "\n",
    "yy_mean, yy_std = emulator.predict(xx)\n",
    "yy_true = f(xx)\n",
    "\n",
    "import matplotlib.pyplot as plt\n",
    "height = 9.36111\n",
    "width = 5.91667\n",
    "fig, axis = plt.subplots(1, 1, figsize=(4*width/3, height/2))\n",
    "\n",
    "axis.plot(xx, yy_true, c=\"C0\", ls=\"--\", label=\"true function\")\n",
    "\n",
    "CI = 2\n",
    "axis.plot(xx, yy_mean, c=\"C0\", label=\"predicted mean\")\n",
    "axis.fill_between(\n",
    "    xx, yy_mean - CI * yy_std, yy_mean + CI * yy_std, color=\"C0\", alpha=0.15, label=\"~95% CI\"\n",
    ")\n",
    "axis.scatter(x_train, y_train, fc=\"C0\", ec=\"C0\", label=\"training data\")\n",
    "axis.set_ylim([-2,4])\n",
    "axis.legend(loc=\"best\")\n",
    "fig.tight_layout()\n",
    "plt.show()\n",
    "\n",
    "print(np.max(yy_std[200:900]))"
   ]
  },
  {
   "cell_type": "code",
   "execution_count": 5,
   "metadata": {},
   "outputs": [
    {
     "name": "stderr",
     "output_type": "stream",
     "text": [
      "INFO:2022-05-09 11:36:36,763:emulator:train:L83: Training emulator...\n",
      "INFO:2022-05-09 11:36:36,765:emulator:train:L99: Running restart 1...\n",
      "/home/crg17/Desktop/KCL_projects/fitting/python/Historia/venv/lib/python3.8/site-packages/gpytorch/models/exact_gp.py:273: GPInputWarning: The input matches the stored training data. Did you forget to call model.train()?\n",
      "  warnings.warn(\n",
      "INFO:2022-05-09 11:36:36,790:emulator:_train_once:L308: [  1/100] Training Loss: 1.4147 - MeanSquaredError: 0.7943 - R2Score: 0.2057\n",
      "INFO:2022-05-09 11:36:36,801:emulator:_train_once:L308: [  2/100] Training Loss: 1.4014 - MeanSquaredError: 0.7914 - R2Score: 0.2086\n",
      "INFO:2022-05-09 11:36:36,811:emulator:_train_once:L308: [  3/100] Training Loss: 1.3897 - MeanSquaredError: 0.7875 - R2Score: 0.2125\n",
      "INFO:2022-05-09 11:36:36,821:emulator:_train_once:L308: [  4/100] Training Loss: 1.3797 - MeanSquaredError: 0.7832 - R2Score: 0.2168\n",
      "INFO:2022-05-09 11:36:36,836:emulator:_train_once:L308: [  5/100] Training Loss: 1.3713 - MeanSquaredError: 0.7790 - R2Score: 0.2210\n",
      "INFO:2022-05-09 11:36:36,846:emulator:_train_once:L308: [  6/100] Training Loss: 1.3643 - MeanSquaredError: 0.7751 - R2Score: 0.2249\n",
      "INFO:2022-05-09 11:36:36,855:emulator:_train_once:L308: [  7/100] Training Loss: 1.3580 - MeanSquaredError: 0.7717 - R2Score: 0.2283\n",
      "INFO:2022-05-09 11:36:36,868:emulator:_train_once:L308: [  8/100] Training Loss: 1.3520 - MeanSquaredError: 0.7691 - R2Score: 0.2309\n",
      "INFO:2022-05-09 11:36:36,883:emulator:_train_once:L308: [  9/100] Training Loss: 1.3464 - MeanSquaredError: 0.7674 - R2Score: 0.2326\n",
      "INFO:2022-05-09 11:36:36,894:emulator:_train_once:L308: [ 10/100] Training Loss: 1.3414 - MeanSquaredError: 0.7666 - R2Score: 0.2334\n",
      "INFO:2022-05-09 11:36:36,903:emulator:_train_once:L308: [ 11/100] Training Loss: 1.3373 - MeanSquaredError: 0.7665 - R2Score: 0.2335\n",
      "INFO:2022-05-09 11:36:36,916:emulator:_train_once:L308: [ 12/100] Training Loss: 1.3343 - MeanSquaredError: 0.7669 - R2Score: 0.2331\n",
      "INFO:2022-05-09 11:36:36,927:emulator:_train_once:L308: [ 13/100] Training Loss: 1.3322 - MeanSquaredError: 0.7678 - R2Score: 0.2322\n",
      "INFO:2022-05-09 11:36:36,938:emulator:_train_once:L308: [ 14/100] Training Loss: 1.3308 - MeanSquaredError: 0.7691 - R2Score: 0.2309\n",
      "INFO:2022-05-09 11:36:36,949:emulator:_train_once:L308: [ 15/100] Training Loss: 1.3297 - MeanSquaredError: 0.7708 - R2Score: 0.2292\n",
      "INFO:2022-05-09 11:36:36,963:emulator:_train_once:L308: [ 16/100] Training Loss: 1.3286 - MeanSquaredError: 0.7724 - R2Score: 0.2276\n",
      "INFO:2022-05-09 11:36:36,978:emulator:_train_once:L308: [ 17/100] Training Loss: 1.3273 - MeanSquaredError: 0.7733 - R2Score: 0.2267\n",
      "INFO:2022-05-09 11:36:36,994:emulator:_train_once:L308: [ 18/100] Training Loss: 1.3257 - MeanSquaredError: 0.7734 - R2Score: 0.2266\n",
      "INFO:2022-05-09 11:36:37,003:emulator:_train_once:L308: [ 19/100] Training Loss: 1.3236 - MeanSquaredError: 0.7727 - R2Score: 0.2273\n",
      "INFO:2022-05-09 11:36:37,013:emulator:_train_once:L308: [ 20/100] Training Loss: 1.3213 - MeanSquaredError: 0.7717 - R2Score: 0.2283\n",
      "INFO:2022-05-09 11:36:37,023:emulator:_train_once:L308: [ 21/100] Training Loss: 1.3188 - MeanSquaredError: 0.7707 - R2Score: 0.2293\n",
      "INFO:2022-05-09 11:36:37,033:emulator:_train_once:L308: [ 22/100] Training Loss: 1.3163 - MeanSquaredError: 0.7697 - R2Score: 0.2303\n",
      "INFO:2022-05-09 11:36:37,043:emulator:_train_once:L308: [ 23/100] Training Loss: 1.3138 - MeanSquaredError: 0.7688 - R2Score: 0.2312\n",
      "INFO:2022-05-09 11:36:37,052:emulator:_train_once:L308: [ 24/100] Training Loss: 1.3115 - MeanSquaredError: 0.7679 - R2Score: 0.2321\n",
      "INFO:2022-05-09 11:36:37,062:emulator:_train_once:L308: [ 25/100] Training Loss: 1.3095 - MeanSquaredError: 0.7672 - R2Score: 0.2328\n",
      "INFO:2022-05-09 11:36:37,073:emulator:_train_once:L308: [ 26/100] Training Loss: 1.3076 - MeanSquaredError: 0.7667 - R2Score: 0.2333\n",
      "INFO:2022-05-09 11:36:37,083:emulator:_train_once:L308: [ 27/100] Training Loss: 1.3061 - MeanSquaredError: 0.7667 - R2Score: 0.2333\n",
      "INFO:2022-05-09 11:36:37,092:emulator:_train_once:L308: [ 28/100] Training Loss: 1.3048 - MeanSquaredError: 0.7669 - R2Score: 0.2331\n",
      "INFO:2022-05-09 11:36:37,101:emulator:_train_once:L308: [ 29/100] Training Loss: 1.3037 - MeanSquaredError: 0.7672 - R2Score: 0.2328\n",
      "INFO:2022-05-09 11:36:37,112:emulator:_train_once:L308: [ 30/100] Training Loss: 1.3028 - MeanSquaredError: 0.7676 - R2Score: 0.2324\n",
      "INFO:2022-05-09 11:36:37,122:emulator:_train_once:L308: [ 31/100] Training Loss: 1.3020 - MeanSquaredError: 0.7680 - R2Score: 0.2320\n",
      "INFO:2022-05-09 11:36:37,132:emulator:_train_once:L308: [ 32/100] Training Loss: 1.3013 - MeanSquaredError: 0.7682 - R2Score: 0.2318\n",
      "INFO:2022-05-09 11:36:37,146:emulator:_train_once:L308: [ 33/100] Training Loss: 1.3006 - MeanSquaredError: 0.7684 - R2Score: 0.2316\n",
      "INFO:2022-05-09 11:36:37,158:emulator:_train_once:L308: [ 34/100] Training Loss: 1.2999 - MeanSquaredError: 0.7683 - R2Score: 0.2317\n",
      "INFO:2022-05-09 11:36:37,170:emulator:_train_once:L308: [ 35/100] Training Loss: 1.2991 - MeanSquaredError: 0.7680 - R2Score: 0.2320\n",
      "INFO:2022-05-09 11:36:37,181:emulator:_train_once:L308: [ 36/100] Training Loss: 1.2982 - MeanSquaredError: 0.7678 - R2Score: 0.2322\n",
      "INFO:2022-05-09 11:36:37,192:emulator:_train_once:L308: [ 37/100] Training Loss: 1.2974 - MeanSquaredError: 0.7674 - R2Score: 0.2326\n",
      "INFO:2022-05-09 11:36:37,203:emulator:_train_once:L308: [ 38/100] Training Loss: 1.2965 - MeanSquaredError: 0.7671 - R2Score: 0.2329\n",
      "INFO:2022-05-09 11:36:37,214:emulator:_train_once:L308: [ 39/100] Training Loss: 1.2957 - MeanSquaredError: 0.7669 - R2Score: 0.2331\n",
      "INFO:2022-05-09 11:36:37,225:emulator:_train_once:L308: [ 40/100] Training Loss: 1.2950 - MeanSquaredError: 0.7667 - R2Score: 0.2333\n",
      "INFO:2022-05-09 11:36:37,236:emulator:_train_once:L308: [ 41/100] Training Loss: 1.2945 - MeanSquaredError: 0.7667 - R2Score: 0.2333\n",
      "INFO:2022-05-09 11:36:37,247:emulator:_train_once:L308: [ 42/100] Training Loss: 1.2940 - MeanSquaredError: 0.7667 - R2Score: 0.2333\n",
      "INFO:2022-05-09 11:36:37,258:emulator:_train_once:L308: [ 43/100] Training Loss: 1.2936 - MeanSquaredError: 0.7668 - R2Score: 0.2332\n",
      "INFO:2022-05-09 11:36:37,268:emulator:_train_once:L308: [ 44/100] Training Loss: 1.2933 - MeanSquaredError: 0.7669 - R2Score: 0.2331\n",
      "INFO:2022-05-09 11:36:37,280:emulator:_train_once:L308: [ 45/100] Training Loss: 1.2930 - MeanSquaredError: 0.7670 - R2Score: 0.2330\n",
      "INFO:2022-05-09 11:36:37,291:emulator:_train_once:L308: [ 46/100] Training Loss: 1.2927 - MeanSquaredError: 0.7671 - R2Score: 0.2329\n",
      "INFO:2022-05-09 11:36:37,301:emulator:_train_once:L308: [ 47/100] Training Loss: 1.2924 - MeanSquaredError: 0.7671 - R2Score: 0.2329\n",
      "INFO:2022-05-09 11:36:37,312:emulator:_train_once:L308: [ 48/100] Training Loss: 1.2922 - MeanSquaredError: 0.7671 - R2Score: 0.2329\n",
      "INFO:2022-05-09 11:36:37,323:emulator:_train_once:L308: [ 49/100] Training Loss: 1.2919 - MeanSquaredError: 0.7670 - R2Score: 0.2330\n",
      "INFO:2022-05-09 11:36:37,335:emulator:_train_once:L308: [ 50/100] Training Loss: 1.2916 - MeanSquaredError: 0.7669 - R2Score: 0.2331\n",
      "INFO:2022-05-09 11:36:37,344:emulator:_train_once:L308: [ 51/100] Training Loss: 1.2913 - MeanSquaredError: 0.7668 - R2Score: 0.2332\n",
      "INFO:2022-05-09 11:36:37,356:emulator:_train_once:L308: [ 52/100] Training Loss: 1.2911 - MeanSquaredError: 0.7667 - R2Score: 0.2333\n",
      "INFO:2022-05-09 11:36:37,367:emulator:_train_once:L308: [ 53/100] Training Loss: 1.2908 - MeanSquaredError: 0.7667 - R2Score: 0.2333\n",
      "INFO:2022-05-09 11:36:37,376:emulator:_train_once:L308: [ 54/100] Training Loss: 1.2906 - MeanSquaredError: 0.7667 - R2Score: 0.2333\n",
      "INFO:2022-05-09 11:36:37,386:emulator:_train_once:L308: [ 55/100] Training Loss: 1.2904 - MeanSquaredError: 0.7667 - R2Score: 0.2333\n",
      "INFO:2022-05-09 11:36:37,398:emulator:_train_once:L308: [ 56/100] Training Loss: 1.2902 - MeanSquaredError: 0.7667 - R2Score: 0.2333\n",
      "INFO:2022-05-09 11:36:37,407:emulator:_train_once:L308: [ 57/100] Training Loss: 1.2901 - MeanSquaredError: 0.7667 - R2Score: 0.2333\n",
      "INFO:2022-05-09 11:36:37,418:emulator:_train_once:L308: [ 58/100] Training Loss: 1.2900 - MeanSquaredError: 0.7668 - R2Score: 0.2332\n",
      "INFO:2022-05-09 11:36:37,427:emulator:_train_once:L308: [ 59/100] Training Loss: 1.2899 - MeanSquaredError: 0.7668 - R2Score: 0.2332\n"
     ]
    },
    {
     "name": "stderr",
     "output_type": "stream",
     "text": [
      "INFO:2022-05-09 11:36:37,437:emulator:_train_once:L308: [ 60/100] Training Loss: 1.2898 - MeanSquaredError: 0.7668 - R2Score: 0.2332\n",
      "INFO:2022-05-09 11:36:37,447:emulator:_train_once:L308: [ 61/100] Training Loss: 1.2896 - MeanSquaredError: 0.7668 - R2Score: 0.2332\n",
      "INFO:2022-05-09 11:36:37,456:emulator:_train_once:L308: [ 62/100] Training Loss: 1.2895 - MeanSquaredError: 0.7668 - R2Score: 0.2332\n",
      "INFO:2022-05-09 11:36:37,464:emulator:_train_once:L308: [ 63/100] Training Loss: 1.2894 - MeanSquaredError: 0.7667 - R2Score: 0.2333\n",
      "INFO:2022-05-09 11:36:37,473:emulator:_train_once:L308: [ 64/100] Training Loss: 1.2893 - MeanSquaredError: 0.7667 - R2Score: 0.2333\n",
      "INFO:2022-05-09 11:36:37,483:emulator:_train_once:L308: [ 65/100] Training Loss: 1.2892 - MeanSquaredError: 0.7667 - R2Score: 0.2333\n",
      "INFO:2022-05-09 11:36:37,491:emulator:_train_once:L308: [ 66/100] Training Loss: 1.2891 - MeanSquaredError: 0.7667 - R2Score: 0.2333\n",
      "INFO:2022-05-09 11:36:37,500:emulator:_train_once:L308: [ 67/100] Training Loss: 1.2890 - MeanSquaredError: 0.7667 - R2Score: 0.2333\n",
      "INFO:2022-05-09 11:36:37,508:emulator:_train_once:L308: [ 68/100] Training Loss: 1.2889 - MeanSquaredError: 0.7667 - R2Score: 0.2333\n",
      "INFO:2022-05-09 11:36:37,517:emulator:_train_once:L308: [ 69/100] Training Loss: 1.2888 - MeanSquaredError: 0.7667 - R2Score: 0.2333\n",
      "INFO:2022-05-09 11:36:37,530:emulator:_train_once:L308: [ 70/100] Training Loss: 1.2888 - MeanSquaredError: 0.7667 - R2Score: 0.2333\n",
      "INFO:2022-05-09 11:36:37,542:emulator:_train_once:L308: [ 71/100] Training Loss: 1.2887 - MeanSquaredError: 0.7667 - R2Score: 0.2333\n",
      "INFO:2022-05-09 11:36:37,552:emulator:_train_once:L308: [ 72/100] Training Loss: 1.2887 - MeanSquaredError: 0.7667 - R2Score: 0.2333\n",
      "INFO:2022-05-09 11:36:37,561:emulator:_train_once:L308: [ 73/100] Training Loss: 1.2886 - MeanSquaredError: 0.7667 - R2Score: 0.2333\n",
      "INFO:2022-05-09 11:36:37,571:emulator:_train_once:L308: [ 74/100] Training Loss: 1.2885 - MeanSquaredError: 0.7667 - R2Score: 0.2333\n",
      "INFO:2022-05-09 11:36:37,583:emulator:_train_once:L308: [ 75/100] Training Loss: 1.2885 - MeanSquaredError: 0.7667 - R2Score: 0.2333\n",
      "INFO:2022-05-09 11:36:37,593:emulator:_train_once:L308: [ 76/100] Training Loss: 1.2884 - MeanSquaredError: 0.7667 - R2Score: 0.2333\n",
      "INFO:2022-05-09 11:36:37,603:emulator:_train_once:L308: [ 77/100] Training Loss: 1.2884 - MeanSquaredError: 0.7667 - R2Score: 0.2333\n",
      "INFO:2022-05-09 11:36:37,613:emulator:_train_once:L308: [ 78/100] Training Loss: 1.2883 - MeanSquaredError: 0.7667 - R2Score: 0.2333\n",
      "INFO:2022-05-09 11:36:37,623:emulator:_train_once:L308: [ 79/100] Training Loss: 1.2883 - MeanSquaredError: 0.7667 - R2Score: 0.2333\n",
      "INFO:2022-05-09 11:36:37,634:emulator:_train_once:L308: [ 80/100] Training Loss: 1.2882 - MeanSquaredError: 0.7667 - R2Score: 0.2333\n",
      "INFO:2022-05-09 11:36:37,643:emulator:_train_once:L308: [ 81/100] Training Loss: 1.2882 - MeanSquaredError: 0.7667 - R2Score: 0.2333\n",
      "INFO:2022-05-09 11:36:37,653:emulator:_train_once:L308: [ 82/100] Training Loss: 1.2881 - MeanSquaredError: 0.7667 - R2Score: 0.2333\n",
      "INFO:2022-05-09 11:36:37,663:emulator:_train_once:L308: [ 83/100] Training Loss: 1.2881 - MeanSquaredError: 0.7667 - R2Score: 0.2333\n",
      "INFO:2022-05-09 11:36:37,673:emulator:_train_once:L308: [ 84/100] Training Loss: 1.2881 - MeanSquaredError: 0.7667 - R2Score: 0.2333\n",
      "INFO:2022-05-09 11:36:37,683:emulator:_train_once:L308: [ 85/100] Training Loss: 1.2880 - MeanSquaredError: 0.7667 - R2Score: 0.2333\n",
      "INFO:2022-05-09 11:36:37,691:emulator:_train_once:L308: [ 86/100] Training Loss: 1.2880 - MeanSquaredError: 0.7667 - R2Score: 0.2333\n",
      "INFO:2022-05-09 11:36:37,700:emulator:_train_once:L308: [ 87/100] Training Loss: 1.2879 - MeanSquaredError: 0.7667 - R2Score: 0.2333\n",
      "INFO:2022-05-09 11:36:37,709:emulator:_train_once:L308: [ 88/100] Training Loss: 1.2879 - MeanSquaredError: 0.7667 - R2Score: 0.2333\n",
      "INFO:2022-05-09 11:36:37,718:emulator:_train_once:L308: [ 89/100] Training Loss: 1.2879 - MeanSquaredError: 0.7667 - R2Score: 0.2333\n",
      "INFO:2022-05-09 11:36:37,727:emulator:_train_once:L308: [ 90/100] Training Loss: 1.2878 - MeanSquaredError: 0.7667 - R2Score: 0.2333\n",
      "INFO:2022-05-09 11:36:37,736:emulator:_train_once:L308: [ 91/100] Training Loss: 1.2878 - MeanSquaredError: 0.7667 - R2Score: 0.2333\n",
      "INFO:2022-05-09 11:36:37,745:emulator:_train_once:L308: [ 92/100] Training Loss: 1.2878 - MeanSquaredError: 0.7667 - R2Score: 0.2333\n",
      "INFO:2022-05-09 11:36:37,753:emulator:_train_once:L308: [ 93/100] Training Loss: 1.2878 - MeanSquaredError: 0.7667 - R2Score: 0.2333\n",
      "INFO:2022-05-09 11:36:37,762:emulator:_train_once:L308: [ 94/100] Training Loss: 1.2877 - MeanSquaredError: 0.7667 - R2Score: 0.2333\n",
      "INFO:2022-05-09 11:36:37,771:emulator:_train_once:L308: [ 95/100] Training Loss: 1.2877 - MeanSquaredError: 0.7667 - R2Score: 0.2333\n",
      "INFO:2022-05-09 11:36:37,780:emulator:_train_once:L308: [ 96/100] Training Loss: 1.2877 - MeanSquaredError: 0.7667 - R2Score: 0.2333\n",
      "INFO:2022-05-09 11:36:37,789:emulator:_train_once:L308: [ 97/100] Training Loss: 1.2877 - MeanSquaredError: 0.7667 - R2Score: 0.2333\n",
      "INFO:2022-05-09 11:36:37,798:emulator:_train_once:L308: [ 98/100] Training Loss: 1.2876 - MeanSquaredError: 0.7667 - R2Score: 0.2333\n",
      "INFO:2022-05-09 11:36:37,806:emulator:_train_once:L308: [ 99/100] Training Loss: 1.2876 - MeanSquaredError: 0.7667 - R2Score: 0.2333\n",
      "INFO:2022-05-09 11:36:37,816:emulator:_train_once:L308: [100/100] Training Loss: 1.2876 - MeanSquaredError: 0.7667 - R2Score: 0.2333\n",
      "INFO:2022-05-09 11:36:37,819:emulator:train:L112: Run restart 1.\n",
      "INFO:2022-05-09 11:36:37,820:emulator:train:L99: Running restart 2...\n",
      "INFO:2022-05-09 11:36:37,843:emulator:_train_once:L308: [  1/100] Training Loss: 1.4366 - MeanSquaredError: 0.7041 - R2Score: 0.2959\n",
      "INFO:2022-05-09 11:36:37,852:emulator:_train_once:L308: [  2/100] Training Loss: 1.4297 - MeanSquaredError: 0.6732 - R2Score: 0.3268\n",
      "INFO:2022-05-09 11:36:37,861:emulator:_train_once:L308: [  3/100] Training Loss: 1.4163 - MeanSquaredError: 0.6242 - R2Score: 0.3758\n",
      "INFO:2022-05-09 11:36:37,870:emulator:_train_once:L308: [  4/100] Training Loss: 1.3955 - MeanSquaredError: 0.5535 - R2Score: 0.4465\n",
      "INFO:2022-05-09 11:36:37,880:emulator:_train_once:L308: [  5/100] Training Loss: 1.3649 - MeanSquaredError: 0.4610 - R2Score: 0.5390\n",
      "INFO:2022-05-09 11:36:37,888:emulator:_train_once:L308: [  6/100] Training Loss: 1.3217 - MeanSquaredError: 0.3582 - R2Score: 0.6418\n",
      "INFO:2022-05-09 11:36:37,898:emulator:_train_once:L308: [  7/100] Training Loss: 1.2645 - MeanSquaredError: 0.2676 - R2Score: 0.7324\n",
      "INFO:2022-05-09 11:36:37,905:emulator:_train_once:L308: [  8/100] Training Loss: 1.1972 - MeanSquaredError: 0.2026 - R2Score: 0.7974\n",
      "INFO:2022-05-09 11:36:37,913:emulator:_train_once:L308: [  9/100] Training Loss: 1.1284 - MeanSquaredError: 0.1536 - R2Score: 0.8464\n",
      "INFO:2022-05-09 11:36:37,922:emulator:_train_once:L308: [ 10/100] Training Loss: 1.0599 - MeanSquaredError: 0.1056 - R2Score: 0.8944\n",
      "INFO:2022-05-09 11:36:37,930:emulator:_train_once:L308: [ 11/100] Training Loss: 0.9827 - MeanSquaredError: 0.0576 - R2Score: 0.9424\n",
      "INFO:2022-05-09 11:36:37,938:emulator:_train_once:L308: [ 12/100] Training Loss: 0.8887 - MeanSquaredError: 0.0248 - R2Score: 0.9752\n",
      "INFO:2022-05-09 11:36:37,946:emulator:_train_once:L308: [ 13/100] Training Loss: 0.7891 - MeanSquaredError: 0.0115 - R2Score: 0.9885\n",
      "INFO:2022-05-09 11:36:37,954:emulator:_train_once:L308: [ 14/100] Training Loss: 0.7086 - MeanSquaredError: 0.0071 - R2Score: 0.9929\n",
      "INFO:2022-05-09 11:36:37,963:emulator:_train_once:L308: [ 15/100] Training Loss: 0.6509 - MeanSquaredError: 0.0047 - R2Score: 0.9953\n",
      "INFO:2022-05-09 11:36:37,971:emulator:_train_once:L308: [ 16/100] Training Loss: 0.5992 - MeanSquaredError: 0.0031 - R2Score: 0.9969\n",
      "INFO:2022-05-09 11:36:37,979:emulator:_train_once:L308: [ 17/100] Training Loss: 0.5435 - MeanSquaredError: 0.0022 - R2Score: 0.9978\n",
      "INFO:2022-05-09 11:36:37,987:emulator:_train_once:L308: [ 18/100] Training Loss: 0.4828 - MeanSquaredError: 0.0016 - R2Score: 0.9984\n",
      "INFO:2022-05-09 11:36:37,995:emulator:_train_once:L308: [ 19/100] Training Loss: 0.4185 - MeanSquaredError: 0.0013 - R2Score: 0.9987\n",
      "INFO:2022-05-09 11:36:38,010:emulator:_train_once:L308: [ 20/100] Training Loss: 0.3516 - MeanSquaredError: 0.0011 - R2Score: 0.9989\n"
     ]
    },
    {
     "name": "stderr",
     "output_type": "stream",
     "text": [
      "INFO:2022-05-09 11:36:38,020:emulator:_train_once:L308: [ 21/100] Training Loss: 0.2823 - MeanSquaredError: 0.0010 - R2Score: 0.9990\n",
      "INFO:2022-05-09 11:36:38,029:emulator:_train_once:L308: [ 22/100] Training Loss: 0.2102 - MeanSquaredError: 0.0010 - R2Score: 0.9990\n",
      "INFO:2022-05-09 11:36:38,039:emulator:_train_once:L308: [ 23/100] Training Loss: 0.1351 - MeanSquaredError: 0.0009 - R2Score: 0.9991\n",
      "INFO:2022-05-09 11:36:38,048:emulator:_train_once:L308: [ 24/100] Training Loss: 0.0584 - MeanSquaredError: 0.0009 - R2Score: 0.9991\n",
      "INFO:2022-05-09 11:36:38,059:emulator:_train_once:L308: [ 25/100] Training Loss: -0.0166 - MeanSquaredError: 0.0008 - R2Score: 0.9992\n",
      "INFO:2022-05-09 11:36:38,067:emulator:_train_once:L308: [ 26/100] Training Loss: -0.0860 - MeanSquaredError: 0.0007 - R2Score: 0.9993\n",
      "INFO:2022-05-09 11:36:38,080:emulator:_train_once:L308: [ 27/100] Training Loss: -0.1476 - MeanSquaredError: 0.0005 - R2Score: 0.9995\n",
      "INFO:2022-05-09 11:36:38,092:emulator:_train_once:L308: [ 28/100] Training Loss: -0.2042 - MeanSquaredError: 0.0004 - R2Score: 0.9996\n",
      "INFO:2022-05-09 11:36:38,103:emulator:_train_once:L308: [ 29/100] Training Loss: -0.2614 - MeanSquaredError: 0.0003 - R2Score: 0.9997\n",
      "INFO:2022-05-09 11:36:38,113:emulator:_train_once:L308: [ 30/100] Training Loss: -0.3211 - MeanSquaredError: 0.0002 - R2Score: 0.9998\n",
      "INFO:2022-05-09 11:36:38,126:emulator:_train_once:L308: [ 31/100] Training Loss: -0.3807 - MeanSquaredError: 0.0001 - R2Score: 0.9999\n",
      "INFO:2022-05-09 11:36:38,139:emulator:_train_once:L308: [ 32/100] Training Loss: -0.4384 - MeanSquaredError: 0.0001 - R2Score: 0.9999\n",
      "INFO:2022-05-09 11:36:38,150:emulator:_train_once:L308: [ 33/100] Training Loss: -0.4948 - MeanSquaredError: 0.0000 - R2Score: 1.0000\n",
      "INFO:2022-05-09 11:36:38,160:emulator:_train_once:L308: [ 34/100] Training Loss: -0.5510 - MeanSquaredError: 0.0000 - R2Score: 1.0000\n",
      "INFO:2022-05-09 11:36:38,174:emulator:_train_once:L308: [ 35/100] Training Loss: -0.6077 - MeanSquaredError: 0.0000 - R2Score: 1.0000\n",
      "INFO:2022-05-09 11:36:38,187:emulator:_train_once:L308: [ 36/100] Training Loss: -0.6645 - MeanSquaredError: 0.0000 - R2Score: 1.0000\n",
      "INFO:2022-05-09 11:36:38,197:emulator:_train_once:L308: [ 37/100] Training Loss: -0.7200 - MeanSquaredError: 0.0000 - R2Score: 1.0000\n",
      "INFO:2022-05-09 11:36:38,206:emulator:_train_once:L308: [ 38/100] Training Loss: -0.7727 - MeanSquaredError: 0.0000 - R2Score: 1.0000\n",
      "INFO:2022-05-09 11:36:38,216:emulator:_train_once:L308: [ 39/100] Training Loss: -0.8217 - MeanSquaredError: 0.0000 - R2Score: 1.0000\n",
      "INFO:2022-05-09 11:36:38,226:emulator:_train_once:L308: [ 40/100] Training Loss: -0.8669 - MeanSquaredError: 0.0000 - R2Score: 1.0000\n",
      "INFO:2022-05-09 11:36:38,235:emulator:_train_once:L308: [ 41/100] Training Loss: -0.9098 - MeanSquaredError: 0.0000 - R2Score: 1.0000\n",
      "INFO:2022-05-09 11:36:38,245:emulator:_train_once:L308: [ 42/100] Training Loss: -0.9524 - MeanSquaredError: 0.0000 - R2Score: 1.0000\n",
      "INFO:2022-05-09 11:36:38,255:emulator:_train_once:L308: [ 43/100] Training Loss: -0.9954 - MeanSquaredError: 0.0000 - R2Score: 1.0000\n",
      "INFO:2022-05-09 11:36:38,265:emulator:_train_once:L308: [ 44/100] Training Loss: -1.0368 - MeanSquaredError: 0.0000 - R2Score: 1.0000\n",
      "INFO:2022-05-09 11:36:38,276:emulator:_train_once:L308: [ 45/100] Training Loss: -1.0753 - MeanSquaredError: 0.0000 - R2Score: 1.0000\n",
      "INFO:2022-05-09 11:36:38,286:emulator:_train_once:L308: [ 46/100] Training Loss: -1.1101 - MeanSquaredError: 0.0000 - R2Score: 1.0000\n",
      "INFO:2022-05-09 11:36:38,296:emulator:_train_once:L308: [ 47/100] Training Loss: -1.1418 - MeanSquaredError: 0.0000 - R2Score: 1.0000\n",
      "INFO:2022-05-09 11:36:38,306:emulator:_train_once:L308: [ 48/100] Training Loss: -1.1716 - MeanSquaredError: 0.0000 - R2Score: 1.0000\n",
      "INFO:2022-05-09 11:36:38,316:emulator:_train_once:L308: [ 49/100] Training Loss: -1.1993 - MeanSquaredError: 0.0000 - R2Score: 1.0000\n",
      "INFO:2022-05-09 11:36:38,327:emulator:_train_once:L308: [ 50/100] Training Loss: -1.2240 - MeanSquaredError: 0.0000 - R2Score: 1.0000\n",
      "INFO:2022-05-09 11:36:38,337:emulator:_train_once:L308: [ 51/100] Training Loss: -1.2456 - MeanSquaredError: 0.0000 - R2Score: 1.0000\n",
      "INFO:2022-05-09 11:36:38,347:emulator:_train_once:L308: [ 52/100] Training Loss: -1.2639 - MeanSquaredError: 0.0000 - R2Score: 1.0000\n",
      "INFO:2022-05-09 11:36:38,357:emulator:_train_once:L308: [ 53/100] Training Loss: -1.2810 - MeanSquaredError: 0.0000 - R2Score: 1.0000\n",
      "INFO:2022-05-09 11:36:38,367:emulator:_train_once:L308: [ 54/100] Training Loss: -1.2966 - MeanSquaredError: 0.0000 - R2Score: 1.0000\n",
      "INFO:2022-05-09 11:36:38,380:emulator:_train_once:L308: [ 55/100] Training Loss: -1.3108 - MeanSquaredError: 0.0000 - R2Score: 1.0000\n",
      "INFO:2022-05-09 11:36:38,390:emulator:_train_once:L308: [ 56/100] Training Loss: -1.3228 - MeanSquaredError: 0.0000 - R2Score: 1.0000\n",
      "INFO:2022-05-09 11:36:38,400:emulator:_train_once:L308: [ 57/100] Training Loss: -1.3328 - MeanSquaredError: 0.0000 - R2Score: 1.0000\n",
      "INFO:2022-05-09 11:36:38,410:emulator:_train_once:L308: [ 58/100] Training Loss: -1.3424 - MeanSquaredError: 0.0000 - R2Score: 1.0000\n",
      "INFO:2022-05-09 11:36:38,423:emulator:_train_once:L308: [ 59/100] Training Loss: -1.3512 - MeanSquaredError: 0.0000 - R2Score: 1.0000\n",
      "INFO:2022-05-09 11:36:38,436:emulator:_train_once:L308: [ 60/100] Training Loss: -1.3593 - MeanSquaredError: 0.0000 - R2Score: 1.0000\n",
      "INFO:2022-05-09 11:36:38,445:emulator:_train_once:L308: [ 61/100] Training Loss: -1.3653 - MeanSquaredError: 0.0000 - R2Score: 1.0000\n",
      "INFO:2022-05-09 11:36:38,454:emulator:_train_once:L308: [ 62/100] Training Loss: -1.3708 - MeanSquaredError: 0.0000 - R2Score: 1.0000\n",
      "INFO:2022-05-09 11:36:38,462:emulator:_train_once:L308: [ 63/100] Training Loss: -1.3760 - MeanSquaredError: 0.0000 - R2Score: 1.0000\n",
      "INFO:2022-05-09 11:36:38,472:emulator:_train_once:L308: [ 64/100] Training Loss: -1.3804 - MeanSquaredError: 0.0000 - R2Score: 1.0000\n",
      "INFO:2022-05-09 11:36:38,481:emulator:_train_once:L308: [ 65/100] Training Loss: -1.3846 - MeanSquaredError: 0.0000 - R2Score: 1.0000\n",
      "INFO:2022-05-09 11:36:38,490:emulator:_train_once:L308: [ 66/100] Training Loss: -1.3875 - MeanSquaredError: 0.0000 - R2Score: 1.0000\n",
      "INFO:2022-05-09 11:36:38,499:emulator:_train_once:L308: [ 67/100] Training Loss: -1.3904 - MeanSquaredError: 0.0000 - R2Score: 1.0000\n",
      "INFO:2022-05-09 11:36:38,508:emulator:_train_once:L308: [ 68/100] Training Loss: -1.3930 - MeanSquaredError: 0.0000 - R2Score: 1.0000\n",
      "INFO:2022-05-09 11:36:38,517:emulator:_train_once:L308: [ 69/100] Training Loss: -1.3958 - MeanSquaredError: 0.0000 - R2Score: 1.0000\n",
      "INFO:2022-05-09 11:36:38,526:emulator:_train_once:L308: [ 70/100] Training Loss: -1.3976 - MeanSquaredError: 0.0000 - R2Score: 1.0000\n",
      "INFO:2022-05-09 11:36:38,535:emulator:_train_once:L308: [ 71/100] Training Loss: -1.4000 - MeanSquaredError: 0.0000 - R2Score: 1.0000\n",
      "INFO:2022-05-09 11:36:38,544:emulator:_train_once:L308: [ 72/100] Training Loss: -1.4016 - MeanSquaredError: 0.0000 - R2Score: 1.0000\n",
      "INFO:2022-05-09 11:36:38,553:emulator:_train_once:L308: [ 73/100] Training Loss: -1.4032 - MeanSquaredError: 0.0000 - R2Score: 1.0000\n",
      "INFO:2022-05-09 11:36:38,562:emulator:_train_once:L308: [ 74/100] Training Loss: -1.4052 - MeanSquaredError: 0.0000 - R2Score: 1.0000\n",
      "INFO:2022-05-09 11:36:38,572:emulator:_train_once:L308: [ 75/100] Training Loss: -1.4062 - MeanSquaredError: 0.0000 - R2Score: 1.0000\n",
      "INFO:2022-05-09 11:36:38,580:emulator:_train_once:L308: [ 76/100] Training Loss: -1.4072 - MeanSquaredError: 0.0000 - R2Score: 1.0000\n",
      "INFO:2022-05-09 11:36:38,589:emulator:_train_once:L308: [ 77/100] Training Loss: -1.4084 - MeanSquaredError: 0.0000 - R2Score: 1.0000\n",
      "INFO:2022-05-09 11:36:38,598:emulator:_train_once:L308: [ 78/100] Training Loss: -1.4098 - MeanSquaredError: 0.0000 - R2Score: 1.0000\n",
      "INFO:2022-05-09 11:36:38,607:emulator:_train_once:L308: [ 79/100] Training Loss: -1.4102 - MeanSquaredError: 0.0000 - R2Score: 1.0000\n",
      "INFO:2022-05-09 11:36:38,617:emulator:_train_once:L308: [ 80/100] Training Loss: -1.4116 - MeanSquaredError: 0.0000 - R2Score: 1.0000\n",
      "INFO:2022-05-09 11:36:38,626:emulator:_train_once:L308: [ 81/100] Training Loss: -1.4121 - MeanSquaredError: 0.0000 - R2Score: 1.0000\n",
      "INFO:2022-05-09 11:36:38,635:emulator:_train_once:L308: [ 82/100] Training Loss: -1.4129 - MeanSquaredError: 0.0000 - R2Score: 1.0000\n"
     ]
    },
    {
     "name": "stderr",
     "output_type": "stream",
     "text": [
      "INFO:2022-05-09 11:36:38,644:emulator:_train_once:L308: [ 83/100] Training Loss: -1.4139 - MeanSquaredError: 0.0000 - R2Score: 1.0000\n",
      "INFO:2022-05-09 11:36:38,653:emulator:_train_once:L308: [ 84/100] Training Loss: -1.4142 - MeanSquaredError: 0.0000 - R2Score: 1.0000\n",
      "INFO:2022-05-09 11:36:38,662:emulator:_train_once:L308: [ 85/100] Training Loss: -1.4147 - MeanSquaredError: 0.0000 - R2Score: 1.0000\n",
      "INFO:2022-05-09 11:36:38,671:emulator:_train_once:L308: [ 86/100] Training Loss: -1.4154 - MeanSquaredError: 0.0000 - R2Score: 1.0000\n",
      "INFO:2022-05-09 11:36:38,680:emulator:_train_once:L308: [ 87/100] Training Loss: -1.4161 - MeanSquaredError: 0.0000 - R2Score: 1.0000\n",
      "INFO:2022-05-09 11:36:38,689:emulator:_train_once:L308: [ 88/100] Training Loss: -1.4165 - MeanSquaredError: 0.0000 - R2Score: 1.0000\n",
      "INFO:2022-05-09 11:36:38,698:emulator:_train_once:L308: [ 89/100] Training Loss: -1.4165 - MeanSquaredError: 0.0000 - R2Score: 1.0000\n",
      "INFO:2022-05-09 11:36:38,708:emulator:_train_once:L308: [ 90/100] Training Loss: -1.4171 - MeanSquaredError: 0.0000 - R2Score: 1.0000\n",
      "INFO:2022-05-09 11:36:38,717:emulator:_train_once:L308: [ 91/100] Training Loss: -1.4177 - MeanSquaredError: 0.0000 - R2Score: 1.0000\n",
      "INFO:2022-05-09 11:36:38,726:emulator:_train_once:L308: [ 92/100] Training Loss: -1.4178 - MeanSquaredError: 0.0000 - R2Score: 1.0000\n",
      "INFO:2022-05-09 11:36:38,735:emulator:_train_once:L308: [ 93/100] Training Loss: -1.4184 - MeanSquaredError: 0.0000 - R2Score: 1.0000\n",
      "INFO:2022-05-09 11:36:38,743:emulator:_train_once:L308: [ 94/100] Training Loss: -1.4188 - MeanSquaredError: 0.0000 - R2Score: 1.0000\n",
      "INFO:2022-05-09 11:36:38,753:emulator:_train_once:L308: [ 95/100] Training Loss: -1.4188 - MeanSquaredError: 0.0000 - R2Score: 1.0000\n",
      "INFO:2022-05-09 11:36:38,762:emulator:_train_once:L308: [ 96/100] Training Loss: -1.4195 - MeanSquaredError: 0.0000 - R2Score: 1.0000\n",
      "INFO:2022-05-09 11:36:38,774:emulator:_train_once:L308: [ 97/100] Training Loss: -1.4198 - MeanSquaredError: 0.0000 - R2Score: 1.0000\n",
      "INFO:2022-05-09 11:36:38,784:emulator:_train_once:L308: [ 98/100] Training Loss: -1.4200 - MeanSquaredError: 0.0000 - R2Score: 1.0000\n",
      "INFO:2022-05-09 11:36:38,794:emulator:_train_once:L308: [ 99/100] Training Loss: -1.4198 - MeanSquaredError: 0.0000 - R2Score: 1.0000\n",
      "INFO:2022-05-09 11:36:38,805:emulator:_train_once:L308: [100/100] Training Loss: -1.4208 - MeanSquaredError: 0.0000 - R2Score: 1.0000\n",
      "INFO:2022-05-09 11:36:38,808:emulator:train:L112: Run restart 2.\n",
      "INFO:2022-05-09 11:36:38,809:emulator:train:L99: Running restart 3...\n",
      "INFO:2022-05-09 11:36:38,834:emulator:_train_once:L308: [  1/100] Training Loss: 1.3990 - MeanSquaredError: 0.8150 - R2Score: 0.1850\n",
      "INFO:2022-05-09 11:36:38,844:emulator:_train_once:L308: [  2/100] Training Loss: 1.3862 - MeanSquaredError: 0.7987 - R2Score: 0.2013\n",
      "INFO:2022-05-09 11:36:38,853:emulator:_train_once:L308: [  3/100] Training Loss: 1.3724 - MeanSquaredError: 0.7859 - R2Score: 0.2141\n",
      "INFO:2022-05-09 11:36:38,861:emulator:_train_once:L308: [  4/100] Training Loss: 1.3653 - MeanSquaredError: 0.7780 - R2Score: 0.2220\n",
      "INFO:2022-05-09 11:36:38,870:emulator:_train_once:L308: [  5/100] Training Loss: 1.3649 - MeanSquaredError: 0.7724 - R2Score: 0.2276\n",
      "INFO:2022-05-09 11:36:38,879:emulator:_train_once:L308: [  6/100] Training Loss: 1.3650 - MeanSquaredError: 0.7665 - R2Score: 0.2335\n",
      "INFO:2022-05-09 11:36:38,889:emulator:_train_once:L308: [  7/100] Training Loss: 1.3605 - MeanSquaredError: 0.7604 - R2Score: 0.2396\n",
      "INFO:2022-05-09 11:36:38,897:emulator:_train_once:L308: [  8/100] Training Loss: 1.3511 - MeanSquaredError: 0.7560 - R2Score: 0.2440\n",
      "INFO:2022-05-09 11:36:38,911:emulator:_train_once:L308: [  9/100] Training Loss: 1.3406 - MeanSquaredError: 0.7550 - R2Score: 0.2450\n",
      "INFO:2022-05-09 11:36:38,923:emulator:_train_once:L308: [ 10/100] Training Loss: 1.3333 - MeanSquaredError: 0.7571 - R2Score: 0.2429\n",
      "INFO:2022-05-09 11:36:38,933:emulator:_train_once:L308: [ 11/100] Training Loss: 1.3306 - MeanSquaredError: 0.7601 - R2Score: 0.2399\n",
      "INFO:2022-05-09 11:36:38,943:emulator:_train_once:L308: [ 12/100] Training Loss: 1.3303 - MeanSquaredError: 0.7608 - R2Score: 0.2392\n",
      "INFO:2022-05-09 11:36:38,954:emulator:_train_once:L308: [ 13/100] Training Loss: 1.3289 - MeanSquaredError: 0.7583 - R2Score: 0.2417\n",
      "INFO:2022-05-09 11:36:38,964:emulator:_train_once:L308: [ 14/100] Training Loss: 1.3247 - MeanSquaredError: 0.7540 - R2Score: 0.2460\n",
      "INFO:2022-05-09 11:36:38,974:emulator:_train_once:L308: [ 15/100] Training Loss: 1.3196 - MeanSquaredError: 0.7508 - R2Score: 0.2492\n",
      "INFO:2022-05-09 11:36:38,985:emulator:_train_once:L308: [ 16/100] Training Loss: 1.3167 - MeanSquaredError: 0.7503 - R2Score: 0.2497\n",
      "INFO:2022-05-09 11:36:38,996:emulator:_train_once:L308: [ 17/100] Training Loss: 1.3171 - MeanSquaredError: 0.7519 - R2Score: 0.2481\n",
      "INFO:2022-05-09 11:36:39,006:emulator:_train_once:L308: [ 18/100] Training Loss: 1.3183 - MeanSquaredError: 0.7536 - R2Score: 0.2464\n",
      "INFO:2022-05-09 11:36:39,016:emulator:_train_once:L308: [ 19/100] Training Loss: 1.3172 - MeanSquaredError: 0.7550 - R2Score: 0.2450\n",
      "INFO:2022-05-09 11:36:39,027:emulator:_train_once:L308: [ 20/100] Training Loss: 1.3140 - MeanSquaredError: 0.7574 - R2Score: 0.2426\n",
      "INFO:2022-05-09 11:36:39,037:emulator:_train_once:L308: [ 21/100] Training Loss: 1.3115 - MeanSquaredError: 0.7612 - R2Score: 0.2388\n",
      "INFO:2022-05-09 11:36:39,047:emulator:_train_once:L308: [ 22/100] Training Loss: 1.3115 - MeanSquaredError: 0.7641 - R2Score: 0.2359\n",
      "INFO:2022-05-09 11:36:39,057:emulator:_train_once:L308: [ 23/100] Training Loss: 1.3118 - MeanSquaredError: 0.7637 - R2Score: 0.2363\n",
      "INFO:2022-05-09 11:36:39,067:emulator:_train_once:L308: [ 24/100] Training Loss: 1.3099 - MeanSquaredError: 0.7610 - R2Score: 0.2390\n",
      "INFO:2022-05-09 11:36:39,078:emulator:_train_once:L308: [ 25/100] Training Loss: 1.3066 - MeanSquaredError: 0.7589 - R2Score: 0.2411\n",
      "INFO:2022-05-09 11:36:39,088:emulator:_train_once:L308: [ 26/100] Training Loss: 1.3046 - MeanSquaredError: 0.7586 - R2Score: 0.2414\n",
      "INFO:2022-05-09 11:36:39,099:emulator:_train_once:L308: [ 27/100] Training Loss: 1.3043 - MeanSquaredError: 0.7586 - R2Score: 0.2414\n",
      "INFO:2022-05-09 11:36:39,109:emulator:_train_once:L308: [ 28/100] Training Loss: 1.3032 - MeanSquaredError: 0.7580 - R2Score: 0.2420\n",
      "INFO:2022-05-09 11:36:39,118:emulator:_train_once:L308: [ 29/100] Training Loss: 1.3006 - MeanSquaredError: 0.7582 - R2Score: 0.2418\n",
      "INFO:2022-05-09 11:36:39,128:emulator:_train_once:L308: [ 30/100] Training Loss: 1.2985 - MeanSquaredError: 0.7598 - R2Score: 0.2402\n",
      "INFO:2022-05-09 11:36:39,137:emulator:_train_once:L308: [ 31/100] Training Loss: 1.2981 - MeanSquaredError: 0.7607 - R2Score: 0.2393\n",
      "INFO:2022-05-09 11:36:39,146:emulator:_train_once:L308: [ 32/100] Training Loss: 1.2976 - MeanSquaredError: 0.7595 - R2Score: 0.2405\n",
      "INFO:2022-05-09 11:36:39,154:emulator:_train_once:L308: [ 33/100] Training Loss: 1.2961 - MeanSquaredError: 0.7580 - R2Score: 0.2420\n",
      "INFO:2022-05-09 11:36:39,162:emulator:_train_once:L308: [ 34/100] Training Loss: 1.2947 - MeanSquaredError: 0.7579 - R2Score: 0.2421\n",
      "INFO:2022-05-09 11:36:39,172:emulator:_train_once:L308: [ 35/100] Training Loss: 1.2946 - MeanSquaredError: 0.7584 - R2Score: 0.2416\n",
      "INFO:2022-05-09 11:36:39,181:emulator:_train_once:L308: [ 36/100] Training Loss: 1.2945 - MeanSquaredError: 0.7585 - R2Score: 0.2415\n",
      "INFO:2022-05-09 11:36:39,189:emulator:_train_once:L308: [ 37/100] Training Loss: 1.2937 - MeanSquaredError: 0.7591 - R2Score: 0.2409\n",
      "INFO:2022-05-09 11:36:39,198:emulator:_train_once:L308: [ 38/100] Training Loss: 1.2929 - MeanSquaredError: 0.7604 - R2Score: 0.2396\n",
      "INFO:2022-05-09 11:36:39,206:emulator:_train_once:L308: [ 39/100] Training Loss: 1.2930 - MeanSquaredError: 0.7612 - R2Score: 0.2388\n",
      "INFO:2022-05-09 11:36:39,216:emulator:_train_once:L308: [ 40/100] Training Loss: 1.2929 - MeanSquaredError: 0.7606 - R2Score: 0.2394\n",
      "INFO:2022-05-09 11:36:39,225:emulator:_train_once:L308: [ 41/100] Training Loss: 1.2923 - MeanSquaredError: 0.7600 - R2Score: 0.2400\n",
      "INFO:2022-05-09 11:36:39,234:emulator:_train_once:L308: [ 42/100] Training Loss: 1.2918 - MeanSquaredError: 0.7601 - R2Score: 0.2399\n",
      "INFO:2022-05-09 11:36:39,243:emulator:_train_once:L308: [ 43/100] Training Loss: 1.2918 - MeanSquaredError: 0.7603 - R2Score: 0.2397\n"
     ]
    },
    {
     "name": "stderr",
     "output_type": "stream",
     "text": [
      "INFO:2022-05-09 11:36:39,251:emulator:_train_once:L308: [ 44/100] Training Loss: 1.2916 - MeanSquaredError: 0.7603 - R2Score: 0.2397\n",
      "INFO:2022-05-09 11:36:39,261:emulator:_train_once:L308: [ 45/100] Training Loss: 1.2910 - MeanSquaredError: 0.7607 - R2Score: 0.2393\n",
      "INFO:2022-05-09 11:36:39,270:emulator:_train_once:L308: [ 46/100] Training Loss: 1.2907 - MeanSquaredError: 0.7612 - R2Score: 0.2388\n",
      "INFO:2022-05-09 11:36:39,279:emulator:_train_once:L308: [ 47/100] Training Loss: 1.2906 - MeanSquaredError: 0.7611 - R2Score: 0.2389\n",
      "INFO:2022-05-09 11:36:39,288:emulator:_train_once:L308: [ 48/100] Training Loss: 1.2903 - MeanSquaredError: 0.7606 - R2Score: 0.2394\n",
      "INFO:2022-05-09 11:36:39,297:emulator:_train_once:L308: [ 49/100] Training Loss: 1.2899 - MeanSquaredError: 0.7604 - R2Score: 0.2396\n",
      "INFO:2022-05-09 11:36:39,307:emulator:_train_once:L308: [ 50/100] Training Loss: 1.2897 - MeanSquaredError: 0.7605 - R2Score: 0.2395\n",
      "INFO:2022-05-09 11:36:39,316:emulator:_train_once:L308: [ 51/100] Training Loss: 1.2897 - MeanSquaredError: 0.7605 - R2Score: 0.2395\n",
      "INFO:2022-05-09 11:36:39,325:emulator:_train_once:L308: [ 52/100] Training Loss: 1.2894 - MeanSquaredError: 0.7607 - R2Score: 0.2393\n",
      "INFO:2022-05-09 11:36:39,334:emulator:_train_once:L308: [ 53/100] Training Loss: 1.2891 - MeanSquaredError: 0.7610 - R2Score: 0.2390\n",
      "INFO:2022-05-09 11:36:39,342:emulator:_train_once:L308: [ 54/100] Training Loss: 1.2891 - MeanSquaredError: 0.7612 - R2Score: 0.2388\n",
      "INFO:2022-05-09 11:36:39,351:emulator:_train_once:L308: [ 55/100] Training Loss: 1.2890 - MeanSquaredError: 0.7610 - R2Score: 0.2390\n",
      "INFO:2022-05-09 11:36:39,359:emulator:_train_once:L308: [ 56/100] Training Loss: 1.2888 - MeanSquaredError: 0.7608 - R2Score: 0.2392\n",
      "INFO:2022-05-09 11:36:39,367:emulator:_train_once:L308: [ 57/100] Training Loss: 1.2887 - MeanSquaredError: 0.7609 - R2Score: 0.2391\n",
      "INFO:2022-05-09 11:36:39,375:emulator:_train_once:L308: [ 58/100] Training Loss: 1.2887 - MeanSquaredError: 0.7609 - R2Score: 0.2391\n",
      "INFO:2022-05-09 11:36:39,384:emulator:_train_once:L308: [ 59/100] Training Loss: 1.2886 - MeanSquaredError: 0.7610 - R2Score: 0.2390\n",
      "INFO:2022-05-09 11:36:39,393:emulator:_train_once:L308: [ 60/100] Training Loss: 1.2885 - MeanSquaredError: 0.7612 - R2Score: 0.2388\n",
      "INFO:2022-05-09 11:36:39,401:emulator:_train_once:L308: [ 61/100] Training Loss: 1.2884 - MeanSquaredError: 0.7613 - R2Score: 0.2387\n",
      "INFO:2022-05-09 11:36:39,408:emulator:_train_once:L308: [ 62/100] Training Loss: 1.2884 - MeanSquaredError: 0.7612 - R2Score: 0.2388\n",
      "INFO:2022-05-09 11:36:39,416:emulator:_train_once:L308: [ 63/100] Training Loss: 1.2882 - MeanSquaredError: 0.7611 - R2Score: 0.2389\n",
      "INFO:2022-05-09 11:36:39,426:emulator:_train_once:L308: [ 64/100] Training Loss: 1.2882 - MeanSquaredError: 0.7610 - R2Score: 0.2390\n",
      "INFO:2022-05-09 11:36:39,438:emulator:_train_once:L308: [ 65/100] Training Loss: 1.2881 - MeanSquaredError: 0.7610 - R2Score: 0.2390\n",
      "INFO:2022-05-09 11:36:39,448:emulator:_train_once:L308: [ 66/100] Training Loss: 1.2880 - MeanSquaredError: 0.7611 - R2Score: 0.2389\n",
      "INFO:2022-05-09 11:36:39,458:emulator:_train_once:L308: [ 67/100] Training Loss: 1.2879 - MeanSquaredError: 0.7612 - R2Score: 0.2388\n",
      "INFO:2022-05-09 11:36:39,467:emulator:_train_once:L308: [ 68/100] Training Loss: 1.2879 - MeanSquaredError: 0.7612 - R2Score: 0.2388\n",
      "INFO:2022-05-09 11:36:39,477:emulator:_train_once:L308: [ 69/100] Training Loss: 1.2878 - MeanSquaredError: 0.7611 - R2Score: 0.2389\n",
      "INFO:2022-05-09 11:36:39,488:emulator:_train_once:L308: [ 70/100] Training Loss: 1.2878 - MeanSquaredError: 0.7610 - R2Score: 0.2390\n",
      "INFO:2022-05-09 11:36:39,497:emulator:_train_once:L308: [ 71/100] Training Loss: 1.2877 - MeanSquaredError: 0.7610 - R2Score: 0.2390\n",
      "INFO:2022-05-09 11:36:39,507:emulator:_train_once:L308: [ 72/100] Training Loss: 1.2877 - MeanSquaredError: 0.7610 - R2Score: 0.2390\n",
      "INFO:2022-05-09 11:36:39,516:emulator:_train_once:L308: [ 73/100] Training Loss: 1.2876 - MeanSquaredError: 0.7610 - R2Score: 0.2390\n",
      "INFO:2022-05-09 11:36:39,526:emulator:_train_once:L308: [ 74/100] Training Loss: 1.2875 - MeanSquaredError: 0.7611 - R2Score: 0.2389\n",
      "INFO:2022-05-09 11:36:39,539:emulator:_train_once:L308: [ 75/100] Training Loss: 1.2875 - MeanSquaredError: 0.7611 - R2Score: 0.2389\n",
      "INFO:2022-05-09 11:36:39,548:emulator:_train_once:L308: [ 76/100] Training Loss: 1.2875 - MeanSquaredError: 0.7611 - R2Score: 0.2389\n",
      "INFO:2022-05-09 11:36:39,556:emulator:_train_once:L308: [ 77/100] Training Loss: 1.2874 - MeanSquaredError: 0.7610 - R2Score: 0.2390\n",
      "INFO:2022-05-09 11:36:39,566:emulator:_train_once:L308: [ 78/100] Training Loss: 1.2874 - MeanSquaredError: 0.7610 - R2Score: 0.2390\n",
      "INFO:2022-05-09 11:36:39,574:emulator:_train_once:L308: [ 79/100] Training Loss: 1.2874 - MeanSquaredError: 0.7610 - R2Score: 0.2390\n",
      "INFO:2022-05-09 11:36:39,584:emulator:_train_once:L308: [ 80/100] Training Loss: 1.2873 - MeanSquaredError: 0.7610 - R2Score: 0.2390\n",
      "INFO:2022-05-09 11:36:39,592:emulator:_train_once:L308: [ 81/100] Training Loss: 1.2873 - MeanSquaredError: 0.7610 - R2Score: 0.2390\n",
      "INFO:2022-05-09 11:36:39,602:emulator:_train_once:L308: [ 82/100] Training Loss: 1.2872 - MeanSquaredError: 0.7610 - R2Score: 0.2390\n",
      "INFO:2022-05-09 11:36:39,610:emulator:_train_once:L308: [ 83/100] Training Loss: 1.2872 - MeanSquaredError: 0.7610 - R2Score: 0.2390\n",
      "INFO:2022-05-09 11:36:39,624:emulator:_train_once:L308: [ 84/100] Training Loss: 1.2872 - MeanSquaredError: 0.7609 - R2Score: 0.2391\n",
      "INFO:2022-05-09 11:36:39,633:emulator:_train_once:L308: [ 85/100] Training Loss: 1.2871 - MeanSquaredError: 0.7609 - R2Score: 0.2391\n",
      "INFO:2022-05-09 11:36:39,643:emulator:_train_once:L308: [ 86/100] Training Loss: 1.2871 - MeanSquaredError: 0.7609 - R2Score: 0.2391\n",
      "INFO:2022-05-09 11:36:39,653:emulator:_train_once:L308: [ 87/100] Training Loss: 1.2871 - MeanSquaredError: 0.7609 - R2Score: 0.2391\n",
      "INFO:2022-05-09 11:36:39,663:emulator:_train_once:L308: [ 88/100] Training Loss: 1.2870 - MeanSquaredError: 0.7609 - R2Score: 0.2391\n",
      "INFO:2022-05-09 11:36:39,673:emulator:_train_once:L308: [ 89/100] Training Loss: 1.2870 - MeanSquaredError: 0.7609 - R2Score: 0.2391\n",
      "INFO:2022-05-09 11:36:39,684:emulator:_train_once:L308: [ 90/100] Training Loss: 1.2870 - MeanSquaredError: 0.7608 - R2Score: 0.2392\n",
      "INFO:2022-05-09 11:36:39,693:emulator:_train_once:L308: [ 91/100] Training Loss: 1.2869 - MeanSquaredError: 0.7608 - R2Score: 0.2392\n",
      "INFO:2022-05-09 11:36:39,703:emulator:_train_once:L308: [ 92/100] Training Loss: 1.2869 - MeanSquaredError: 0.7608 - R2Score: 0.2392\n",
      "INFO:2022-05-09 11:36:39,712:emulator:_train_once:L308: [ 93/100] Training Loss: 1.2869 - MeanSquaredError: 0.7607 - R2Score: 0.2393\n",
      "INFO:2022-05-09 11:36:39,722:emulator:_train_once:L308: [ 94/100] Training Loss: 1.2869 - MeanSquaredError: 0.7607 - R2Score: 0.2393\n",
      "INFO:2022-05-09 11:36:39,731:emulator:_train_once:L308: [ 95/100] Training Loss: 1.2868 - MeanSquaredError: 0.7607 - R2Score: 0.2393\n",
      "INFO:2022-05-09 11:36:39,741:emulator:_train_once:L308: [ 96/100] Training Loss: 1.2868 - MeanSquaredError: 0.7607 - R2Score: 0.2393\n",
      "INFO:2022-05-09 11:36:39,752:emulator:_train_once:L308: [ 97/100] Training Loss: 1.2868 - MeanSquaredError: 0.7606 - R2Score: 0.2394\n",
      "INFO:2022-05-09 11:36:39,760:emulator:_train_once:L308: [ 98/100] Training Loss: 1.2867 - MeanSquaredError: 0.7606 - R2Score: 0.2394\n",
      "INFO:2022-05-09 11:36:39,770:emulator:_train_once:L308: [ 99/100] Training Loss: 1.2867 - MeanSquaredError: 0.7606 - R2Score: 0.2394\n",
      "INFO:2022-05-09 11:36:39,780:emulator:_train_once:L308: [100/100] Training Loss: 1.2867 - MeanSquaredError: 0.7605 - R2Score: 0.2395\n",
      "INFO:2022-05-09 11:36:39,784:emulator:train:L112: Run restart 3.\n",
      "INFO:2022-05-09 11:36:39,784:emulator:train:L115: Trained emulator...\n",
      "INFO:2022-05-09 11:36:39,785:emulator:train:L155: Loading best model (restart: 2, epoch: 100)...\n",
      "INFO:2022-05-09 11:36:39,788:emulator:train:L166: Loaded best model (restart: 2, epoch: 100).\n",
      "INFO:2022-05-09 11:36:39,788:emulator:train:L183: Loading best train stats (restart: 2, epoch: 100)...\n",
      "INFO:2022-05-09 11:36:39,790:emulator:train:L206: The fitted emulator hyperparameters are:\n"
     ]
    },
    {
     "name": "stdout",
     "output_type": "stream",
     "text": [
      "\n",
      "Bias: 1.8332\n",
      "Weights: -0.6121804118156433\n",
      "Outputscale: 2.9808\n",
      "Lengthscales: 0.11815831810235977\n",
      "Likelihood noise: 0.0001\n"
     ]
    },
    {
     "data": {
      "image/png": "[encoded data removed]",
      "text/plain": [
       "<Figure size 568x337 with 1 Axes>"
      ]
     },
     "metadata": {
      "needs_background": "light"
     },
     "output_type": "display_data"
    },
    {
     "name": "stdout",
     "output_type": "stream",
     "text": [
      "1.0009308\n"
     ]
    }
   ],
   "source": [
    "# we add extra point at the end\n",
    "\n",
    "dataset_2 = Dataset.build_from_function(\n",
    "    f,\n",
    "    D,\n",
    "    n_train_samples=10,\n",
    "    n_test_samples=0,\n",
    "    design=\"srs\",\n",
    "    seed=2,\n",
    "    l_bounds=[0.8],\n",
    "    u_bounds=[1]  \n",
    ")\n",
    "\n",
    "\n",
    "# we merge them\n",
    "\n",
    "dataset = dataset_1\n",
    "\n",
    "dataset.X_train = np.vstack([dataset_1.X_train,dataset_2.X_train])\n",
    "dataset.y_train = np.append(dataset_1.y_train,dataset_2.y_train)\n",
    "\n",
    "dataset.sample_size = dataset_1.sample_size + dataset_2.sample_size\n",
    "\n",
    "dataset.l_bounds = [np.min([dataset_1.l_bounds[0],dataset_2.l_bounds[0]])]\n",
    "dataset.u_bounds = [np.max([dataset_1.u_bounds[0],dataset_2.u_bounds[0]])]\n",
    "\n",
    "# choose likelihood\n",
    "from gpytorch.likelihoods import GaussianLikelihood\n",
    "likelihood = GaussianLikelihood()\n",
    "\n",
    "# choose mean function\n",
    "from gpytorch.means import LinearMean\n",
    "mean_function = LinearMean(input_size=dataset.input_size)\n",
    "\n",
    "# choose covariance function (kernel)\n",
    "from gpytorch.kernels import RBFKernel, ScaleKernel\n",
    "kernel = ScaleKernel(RBFKernel(ard_num_dims=dataset.input_size))\n",
    "\n",
    "# choose metrics\n",
    "from torchmetrics import MeanSquaredError, R2Score\n",
    "metrics = [MeanSquaredError(), R2Score()]\n",
    "\n",
    "# define experiment\n",
    "from GPErks.gp.experiment import GPExperiment\n",
    "experiment = GPExperiment(\n",
    "    dataset,\n",
    "    likelihood,\n",
    "    mean_function,\n",
    "    kernel,\n",
    "    n_restarts=3,\n",
    "    metrics=metrics,\n",
    "    seed=2,  # reproducible training\n",
    "    learn_noise=True  # y = f(x) + e, e ~ N(0, sigma^2I)\n",
    ")\n",
    "\n",
    "# train model\n",
    "from GPErks.train.emulator import GPEmulator\n",
    "import torch\n",
    "emulator = GPEmulator(experiment, device=\"cpu\")\n",
    "optimizer = torch.optim.Adam(experiment.model.parameters(), lr=0.1)\n",
    "emulator.train(optimizer)\n",
    "\n",
    "import numpy as np\n",
    "\n",
    "x_train = dataset.X_train\n",
    "y_train = dataset.y_train\n",
    "\n",
    "xx = np.linspace(dataset.l_bounds[0], dataset.u_bounds[0], 1000)\n",
    "\n",
    "yy_mean, yy_std = emulator.predict(xx)\n",
    "yy_true = f(xx)\n",
    "\n",
    "import matplotlib.pyplot as plt\n",
    "height = 9.36111\n",
    "width = 5.91667\n",
    "fig, axis = plt.subplots(1, 1, figsize=(4*width/3, height/2))\n",
    "\n",
    "axis.plot(xx, yy_true, c=\"C0\", ls=\"--\", label=\"true function\")\n",
    "\n",
    "CI = 2\n",
    "axis.plot(xx, yy_mean, c=\"C0\", label=\"predicted mean\")\n",
    "axis.fill_between(\n",
    "    xx, yy_mean - CI * yy_std, yy_mean + CI * yy_std, color=\"C0\", alpha=0.15, label=\"~95% CI\"\n",
    ")\n",
    "axis.scatter(x_train, y_train, fc=\"C0\", ec=\"C0\", label=\"training data\")\n",
    "axis.set_ylim([-2,4])\n",
    "axis.legend(loc=\"best\")\n",
    "fig.tight_layout()\n",
    "plt.show()\n",
    "\n",
    "print(np.max(yy_std[200:900]))"
   ]
  },
  {
   "cell_type": "code",
   "execution_count": null,
   "metadata": {},
   "outputs": [],
   "source": []
  }
 ],
 "metadata": {
  "kernelspec": {
   "display_name": "python3.8-hm",
   "language": "python",
   "name": "python3.8-hm"
  },
  "language_info": {
   "codemirror_mode": {
    "name": "ipython",
    "version": 3
   },
   "file_extension": ".py",
   "mimetype": "text/x-python",
   "name": "python",
   "nbconvert_exporter": "python",
   "pygments_lexer": "ipython3",
   "version": "3.8.10"
  }
 },
 "nbformat": 4,
 "nbformat_minor": 2
}
